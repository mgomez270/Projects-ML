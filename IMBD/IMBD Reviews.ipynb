{
 "cells": [
  {
   "cell_type": "markdown",
   "metadata": {
    "id": "JJAdBOz2rEnj"
   },
   "source": [
    "#CNN IMBD"
   ]
  },
  {
   "metadata": {
    "ExecuteTime": {
     "end_time": "2025-08-26T23:11:35.682623Z",
     "start_time": "2025-08-26T23:11:27.005763Z"
    }
   },
   "cell_type": "code",
   "source": "import pandas as pd",
   "outputs": [],
   "execution_count": 1
  },
  {
   "cell_type": "code",
   "metadata": {
    "id": "GJIARvp7rD9u",
    "jupyter": {
     "is_executing": true
    },
    "ExecuteTime": {
     "start_time": "2025-08-26T23:11:35.879913Z"
    }
   },
   "source": [
    "import pandas as pd\n",
    "import matplotlib.pyplot as plt\n",
    "import numpy as np\n",
    "import tensorflow as tf\n",
    "from tensorflow.keras.preprocessing.text import Tokenizer\n",
    "from tensorflow.keras.preprocessing.sequence import pad_sequences\n",
    "from sklearn.feature_extraction.text import CountVectorizer"
   ],
   "outputs": [],
   "execution_count": null
  },
  {
   "cell_type": "code",
   "metadata": {
    "colab": {
     "base_uri": "https://localhost:8080/"
    },
    "id": "pCA4Gim903zr",
    "outputId": "b8ab92a3-f40c-47a9-ce4d-a1e5a196339e",
    "ExecuteTime": {
     "end_time": "2025-08-25T22:53:33.829388Z",
     "start_time": "2025-08-25T22:53:26.532352Z"
    }
   },
   "source": [
    "import nltk\n",
    "from nltk.corpus import stopwords\n",
    "from nltk.corpus import words\n",
    "\n",
    "nltk.download('wordnet')\n",
    "nltk.download('stopwords')\n",
    "nltk.download('words')\n",
    "english_words = set(words.words())\n",
    "import re\n",
    "import string\n",
    "from nltk.stem import WordNetLemmatizer\n",
    "lemmatizer = WordNetLemmatizer()"
   ],
   "outputs": [
    {
     "name": "stderr",
     "output_type": "stream",
     "text": [
      "[nltk_data] Downloading package wordnet to\n",
      "[nltk_data]     C:\\Users\\maico\\AppData\\Roaming\\nltk_data...\n",
      "[nltk_data]   Package wordnet is already up-to-date!\n",
      "[nltk_data] Downloading package stopwords to\n",
      "[nltk_data]     C:\\Users\\maico\\AppData\\Roaming\\nltk_data...\n",
      "[nltk_data]   Package stopwords is already up-to-date!\n",
      "[nltk_data] Downloading package words to\n",
      "[nltk_data]     C:\\Users\\maico\\AppData\\Roaming\\nltk_data...\n",
      "[nltk_data]   Package words is already up-to-date!\n"
     ]
    }
   ],
   "execution_count": 11
  },
  {
   "metadata": {
    "ExecuteTime": {
     "end_time": "2025-08-25T22:41:28.316882Z",
     "start_time": "2025-08-25T22:41:27.055789Z"
    }
   },
   "cell_type": "code",
   "source": [
    "import os\n",
    "print(os.getcwd())\n"
   ],
   "outputs": [
    {
     "name": "stdout",
     "output_type": "stream",
     "text": [
      "C:\\Users\\maico\\OneDrive\\Documents\\Repositorio-Git-Alejandro\\IMBD\n"
     ]
    }
   ],
   "execution_count": 23
  },
  {
   "metadata": {
    "ExecuteTime": {
     "end_time": "2025-08-25T22:44:22.027880Z",
     "start_time": "2025-08-25T22:44:21.299901Z"
    }
   },
   "cell_type": "code",
   "source": [
    "import os\n",
    "print(\"Directorio actual:\", os.getcwd())\n",
    "print(\"Archivos en el directorio actual:\", os.listdir())\n"
   ],
   "outputs": [
    {
     "name": "stdout",
     "output_type": "stream",
     "text": [
      "Directorio actual: C:\\Users\\maico\\OneDrive\\Documents\\Repositorio-Git-Alejandro\\IMBD\n",
      "Archivos en el directorio actual: ['IMBD Reviews.ipynb', 'IMDB Dataset.csv']\n"
     ]
    }
   ],
   "execution_count": 27
  },
  {
   "cell_type": "code",
   "metadata": {
    "id": "YPQrxT7QraVT",
    "ExecuteTime": {
     "end_time": "2025-08-25T22:51:24.303883Z",
     "start_time": "2025-08-25T22:51:17.960032Z"
    }
   },
   "source": "df = pd.read_csv(\"./Data/IMDB Dataset.csv\")",
   "outputs": [],
   "execution_count": 4
  },
  {
   "cell_type": "code",
   "metadata": {
    "colab": {
     "base_uri": "https://localhost:8080/",
     "height": 206
    },
    "id": "_ntVLF367Yxj",
    "outputId": "977e1ea7-7dcb-4fc7-9887-48d58fc95cf6",
    "ExecuteTime": {
     "end_time": "2025-08-25T22:51:46.893263Z",
     "start_time": "2025-08-25T22:51:46.842182Z"
    }
   },
   "source": [
    "df.head()"
   ],
   "outputs": [
    {
     "data": {
      "text/plain": [
       "                                              review  sentiment\n",
       "0  One of the other reviewers has mentioned that ...          1\n",
       "1  A wonderful little production. <br /><br />The...          1\n",
       "2  I thought this was a wonderful way to spend ti...          1\n",
       "3  Basically there's a family where a little boy ...          0\n",
       "4  Petter Mattei's \"Love in the Time of Money\" is...          1"
      ],
      "text/html": [
       "<div>\n",
       "<style scoped>\n",
       "    .dataframe tbody tr th:only-of-type {\n",
       "        vertical-align: middle;\n",
       "    }\n",
       "\n",
       "    .dataframe tbody tr th {\n",
       "        vertical-align: top;\n",
       "    }\n",
       "\n",
       "    .dataframe thead th {\n",
       "        text-align: right;\n",
       "    }\n",
       "</style>\n",
       "<table border=\"1\" class=\"dataframe\">\n",
       "  <thead>\n",
       "    <tr style=\"text-align: right;\">\n",
       "      <th></th>\n",
       "      <th>review</th>\n",
       "      <th>sentiment</th>\n",
       "    </tr>\n",
       "  </thead>\n",
       "  <tbody>\n",
       "    <tr>\n",
       "      <th>0</th>\n",
       "      <td>One of the other reviewers has mentioned that ...</td>\n",
       "      <td>1</td>\n",
       "    </tr>\n",
       "    <tr>\n",
       "      <th>1</th>\n",
       "      <td>A wonderful little production. &lt;br /&gt;&lt;br /&gt;The...</td>\n",
       "      <td>1</td>\n",
       "    </tr>\n",
       "    <tr>\n",
       "      <th>2</th>\n",
       "      <td>I thought this was a wonderful way to spend ti...</td>\n",
       "      <td>1</td>\n",
       "    </tr>\n",
       "    <tr>\n",
       "      <th>3</th>\n",
       "      <td>Basically there's a family where a little boy ...</td>\n",
       "      <td>0</td>\n",
       "    </tr>\n",
       "    <tr>\n",
       "      <th>4</th>\n",
       "      <td>Petter Mattei's \"Love in the Time of Money\" is...</td>\n",
       "      <td>1</td>\n",
       "    </tr>\n",
       "  </tbody>\n",
       "</table>\n",
       "</div>"
      ]
     },
     "execution_count": 7,
     "metadata": {},
     "output_type": "execute_result"
    }
   ],
   "execution_count": 7
  },
  {
   "cell_type": "code",
   "metadata": {
    "id": "9kO-z12_7Ty8",
    "ExecuteTime": {
     "end_time": "2025-08-25T22:51:31.621097Z",
     "start_time": "2025-08-25T22:51:31.546417Z"
    }
   },
   "source": [
    "df['sentiment'] = df['sentiment'].apply(lambda x: 1 if x == 'positive' else 0)"
   ],
   "outputs": [],
   "execution_count": 6
  },
  {
   "cell_type": "code",
   "metadata": {
    "id": "smQy4TYd0yY9",
    "ExecuteTime": {
     "end_time": "2025-08-25T22:53:39.704542Z",
     "start_time": "2025-08-25T22:53:39.628330Z"
    }
   },
   "source": [
    "def preprocess_text(text):\n",
    "    # Convertir a minúsculas\n",
    "    text = text.lower()\n",
    "\n",
    "    # Eliminar etiquetas HTML como <br /><br />\n",
    "    text = re.sub(r'<.*?>', '', text)\n",
    "\n",
    "    # Eliminar nombres propios (inician con mayúscula después de un espacio o en medio de la frase)\n",
    "    text = re.sub(r'\\b[A-Z][a-z]+(?:\\'[a-z]+)?\\b', '', text)\n",
    "\n",
    "    # Eliminar frases entre comillas dobles\n",
    "    text = re.sub(r'\\\".*?\\\"', '', text)\n",
    "\n",
    "    # Eliminar contenido entre corchetes\n",
    "    text = re.sub(r'\\[.*?\\]', '', text)\n",
    "\n",
    "    # Eliminar puntuación\n",
    "    text = re.sub(r'[%s]' % re.escape(string.punctuation), '', text)\n",
    "\n",
    "    # Eliminar palabras con números\n",
    "    text = re.sub(r'\\w*\\d\\w*', '', text)\n",
    "\n",
    "    # Eliminar caracteres repetidos\n",
    "    text = re.sub(r'(.)\\1{2,}', r'\\1', text)\n",
    "\n",
    "    # Eliminar números\n",
    "    text = re.sub(r'\\d+', '', text)\n",
    "\n",
    "    # Eliminar palabras muy largas o muy cortas\n",
    "    text = ' '.join([word for word in text.split() if 2 <= len(word) <= 16])\n",
    "\n",
    "    # Eliminar stopwords, conservando palabras específicas\n",
    "    stop_words = set(stopwords.words('english'))\n",
    "    keep_words = {'what', 'who', 'why', 'when', 'where', 'how'}  # Palabras importantes\n",
    "    words = text.split()\n",
    "    text = ' '.join([word for word in words if word not in stop_words or word in keep_words])\n",
    "\n",
    "    # Lematización\n",
    "    lemmatizer = WordNetLemmatizer()\n",
    "    text = ' '.join([lemmatizer.lemmatize(word) for word in text.split()])\n",
    "\n",
    "    # Filtrar palabras que contengan solo letras\n",
    "    text = ' '.join([word for word in text.split() if word.isalpha()])\n",
    "\n",
    "    # Filtrar palabras con prefijos anómalos\n",
    "    text = ' '.join([word for word in text.split() if not word.startswith('aa')])\n",
    "\n",
    "    return text\n"
   ],
   "outputs": [],
   "execution_count": 12
  },
  {
   "cell_type": "code",
   "metadata": {
    "id": "wNEinLQh4FIg",
    "ExecuteTime": {
     "end_time": "2025-08-25T22:52:55.064507Z",
     "start_time": "2025-08-25T22:52:53.552554Z"
    }
   },
   "source": [
    "df_preprocessed = df.copy()"
   ],
   "outputs": [],
   "execution_count": 9
  },
  {
   "cell_type": "code",
   "metadata": {
    "id": "IKjT_AVJ1b1K",
    "ExecuteTime": {
     "end_time": "2025-08-25T22:55:43.931805Z",
     "start_time": "2025-08-25T22:53:43.541908Z"
    }
   },
   "source": [
    "df_preprocessed['review'] = df_preprocessed['review'].apply(preprocess_text)"
   ],
   "outputs": [],
   "execution_count": 13
  },
  {
   "metadata": {
    "ExecuteTime": {
     "end_time": "2025-08-25T22:55:46.493356Z",
     "start_time": "2025-08-25T22:55:46.178847Z"
    }
   },
   "cell_type": "code",
   "source": "df.head()",
   "outputs": [
    {
     "data": {
      "text/plain": [
       "                                              review  sentiment\n",
       "0  One of the other reviewers has mentioned that ...          1\n",
       "1  A wonderful little production. <br /><br />The...          1\n",
       "2  I thought this was a wonderful way to spend ti...          1\n",
       "3  Basically there's a family where a little boy ...          0\n",
       "4  Petter Mattei's \"Love in the Time of Money\" is...          1"
      ],
      "text/html": [
       "<div>\n",
       "<style scoped>\n",
       "    .dataframe tbody tr th:only-of-type {\n",
       "        vertical-align: middle;\n",
       "    }\n",
       "\n",
       "    .dataframe tbody tr th {\n",
       "        vertical-align: top;\n",
       "    }\n",
       "\n",
       "    .dataframe thead th {\n",
       "        text-align: right;\n",
       "    }\n",
       "</style>\n",
       "<table border=\"1\" class=\"dataframe\">\n",
       "  <thead>\n",
       "    <tr style=\"text-align: right;\">\n",
       "      <th></th>\n",
       "      <th>review</th>\n",
       "      <th>sentiment</th>\n",
       "    </tr>\n",
       "  </thead>\n",
       "  <tbody>\n",
       "    <tr>\n",
       "      <th>0</th>\n",
       "      <td>One of the other reviewers has mentioned that ...</td>\n",
       "      <td>1</td>\n",
       "    </tr>\n",
       "    <tr>\n",
       "      <th>1</th>\n",
       "      <td>A wonderful little production. &lt;br /&gt;&lt;br /&gt;The...</td>\n",
       "      <td>1</td>\n",
       "    </tr>\n",
       "    <tr>\n",
       "      <th>2</th>\n",
       "      <td>I thought this was a wonderful way to spend ti...</td>\n",
       "      <td>1</td>\n",
       "    </tr>\n",
       "    <tr>\n",
       "      <th>3</th>\n",
       "      <td>Basically there's a family where a little boy ...</td>\n",
       "      <td>0</td>\n",
       "    </tr>\n",
       "    <tr>\n",
       "      <th>4</th>\n",
       "      <td>Petter Mattei's \"Love in the Time of Money\" is...</td>\n",
       "      <td>1</td>\n",
       "    </tr>\n",
       "  </tbody>\n",
       "</table>\n",
       "</div>"
      ]
     },
     "execution_count": 14,
     "metadata": {},
     "output_type": "execute_result"
    }
   ],
   "execution_count": 14
  },
  {
   "cell_type": "code",
   "metadata": {
    "colab": {
     "base_uri": "https://localhost:8080/",
     "height": 206
    },
    "id": "_CGkjHmqImg1",
    "outputId": "730e8a91-3d72-498a-eefe-b889a5ca3128",
    "ExecuteTime": {
     "end_time": "2025-08-25T22:55:46.545757Z",
     "start_time": "2025-08-25T22:55:46.522593Z"
    }
   },
   "source": [
    "df_preprocessed.head()"
   ],
   "outputs": [
    {
     "data": {
      "text/plain": [
       "                                              review  sentiment\n",
       "0  one reviewer mentioned watching oz episode you...          1\n",
       "1  wonderful little production filming technique ...          1\n",
       "2  thought wonderful way spend time hot summer we...          1\n",
       "3  basically there family where little boy jake t...          0\n",
       "4  petter matteis visually stunning film watch mr...          1"
      ],
      "text/html": [
       "<div>\n",
       "<style scoped>\n",
       "    .dataframe tbody tr th:only-of-type {\n",
       "        vertical-align: middle;\n",
       "    }\n",
       "\n",
       "    .dataframe tbody tr th {\n",
       "        vertical-align: top;\n",
       "    }\n",
       "\n",
       "    .dataframe thead th {\n",
       "        text-align: right;\n",
       "    }\n",
       "</style>\n",
       "<table border=\"1\" class=\"dataframe\">\n",
       "  <thead>\n",
       "    <tr style=\"text-align: right;\">\n",
       "      <th></th>\n",
       "      <th>review</th>\n",
       "      <th>sentiment</th>\n",
       "    </tr>\n",
       "  </thead>\n",
       "  <tbody>\n",
       "    <tr>\n",
       "      <th>0</th>\n",
       "      <td>one reviewer mentioned watching oz episode you...</td>\n",
       "      <td>1</td>\n",
       "    </tr>\n",
       "    <tr>\n",
       "      <th>1</th>\n",
       "      <td>wonderful little production filming technique ...</td>\n",
       "      <td>1</td>\n",
       "    </tr>\n",
       "    <tr>\n",
       "      <th>2</th>\n",
       "      <td>thought wonderful way spend time hot summer we...</td>\n",
       "      <td>1</td>\n",
       "    </tr>\n",
       "    <tr>\n",
       "      <th>3</th>\n",
       "      <td>basically there family where little boy jake t...</td>\n",
       "      <td>0</td>\n",
       "    </tr>\n",
       "    <tr>\n",
       "      <th>4</th>\n",
       "      <td>petter matteis visually stunning film watch mr...</td>\n",
       "      <td>1</td>\n",
       "    </tr>\n",
       "  </tbody>\n",
       "</table>\n",
       "</div>"
      ]
     },
     "execution_count": 15,
     "metadata": {},
     "output_type": "execute_result"
    }
   ],
   "execution_count": 15
  },
  {
   "cell_type": "markdown",
   "metadata": {
    "id": "NNuynjXOCzz6"
   },
   "source": [
    "Generar bigramas"
   ]
  },
  {
   "cell_type": "code",
   "metadata": {
    "id": "t-GGRgyQJlGF",
    "ExecuteTime": {
     "end_time": "2025-08-25T22:56:13.835471Z",
     "start_time": "2025-08-25T22:56:13.697300Z"
    }
   },
   "source": [
    "from nltk import ngrams as nltk_ngrams # Import ngrams and give it a unique name\n"
   ],
   "outputs": [],
   "execution_count": 16
  },
  {
   "cell_type": "code",
   "metadata": {
    "id": "mWHxi35y1OXG",
    "ExecuteTime": {
     "end_time": "2025-08-25T22:56:29.187163Z",
     "start_time": "2025-08-25T22:56:18.226738Z"
    }
   },
   "source": [
    "def generate_ngrams(text, n):\n",
    "    tokens = text.lower().split()\n",
    "    n_grams = list(nltk_ngrams(tokens, n))  # Use the imported function\n",
    "    return n_grams\n",
    "\n",
    "n = 2  # You can change this to generate different n-grams (e.g., 3 for trigrams)\n",
    "df_preprocessed['ngrams'] = df_preprocessed['review'].apply(lambda x: generate_ngrams(x, n))\n",
    "\n",
    "# Separate ngrams by sentiment\n",
    "positive_ngrams = [ngram for sentiment, ngrams_list in zip(df_preprocessed['sentiment'], df_preprocessed['ngrams'])\n",
    "                   if sentiment == 1 for ngram in ngrams_list]\n",
    "negative_ngrams = [ngram for sentiment, ngrams_list in zip(df_preprocessed['sentiment'], df_preprocessed['ngrams'])\n",
    "                   if sentiment == 0 for ngram in ngrams_list]"
   ],
   "outputs": [],
   "execution_count": 17
  },
  {
   "cell_type": "code",
   "metadata": {
    "colab": {
     "base_uri": "https://localhost:8080/"
    },
    "id": "s1Ap9NQqDJID",
    "outputId": "f7ef9595-c757-4f1c-f50d-46b8646a7621",
    "ExecuteTime": {
     "end_time": "2025-08-25T22:56:41.811626Z",
     "start_time": "2025-08-25T22:56:41.502464Z"
    }
   },
   "source": [
    "len(positive_ngrams)"
   ],
   "outputs": [
    {
     "data": {
      "text/plain": [
       "2947978"
      ]
     },
     "execution_count": 18,
     "metadata": {},
     "output_type": "execute_result"
    }
   ],
   "execution_count": 18
  },
  {
   "cell_type": "code",
   "metadata": {
    "colab": {
     "base_uri": "https://localhost:8080/"
    },
    "id": "uSkH7FPcDSlC",
    "outputId": "f85ab36f-908e-4fe4-af53-8ababca86b2e",
    "ExecuteTime": {
     "end_time": "2025-08-25T22:56:47.593575Z",
     "start_time": "2025-08-25T22:56:47.511186Z"
    }
   },
   "source": [
    "len(negative_ngrams)"
   ],
   "outputs": [
    {
     "data": {
      "text/plain": [
       "2878016"
      ]
     },
     "execution_count": 19,
     "metadata": {},
     "output_type": "execute_result"
    }
   ],
   "execution_count": 19
  },
  {
   "cell_type": "markdown",
   "metadata": {
    "id": "A7rEjo0nC9Nx"
   },
   "source": [
    "contar frecuencias"
   ]
  },
  {
   "cell_type": "code",
   "metadata": {
    "id": "Oh1MvBgWDq-H",
    "ExecuteTime": {
     "end_time": "2025-08-25T22:57:42.463913Z",
     "start_time": "2025-08-25T22:57:42.427471Z"
    }
   },
   "source": [
    "\n",
    "from collections import Counter\n"
   ],
   "outputs": [],
   "execution_count": 21
  },
  {
   "cell_type": "code",
   "metadata": {
    "id": "4seP0tq-Dkbs",
    "ExecuteTime": {
     "end_time": "2025-08-25T22:57:59.546863Z",
     "start_time": "2025-08-25T22:57:44.421262Z"
    }
   },
   "source": [
    "positive_ngram_counts = Counter(positive_ngrams)\n",
    "negative_ngram_counts = Counter(negative_ngrams)\n"
   ],
   "outputs": [],
   "execution_count": 22
  },
  {
   "cell_type": "markdown",
   "metadata": {
    "id": "t5yuusJAIrhi"
   },
   "source": [
    "Calcular diferencia de frecuencias"
   ]
  },
  {
   "metadata": {},
   "cell_type": "markdown",
   "source": "Ayuda a evitar tener en cuenta ngramas que se repitan tanto en comentarios positivos como en negativos, los cuales no terminan siendo de mucha ayuda"
  },
  {
   "cell_type": "code",
   "metadata": {
    "id": "Zvg9DQCZ1ORE",
    "ExecuteTime": {
     "end_time": "2025-08-25T22:58:45.796630Z",
     "start_time": "2025-08-25T22:58:09.964504Z"
    }
   },
   "source": [
    "all_words = set(negative_ngram_counts.keys()).union(set(positive_ngram_counts.keys()))\n",
    "\n",
    "# Crear un diccionario para las diferencias de frecuencias\n",
    "frequency_differences = {}\n",
    "\n",
    "for word in all_words:\n",
    "    # Obtén la frecuencia de cada palabra en ambas listas, si no existe, asigna 0\n",
    "    negative_freq = negative_ngram_counts.get(word, 0)\n",
    "    positive_freq = positive_ngram_counts.get(word, 0)\n",
    "\n",
    "    # Restar la frecuencia de las palabras\n",
    "    frequency_differences[word] =  positive_freq - negative_freq\n",
    "\n",
    "# Ordenar las palabras por la diferencia de frecuencias (de mayor a menor)\n",
    "sorted_frequency_differences = sorted(frequency_differences.items(), key=lambda x: x[1], reverse=True)"
   ],
   "outputs": [],
   "execution_count": 23
  },
  {
   "cell_type": "code",
   "metadata": {
    "colab": {
     "base_uri": "https://localhost:8080/"
    },
    "id": "5UYMo9zB1OOE",
    "outputId": "5ddbc07f-7ff1-445a-fc44-49fd73a6cdd2",
    "jupyter": {
     "is_executing": true
    },
    "ExecuteTime": {
     "start_time": "2025-08-26T02:23:50.698006Z"
    }
   },
   "source": "sorted_frequency_differences[10:]",
   "outputs": [],
   "execution_count": null
  },
  {
   "cell_type": "code",
   "metadata": {
    "colab": {
     "base_uri": "https://localhost:8080/",
     "height": 606
    },
    "id": "tW80dgGmIhZP",
    "outputId": "3a70f175-edb5-4953-bf29-a8e6d0eb8997",
    "ExecuteTime": {
     "end_time": "2025-08-25T23:00:56.611336Z",
     "start_time": "2025-08-25T23:00:49.878171Z"
    }
   },
   "source": [
    "words = [str(word) for word, freq in sorted_frequency_differences[:10]]  # Convert tuples to strings\n",
    "differences = [abs(freq) for word, freq in sorted_frequency_differences[:10]]\n",
    "\n",
    "# Create the first bar plot\n",
    "plt.figure(figsize=(12, 6))  # Adjust figure size as needed\n",
    "plt.subplot(1,2,1) # Create a subplot for the first graph\n",
    "plt.bar(words, differences)\n",
    "plt.xlabel(\"Bigrams\")\n",
    "plt.ylabel(\"Frequency Difference (Positive - Negative)\")\n",
    "plt.title(\"Top 10 Bigrams by Frequency Difference\")\n",
    "plt.xticks(rotation=45, ha='right')  # Rotate x-axis labels for better readability\n",
    "plt.tight_layout() # Adjust layout to prevent labels from overlapping\n",
    "\n",
    "words = [str(word) for word, freq in sorted_frequency_differences[-10:]]  # Convert tuples to strings\n",
    "differences = [abs(freq) for word, freq in sorted_frequency_differences[-10:]]\n",
    "\n",
    "# Create the second bar plot in the same figure\n",
    "plt.subplot(1,2,2) # Create a subplot for the second graph\n",
    "plt.bar(words, differences,color = 'r',alpha = 0.5)\n",
    "plt.xlabel(\"Bigrams\")\n",
    "plt.ylabel(\"Frequency Difference (Positive - Negative)\")\n",
    "plt.title(\"Top 10 Bigrams with Lowest Frequency Difference\")\n",
    "plt.xticks(rotation=45, ha='right')  # Rotate x-axis labels for readability\n",
    "plt.tight_layout()\n",
    "\n",
    "plt.show()"
   ],
   "outputs": [
    {
     "data": {
      "text/plain": [
       "<Figure size 1200x600 with 2 Axes>"
      ],
      "image/png": "[encoded data removed]"
     },
     "metadata": {},
     "output_type": "display_data"
    }
   ],
   "execution_count": 25
  },
  {
   "cell_type": "code",
   "execution_count": null,
   "metadata": {
    "colab": {
     "base_uri": "https://localhost:8080/",
     "height": 607
    },
    "id": "weBpHZc38p6w",
    "outputId": "8dbcffe8-be1a-47bd-c980-71a328a0445a"
   },
   "outputs": [
    {
     "data": {
      "image/png": "[encoded data removed]",
      "text/plain": [
       "<Figure size 1200x600 with 2 Axes>"
      ]
     },
     "metadata": {},
     "output_type": "display_data"
    }
   ],
   "source": [
    "# Get the most frequent N-grams (adjust top_n as needed)\n",
    "top_n = 10\n",
    "\n",
    "top_positive_ngrams = positive_ngram_counts.most_common(top_n)\n",
    "top_negative_ngrams = negative_ngram_counts.most_common(top_n)\n",
    "\n",
    "#Prepare data for plotting\n",
    "ngrams_pos = [str(ngram) for ngram, count in top_positive_ngrams]\n",
    "counts_pos = [count for ngram, count in top_positive_ngrams]\n",
    "\n",
    "ngrams_neg = [str(ngram) for ngram, count in top_negative_ngrams]\n",
    "counts_neg = [count for ngram, count in top_negative_ngrams]\n",
    "\n",
    "#Plot\n",
    "\n",
    "plt.figure(figsize=(12, 6))\n",
    "\n",
    "plt.subplot(1, 2, 1)\n",
    "plt.bar(ngrams_pos, counts_pos)\n",
    "plt.title(f'Top {top_n} Most Frequent {n}-grams (Positive)')\n",
    "plt.xticks(rotation=45, ha='right')\n",
    "\n",
    "plt.subplot(1, 2, 2)\n",
    "plt.bar(ngrams_neg, counts_neg)\n",
    "plt.title(f'Top {top_n} Most Frequent {n}-grams (Negative)')\n",
    "plt.xticks(rotation=45, ha='right')\n",
    "\n",
    "\n",
    "plt.tight_layout()\n",
    "plt.show()"
   ]
  },
  {
   "cell_type": "code",
   "execution_count": null,
   "metadata": {
    "colab": {
     "base_uri": "https://localhost:8080/",
     "height": 206
    },
    "id": "KW3P2phiM272",
    "outputId": "1b0ae0aa-3c71-481d-887b-f20bbac4c1a0"
   },
   "outputs": [
    {
     "data": {
      "application/vnd.google.colaboratory.intrinsic+json": {
       "summary": "{\n  \"name\": \"df_preprocessed\",\n  \"rows\": 50000,\n  \"fields\": [\n    {\n      \"column\": \"review\",\n      \"properties\": {\n        \"dtype\": \"string\",\n        \"num_unique_values\": 49577,\n        \"samples\": [\n          \"sat enjoyable fast paced min rollroll country boy mat toby malone who dream becoming sport star mat travel city picked cousin george damien robertson well plan anyway george involved gangster tiny john batchelor making delivery needless say mat get dragged george world thought great how mat teach george moral respect george teach mat how relax enjoy life little toby damien well cast together outstanding jobevery character movie complimented well two cop great david ngoombujarra brought great comic relief movie tiny played likable gangster reminded one favourite character pando two handsone thing liked roll showcased city grew lived year perth fremantle good see sight landmark grew especially old ferris wheelthis rock roll\",\n          \"beautiful rich wellexecuted film rich meaningful story basically tell how old master story teller need find male heir carry craft end getting what expected maledominated world character must deal situation old master must grapple conflict desire companion heir society traditional notionsthe story fun emotional complex exploration character life emotion rich compelling character development strong character complex one dimensional film expertly conveys old man emotion desire find heir compellingly show how kid handle situation also humour sometimes quite subtle appropriate point film also examines good bad traditional chinese culture creating interest depth filmthe directing acting scenery outstanding added strength creates rich convincing visual image compelling real character result film evokes strong empathy feeling characterssome claimed ending weakens film necessarily agree perhaps could stronger different ending improvement overall film would rather small\",\n          \"mean seriously what group would sing crazy car what ten way immature little kid sing mean seriously name pretty corny naked brother take pant how creativei dont get why need tv show mean artist dont really need tv show especially naked brother band heck how many freaking group seriously whats movie jeez nick use hightlight year growing seriously naked brother band many parent would let kid watch especially name naked brother band stupid uncreative show aired onto tv\"\n        ],\n        \"semantic_type\": \"\",\n        \"description\": \"\"\n      }\n    },\n    {\n      \"column\": \"sentiment\",\n      \"properties\": {\n        \"dtype\": \"number\",\n        \"std\": 0,\n        \"min\": 0,\n        \"max\": 1,\n        \"num_unique_values\": 2,\n        \"samples\": [\n          0,\n          1\n        ],\n        \"semantic_type\": \"\",\n        \"description\": \"\"\n      }\n    },\n    {\n      \"column\": \"ngrams\",\n      \"properties\": {\n        \"dtype\": \"object\",\n        \"semantic_type\": \"\",\n        \"description\": \"\"\n      }\n    }\n  ]\n}",
       "type": "dataframe",
       "variable_name": "df_preprocessed"
      },
      "text/html": [
       "\n",
       "  <div id=\"df-767ad832-1ba5-45a7-ba23-b813b67c65b8\" class=\"colab-df-container\">\n",
       "    <div>\n",
       "<style scoped>\n",
       "    .dataframe tbody tr th:only-of-type {\n",
       "        vertical-align: middle;\n",
       "    }\n",
       "\n",
       "    .dataframe tbody tr th {\n",
       "        vertical-align: top;\n",
       "    }\n",
       "\n",
       "    .dataframe thead th {\n",
       "        text-align: right;\n",
       "    }\n",
       "</style>\n",
       "<table border=\"1\" class=\"dataframe\">\n",
       "  <thead>\n",
       "    <tr style=\"text-align: right;\">\n",
       "      <th></th>\n",
       "      <th>review</th>\n",
       "      <th>sentiment</th>\n",
       "      <th>ngrams</th>\n",
       "    </tr>\n",
       "  </thead>\n",
       "  <tbody>\n",
       "    <tr>\n",
       "      <th>0</th>\n",
       "      <td>one reviewer mentioned watching oz episode you...</td>\n",
       "      <td>1</td>\n",
       "      <td>[(one, reviewer), (reviewer, mentioned), (ment...</td>\n",
       "    </tr>\n",
       "    <tr>\n",
       "      <th>1</th>\n",
       "      <td>wonderful little production filming technique ...</td>\n",
       "      <td>1</td>\n",
       "      <td>[(wonderful, little), (little, production), (p...</td>\n",
       "    </tr>\n",
       "    <tr>\n",
       "      <th>2</th>\n",
       "      <td>thought wonderful way spend time hot summer we...</td>\n",
       "      <td>1</td>\n",
       "      <td>[(thought, wonderful), (wonderful, way), (way,...</td>\n",
       "    </tr>\n",
       "    <tr>\n",
       "      <th>3</th>\n",
       "      <td>basically there family where little boy jake t...</td>\n",
       "      <td>0</td>\n",
       "      <td>[(basically, there), (there, family), (family,...</td>\n",
       "    </tr>\n",
       "    <tr>\n",
       "      <th>4</th>\n",
       "      <td>petter matteis visually stunning film watch mr...</td>\n",
       "      <td>1</td>\n",
       "      <td>[(petter, matteis), (matteis, visually), (visu...</td>\n",
       "    </tr>\n",
       "  </tbody>\n",
       "</table>\n",
       "</div>\n",
       "    <div class=\"colab-df-buttons\">\n",
       "\n",
       "  <div class=\"colab-df-container\">\n",
       "    <button class=\"colab-df-convert\" onclick=\"convertToInteractive('df-767ad832-1ba5-45a7-ba23-b813b67c65b8')\"\n",
       "            title=\"Convert this dataframe to an interactive table.\"\n",
       "            style=\"display:none;\">\n",
       "\n",
       "  <svg xmlns=\"http://www.w3.org/2000/svg\" height=\"24px\" viewBox=\"0 -960 960 960\">\n",
       "    <path d=\"M120-120v-720h720v720H120Zm60-500h600v-160H180v160Zm220 220h160v-160H400v160Zm0 220h160v-160H400v160ZM180-400h160v-160H180v160Zm440 0h160v-160H620v160ZM180-180h160v-160H180v160Zm440 0h160v-160H620v160Z\"/>\n",
       "  </svg>\n",
       "    </button>\n",
       "\n",
       "  <style>\n",
       "    .colab-df-container {\n",
       "      display:flex;\n",
       "      gap: 12px;\n",
       "    }\n",
       "\n",
       "    .colab-df-convert {\n",
       "      background-color: #E8F0FE;\n",
       "      border: none;\n",
       "      border-radius: 50%;\n",
       "      cursor: pointer;\n",
       "      display: none;\n",
       "      fill: #1967D2;\n",
       "      height: 32px;\n",
       "      padding: 0 0 0 0;\n",
       "      width: 32px;\n",
       "    }\n",
       "\n",
       "    .colab-df-convert:hover {\n",
       "      background-color: #E2EBFA;\n",
       "      box-shadow: 0px 1px 2px rgba(60, 64, 67, 0.3), 0px 1px 3px 1px rgba(60, 64, 67, 0.15);\n",
       "      fill: #174EA6;\n",
       "    }\n",
       "\n",
       "    .colab-df-buttons div {\n",
       "      margin-bottom: 4px;\n",
       "    }\n",
       "\n",
       "    [theme=dark] .colab-df-convert {\n",
       "      background-color: #3B4455;\n",
       "      fill: #D2E3FC;\n",
       "    }\n",
       "\n",
       "    [theme=dark] .colab-df-convert:hover {\n",
       "      background-color: #434B5C;\n",
       "      box-shadow: 0px 1px 3px 1px rgba(0, 0, 0, 0.15);\n",
       "      filter: drop-shadow(0px 1px 2px rgba(0, 0, 0, 0.3));\n",
       "      fill: #FFFFFF;\n",
       "    }\n",
       "  </style>\n",
       "\n",
       "    <script>\n",
       "      const buttonEl =\n",
       "        document.querySelector('#df-767ad832-1ba5-45a7-ba23-b813b67c65b8 button.colab-df-convert');\n",
       "      buttonEl.style.display =\n",
       "        google.colab.kernel.accessAllowed ? 'block' : 'none';\n",
       "\n",
       "      async function convertToInteractive(key) {\n",
       "        const element = document.querySelector('#df-767ad832-1ba5-45a7-ba23-b813b67c65b8');\n",
       "        const dataTable =\n",
       "          await google.colab.kernel.invokeFunction('convertToInteractive',\n",
       "                                                    [key], {});\n",
       "        if (!dataTable) return;\n",
       "\n",
       "        const docLinkHtml = 'Like what you see? Visit the ' +\n",
       "          '<a target=\"_blank\" href=https://colab.research.google.com/notebooks/data_table.ipynb>data table notebook</a>'\n",
       "          + ' to learn more about interactive tables.';\n",
       "        element.innerHTML = '';\n",
       "        dataTable['output_type'] = 'display_data';\n",
       "        await google.colab.output.renderOutput(dataTable, element);\n",
       "        const docLink = document.createElement('div');\n",
       "        docLink.innerHTML = docLinkHtml;\n",
       "        element.appendChild(docLink);\n",
       "      }\n",
       "    </script>\n",
       "  </div>\n",
       "\n",
       "\n",
       "<div id=\"df-64f65ca8-4d01-494f-b7e3-77a87a791f82\">\n",
       "  <button class=\"colab-df-quickchart\" onclick=\"quickchart('df-64f65ca8-4d01-494f-b7e3-77a87a791f82')\"\n",
       "            title=\"Suggest charts\"\n",
       "            style=\"display:none;\">\n",
       "\n",
       "<svg xmlns=\"http://www.w3.org/2000/svg\" height=\"24px\"viewBox=\"0 0 24 24\"\n",
       "     width=\"24px\">\n",
       "    <g>\n",
       "        <path d=\"M19 3H5c-1.1 0-2 .9-2 2v14c0 1.1.9 2 2 2h14c1.1 0 2-.9 2-2V5c0-1.1-.9-2-2-2zM9 17H7v-7h2v7zm4 0h-2V7h2v10zm4 0h-2v-4h2v4z\"/>\n",
       "    </g>\n",
       "</svg>\n",
       "  </button>\n",
       "\n",
       "<style>\n",
       "  .colab-df-quickchart {\n",
       "      --bg-color: #E8F0FE;\n",
       "      --fill-color: #1967D2;\n",
       "      --hover-bg-color: #E2EBFA;\n",
       "      --hover-fill-color: #174EA6;\n",
       "      --disabled-fill-color: #AAA;\n",
       "      --disabled-bg-color: #DDD;\n",
       "  }\n",
       "\n",
       "  [theme=dark] .colab-df-quickchart {\n",
       "      --bg-color: #3B4455;\n",
       "      --fill-color: #D2E3FC;\n",
       "      --hover-bg-color: #434B5C;\n",
       "      --hover-fill-color: #FFFFFF;\n",
       "      --disabled-bg-color: #3B4455;\n",
       "      --disabled-fill-color: #666;\n",
       "  }\n",
       "\n",
       "  .colab-df-quickchart {\n",
       "    background-color: var(--bg-color);\n",
       "    border: none;\n",
       "    border-radius: 50%;\n",
       "    cursor: pointer;\n",
       "    display: none;\n",
       "    fill: var(--fill-color);\n",
       "    height: 32px;\n",
       "    padding: 0;\n",
       "    width: 32px;\n",
       "  }\n",
       "\n",
       "  .colab-df-quickchart:hover {\n",
       "    background-color: var(--hover-bg-color);\n",
       "    box-shadow: 0 1px 2px rgba(60, 64, 67, 0.3), 0 1px 3px 1px rgba(60, 64, 67, 0.15);\n",
       "    fill: var(--button-hover-fill-color);\n",
       "  }\n",
       "\n",
       "  .colab-df-quickchart-complete:disabled,\n",
       "  .colab-df-quickchart-complete:disabled:hover {\n",
       "    background-color: var(--disabled-bg-color);\n",
       "    fill: var(--disabled-fill-color);\n",
       "    box-shadow: none;\n",
       "  }\n",
       "\n",
       "  .colab-df-spinner {\n",
       "    border: 2px solid var(--fill-color);\n",
       "    border-color: transparent;\n",
       "    border-bottom-color: var(--fill-color);\n",
       "    animation:\n",
       "      spin 1s steps(1) infinite;\n",
       "  }\n",
       "\n",
       "  @keyframes spin {\n",
       "    0% {\n",
       "      border-color: transparent;\n",
       "      border-bottom-color: var(--fill-color);\n",
       "      border-left-color: var(--fill-color);\n",
       "    }\n",
       "    20% {\n",
       "      border-color: transparent;\n",
       "      border-left-color: var(--fill-color);\n",
       "      border-top-color: var(--fill-color);\n",
       "    }\n",
       "    30% {\n",
       "      border-color: transparent;\n",
       "      border-left-color: var(--fill-color);\n",
       "      border-top-color: var(--fill-color);\n",
       "      border-right-color: var(--fill-color);\n",
       "    }\n",
       "    40% {\n",
       "      border-color: transparent;\n",
       "      border-right-color: var(--fill-color);\n",
       "      border-top-color: var(--fill-color);\n",
       "    }\n",
       "    60% {\n",
       "      border-color: transparent;\n",
       "      border-right-color: var(--fill-color);\n",
       "    }\n",
       "    80% {\n",
       "      border-color: transparent;\n",
       "      border-right-color: var(--fill-color);\n",
       "      border-bottom-color: var(--fill-color);\n",
       "    }\n",
       "    90% {\n",
       "      border-color: transparent;\n",
       "      border-bottom-color: var(--fill-color);\n",
       "    }\n",
       "  }\n",
       "</style>\n",
       "\n",
       "  <script>\n",
       "    async function quickchart(key) {\n",
       "      const quickchartButtonEl =\n",
       "        document.querySelector('#' + key + ' button');\n",
       "      quickchartButtonEl.disabled = true;  // To prevent multiple clicks.\n",
       "      quickchartButtonEl.classList.add('colab-df-spinner');\n",
       "      try {\n",
       "        const charts = await google.colab.kernel.invokeFunction(\n",
       "            'suggestCharts', [key], {});\n",
       "      } catch (error) {\n",
       "        console.error('Error during call to suggestCharts:', error);\n",
       "      }\n",
       "      quickchartButtonEl.classList.remove('colab-df-spinner');\n",
       "      quickchartButtonEl.classList.add('colab-df-quickchart-complete');\n",
       "    }\n",
       "    (() => {\n",
       "      let quickchartButtonEl =\n",
       "        document.querySelector('#df-64f65ca8-4d01-494f-b7e3-77a87a791f82 button');\n",
       "      quickchartButtonEl.style.display =\n",
       "        google.colab.kernel.accessAllowed ? 'block' : 'none';\n",
       "    })();\n",
       "  </script>\n",
       "</div>\n",
       "\n",
       "    </div>\n",
       "  </div>\n"
      ],
      "text/plain": [
       "                                              review  sentiment  \\\n",
       "0  one reviewer mentioned watching oz episode you...          1   \n",
       "1  wonderful little production filming technique ...          1   \n",
       "2  thought wonderful way spend time hot summer we...          1   \n",
       "3  basically there family where little boy jake t...          0   \n",
       "4  petter matteis visually stunning film watch mr...          1   \n",
       "\n",
       "                                              ngrams  \n",
       "0  [(one, reviewer), (reviewer, mentioned), (ment...  \n",
       "1  [(wonderful, little), (little, production), (p...  \n",
       "2  [(thought, wonderful), (wonderful, way), (way,...  \n",
       "3  [(basically, there), (there, family), (family,...  \n",
       "4  [(petter, matteis), (matteis, visually), (visu...  "
      ]
     },
     "execution_count": 24,
     "metadata": {},
     "output_type": "execute_result"
    }
   ],
   "source": [
    "df_preprocessed.head()"
   ]
  },
  {
   "cell_type": "code",
   "execution_count": null,
   "metadata": {
    "id": "T5LjGL7bOAEW"
   },
   "outputs": [],
   "source": [
    "positive_reviews = df_preprocessed[df_preprocessed['sentiment'] == 1]['review']\n",
    "negative_reviews = df_preprocessed[df_preprocessed['sentiment'] == 0]['review']\n"
   ]
  },
  {
   "cell_type": "code",
   "execution_count": null,
   "metadata": {
    "colab": {
     "base_uri": "https://localhost:8080/",
     "height": 607
    },
    "id": "ykuO0zrzKaWs",
    "outputId": "e71f976e-5671-431f-c8b3-434b8e1d3c7f"
   },
   "outputs": [
    {
     "data": {
      "image/png": "[encoded data removed]",
      "text/plain": [
       "<Figure size 1000x600 with 1 Axes>"
      ]
     },
     "metadata": {},
     "output_type": "display_data"
    }
   ],
   "source": [
    "# Categorías clave a analizar\n",
    "categories = ['acting', 'story', 'script', 'plot', 'effects', 'visuals', 'sound', 'music', 'dialogue']\n",
    "\n",
    "# Función para buscar frecuencia de categorías\n",
    "def category_analysis(reviews, categories):\n",
    "    frequencies = {}\n",
    "    examples = {}\n",
    "    for category in categories:\n",
    "        frequencies[category] = reviews.str.contains(category, case=False, na=False).sum()\n",
    "        examples[category] = reviews[reviews.str.contains(category, case=False, na=False)].head(3).tolist()  # Ejemplos\n",
    "    return frequencies, examples\n",
    "\n",
    "# Análisis para reseñas positivas\n",
    "positive_freq, positive_examples = category_analysis(positive_reviews, categories)\n",
    "\n",
    "# Análisis para reseñas negativas\n",
    "negative_freq, negative_examples = category_analysis(negative_reviews, categories)\n",
    "\n",
    "# Crear un DataFrame para frecuencias\n",
    "freq_df = pd.DataFrame({'Positive': positive_freq, 'Negative': negative_freq})\n",
    "\n",
    "# Gráfico de frecuencias\n",
    "freq_df.plot(kind='bar', figsize=(10, 6))\n",
    "plt.title('Frecuencia de categorías en reseñas positivas y negativas')\n",
    "plt.ylabel('Frecuencia')\n",
    "plt.xlabel('Categorías')\n",
    "plt.xticks(rotation=45)\n",
    "plt.tight_layout()\n",
    "plt.show()"
   ]
  },
  {
   "cell_type": "code",
   "execution_count": null,
   "metadata": {
    "colab": {
     "base_uri": "https://localhost:8080/"
    },
    "id": "chIpvhrUQpHb",
    "outputId": "0936adfb-1d61-43ae-b6ed-5959179746d7"
   },
   "outputs": [
    {
     "name": "stderr",
     "output_type": "stream",
     "text": [
      "[nltk_data] Downloading package punkt to /root/nltk_data...\n",
      "[nltk_data]   Package punkt is already up-to-date!\n",
      "[nltk_data] Downloading package punkt_tab to /root/nltk_data...\n",
      "[nltk_data]   Package punkt_tab is already up-to-date!\n",
      "[nltk_data] Downloading package averaged_perceptron_tagger to\n",
      "[nltk_data]     /root/nltk_data...\n",
      "[nltk_data]   Package averaged_perceptron_tagger is already up-to-\n",
      "[nltk_data]       date!\n",
      "[nltk_data] Downloading package stopwords to /root/nltk_data...\n",
      "[nltk_data]   Package stopwords is already up-to-date!\n",
      "[nltk_data] Downloading package averaged_perceptron_tagger_eng to\n",
      "[nltk_data]     /root/nltk_data...\n",
      "[nltk_data]   Package averaged_perceptron_tagger_eng is already up-to-\n",
      "[nltk_data]       date!\n"
     ]
    },
    {
     "data": {
      "text/plain": [
       "True"
      ]
     },
     "execution_count": 27,
     "metadata": {},
     "output_type": "execute_result"
    }
   ],
   "source": [
    "import nltk\n",
    "from nltk.tokenize import word_tokenize\n",
    "from nltk import pos_tag\n",
    "from nltk.corpus import stopwords\n",
    "from textblob import TextBlob\n",
    "import matplotlib.pyplot as plt\n",
    "from scipy.stats import ttest_ind\n",
    "\n",
    "# Descargar recursos necesarios\n",
    "nltk.download('punkt')\n",
    "nltk.download('punkt_tab')\n",
    "\n",
    "nltk.download('averaged_perceptron_tagger')\n",
    "nltk.download('stopwords')\n",
    "nltk.download('averaged_perceptron_tagger_eng')"
   ]
  },
  {
   "cell_type": "markdown",
   "metadata": {
    "id": "ZpNSGtuiQvkd"
   },
   "source": []
  },
  {
   "cell_type": "code",
   "execution_count": null,
   "metadata": {
    "colab": {
     "background_save": true
    },
    "id": "7KiL5WaBP39G",
    "outputId": "f045d8cb-229d-4454-9be5-9e8d7beb8b9f"
   },
   "outputs": [
    {
     "name": "stdout",
     "output_type": "stream",
     "text": [
      "Adjective - T-test p-value: 7.976828292461689e-14\n",
      "Noun - T-test p-value: 1.4940418646218763e-11\n",
      "Verb - T-test p-value: 0.03337310473505976\n",
      "Emotion polarity - T-test p-value: 0.0\n"
     ]
    },
    {
     "data": {
      "image/png": "[encoded data removed]",
      "text/plain": [
       "<Figure size 640x480 with 1 Axes>"
      ]
     },
     "metadata": {},
     "output_type": "display_data"
    }
   ],
   "source": [
    "# Asume que el DataFrame tiene columnas: 'review' (texto) y 'sentiment' (positivo/negativo)\n",
    "# Carga los datos\n",
    "df = df_preprocessed.copy()  # Carga tus datos aquí\n",
    "\n",
    "# Función para preprocesar y etiquetar partes del discurso\n",
    "def pos_analysis(text):\n",
    "    tokens = word_tokenize(text.lower())\n",
    "    tags = pos_tag(tokens)\n",
    "    return tags\n",
    "\n",
    "# Función para contar categorías gramaticales\n",
    "def count_pos_tags(pos_tags):\n",
    "    counts = {\"adjective\": 0, \"noun\": 0, \"verb\": 0}\n",
    "    for word, tag in pos_tags:\n",
    "        if tag.startswith('JJ'):\n",
    "            counts['adjective'] += 1\n",
    "        elif tag.startswith('NN'):\n",
    "            counts['noun'] += 1\n",
    "        elif tag.startswith('VB'):\n",
    "            counts['verb'] += 1\n",
    "    return counts\n",
    "\n",
    "# Aplicar el análisis POS y calcular emociones\n",
    "pos_counts = {\"positive\": [], \"negative\": []}\n",
    "emotion_scores = {\"positive\": [], \"negative\": []}\n",
    "\n",
    "for _, row in df.iterrows():\n",
    "    sentiment = row['sentiment']  # sentiment is 1 or 0\n",
    "    review = row['review']\n",
    "    pos_tags = pos_analysis(review)\n",
    "    pos_count = count_pos_tags(pos_tags)\n",
    "\n",
    "    # Convert sentiment to the corresponding key\n",
    "    sentiment_key = \"positive\" if sentiment == 1 else \"negative\"\n",
    "\n",
    "    # Guardar conteos de partes del discurso using sentiment_key\n",
    "    pos_counts[sentiment_key].append(pos_count)\n",
    "\n",
    "    # Analizar emociones\n",
    "    polarity = TextBlob(review).sentiment.polarity\n",
    "    emotion_scores[sentiment_key].append(polarity)\n",
    "\n",
    "# Agregar análisis estadístico\n",
    "def average_counts(counts_list):\n",
    "    return {\n",
    "        \"adjective\": sum(c['adjective'] for c in counts_list) / len(counts_list),\n",
    "        \"noun\": sum(c['noun'] for c in counts_list) / len(counts_list),\n",
    "        \"verb\": sum(c['verb'] for c in counts_list) / len(counts_list),\n",
    "    }\n",
    "\n",
    "positive_counts_avg = average_counts(pos_counts[\"positive\"])\n",
    "negative_counts_avg = average_counts(pos_counts[\"negative\"])\n",
    "\n",
    "# Comparar estadísticamente los resultados\n",
    "positive_polarity = emotion_scores[\"positive\"]\n",
    "negative_polarity = emotion_scores[\"negative\"]\n",
    "\n",
    "# Prueba T para cada categoría gramatical\n",
    "for category in [\"adjective\", \"noun\", \"verb\"]:\n",
    "    positive_data = [c[category] for c in pos_counts[\"positive\"]]\n",
    "    negative_data = [c[category] for c in pos_counts[\"negative\"]]\n",
    "    stat, p_value = ttest_ind(positive_data, negative_data)\n",
    "    print(f\"{category.capitalize()} - T-test p-value: {p_value}\")\n",
    "\n",
    "# Comparación de emociones\n",
    "stat, p_value = ttest_ind(positive_polarity, negative_polarity)\n",
    "print(f\"Emotion polarity - T-test p-value: {p_value}\")\n",
    "\n",
    "# Visualización\n",
    "labels = ['Adjectives', 'Nouns', 'Verbs']\n",
    "positive_values = [positive_counts_avg['adjective'], positive_counts_avg['noun'], positive_counts_avg['verb']]\n",
    "negative_values = [negative_counts_avg['adjective'], negative_counts_avg['noun'], negative_counts_avg['verb']]\n",
    "\n",
    "x = range(len(labels))\n",
    "plt.bar(x, positive_values, width=0.4, label='Positive', align='center')\n",
    "plt.bar(x, negative_values, width=0.4, label='Negative', align='edge')\n",
    "plt.xticks(x, labels)\n",
    "plt.ylabel('Average Count')\n",
    "plt.title('POS Tag Comparison')\n",
    "plt.legend()\n",
    "plt.show()"
   ]
  },
  {
   "cell_type": "code",
   "execution_count": null,
   "metadata": {
    "colab": {
     "background_save": true
    },
    "id": "4LBv0hecT-HD"
   },
   "outputs": [],
   "source": [
    "df_preprocessed = df_preprocessed.drop('ngrams', axis=1)"
   ]
  },
  {
   "cell_type": "code",
   "execution_count": null,
   "metadata": {
    "colab": {
     "background_save": true
    },
    "id": "4Xt5oTlZUMe5",
    "outputId": "e994d7ae-9fc9-46bd-9371-941884202990"
   },
   "outputs": [
    {
     "name": "stderr",
     "output_type": "stream",
     "text": [
      "[nltk_data] Downloading package punkt to /root/nltk_data...\n",
      "[nltk_data]   Package punkt is already up-to-date!\n"
     ]
    }
   ],
   "source": [
    "import nltk\n",
    "from nltk.tokenize import word_tokenize\n",
    "\n",
    "# Descargar recursos necesarios para la tokenización\n",
    "nltk.download('punkt')\n",
    "\n",
    "# Ejemplo de texto: Puedes reemplazar esto con tus reseñas\n",
    "df_preprocessed['tokens'] = df_preprocessed['review'].apply(word_tokenize)\n",
    "\n"
   ]
  },
  {
   "cell_type": "code",
   "execution_count": null,
   "metadata": {
    "colab": {
     "background_save": true
    },
    "id": "9IwWPb9vU_sb",
    "outputId": "eab9822d-550f-400c-90a2-9d86027ecdac"
   },
   "outputs": [
    {
     "data": {
      "application/vnd.google.colaboratory.intrinsic+json": {
       "summary": "{\n  \"name\": \"df_preprocessed\",\n  \"rows\": 50000,\n  \"fields\": [\n    {\n      \"column\": \"review\",\n      \"properties\": {\n        \"dtype\": \"string\",\n        \"num_unique_values\": 49577,\n        \"samples\": [\n          \"sat enjoyable fast paced min rollroll country boy mat toby malone who dream becoming sport star mat travel city picked cousin george damien robertson well plan anyway george involved gangster tiny john batchelor making delivery needless say mat get dragged george world thought great how mat teach george moral respect george teach mat how relax enjoy life little toby damien well cast together outstanding jobevery character movie complimented well two cop great david ngoombujarra brought great comic relief movie tiny played likable gangster reminded one favourite character pando two handsone thing liked roll showcased city grew lived year perth fremantle good see sight landmark grew especially old ferris wheelthis rock roll\",\n          \"beautiful rich wellexecuted film rich meaningful story basically tell how old master story teller need find male heir carry craft end getting what expected maledominated world character must deal situation old master must grapple conflict desire companion heir society traditional notionsthe story fun emotional complex exploration character life emotion rich compelling character development strong character complex one dimensional film expertly conveys old man emotion desire find heir compellingly show how kid handle situation also humour sometimes quite subtle appropriate point film also examines good bad traditional chinese culture creating interest depth filmthe directing acting scenery outstanding added strength creates rich convincing visual image compelling real character result film evokes strong empathy feeling characterssome claimed ending weakens film necessarily agree perhaps could stronger different ending improvement overall film would rather small\",\n          \"mean seriously what group would sing crazy car what ten way immature little kid sing mean seriously name pretty corny naked brother take pant how creativei dont get why need tv show mean artist dont really need tv show especially naked brother band heck how many freaking group seriously whats movie jeez nick use hightlight year growing seriously naked brother band many parent would let kid watch especially name naked brother band stupid uncreative show aired onto tv\"\n        ],\n        \"semantic_type\": \"\",\n        \"description\": \"\"\n      }\n    },\n    {\n      \"column\": \"sentiment\",\n      \"properties\": {\n        \"dtype\": \"number\",\n        \"std\": 0,\n        \"min\": 0,\n        \"max\": 1,\n        \"num_unique_values\": 2,\n        \"samples\": [\n          0,\n          1\n        ],\n        \"semantic_type\": \"\",\n        \"description\": \"\"\n      }\n    },\n    {\n      \"column\": \"tokens\",\n      \"properties\": {\n        \"dtype\": \"object\",\n        \"semantic_type\": \"\",\n        \"description\": \"\"\n      }\n    }\n  ]\n}",
       "type": "dataframe",
       "variable_name": "df_preprocessed"
      },
      "text/html": [
       "\n",
       "  <div id=\"df-9ac729a9-e3e0-4130-a46e-e16336487dc4\" class=\"colab-df-container\">\n",
       "    <div>\n",
       "<style scoped>\n",
       "    .dataframe tbody tr th:only-of-type {\n",
       "        vertical-align: middle;\n",
       "    }\n",
       "\n",
       "    .dataframe tbody tr th {\n",
       "        vertical-align: top;\n",
       "    }\n",
       "\n",
       "    .dataframe thead th {\n",
       "        text-align: right;\n",
       "    }\n",
       "</style>\n",
       "<table border=\"1\" class=\"dataframe\">\n",
       "  <thead>\n",
       "    <tr style=\"text-align: right;\">\n",
       "      <th></th>\n",
       "      <th>review</th>\n",
       "      <th>sentiment</th>\n",
       "      <th>tokens</th>\n",
       "    </tr>\n",
       "  </thead>\n",
       "  <tbody>\n",
       "    <tr>\n",
       "      <th>0</th>\n",
       "      <td>one reviewer mentioned watching oz episode you...</td>\n",
       "      <td>1</td>\n",
       "      <td>[one, reviewer, mentioned, watching, oz, episo...</td>\n",
       "    </tr>\n",
       "    <tr>\n",
       "      <th>1</th>\n",
       "      <td>wonderful little production filming technique ...</td>\n",
       "      <td>1</td>\n",
       "      <td>[wonderful, little, production, filming, techn...</td>\n",
       "    </tr>\n",
       "    <tr>\n",
       "      <th>2</th>\n",
       "      <td>thought wonderful way spend time hot summer we...</td>\n",
       "      <td>1</td>\n",
       "      <td>[thought, wonderful, way, spend, time, hot, su...</td>\n",
       "    </tr>\n",
       "    <tr>\n",
       "      <th>3</th>\n",
       "      <td>basically there family where little boy jake t...</td>\n",
       "      <td>0</td>\n",
       "      <td>[basically, there, family, where, little, boy,...</td>\n",
       "    </tr>\n",
       "    <tr>\n",
       "      <th>4</th>\n",
       "      <td>petter matteis visually stunning film watch mr...</td>\n",
       "      <td>1</td>\n",
       "      <td>[petter, matteis, visually, stunning, film, wa...</td>\n",
       "    </tr>\n",
       "    <tr>\n",
       "      <th>...</th>\n",
       "      <td>...</td>\n",
       "      <td>...</td>\n",
       "      <td>...</td>\n",
       "    </tr>\n",
       "    <tr>\n",
       "      <th>49995</th>\n",
       "      <td>thought movie right good job wasnt creative or...</td>\n",
       "      <td>1</td>\n",
       "      <td>[thought, movie, right, good, job, wasnt, crea...</td>\n",
       "    </tr>\n",
       "    <tr>\n",
       "      <th>49996</th>\n",
       "      <td>bad plot bad dialogue bad acting idiotic direc...</td>\n",
       "      <td>0</td>\n",
       "      <td>[bad, plot, bad, dialogue, bad, acting, idioti...</td>\n",
       "    </tr>\n",
       "    <tr>\n",
       "      <th>49997</th>\n",
       "      <td>catholic taught parochial elementary school nu...</td>\n",
       "      <td>0</td>\n",
       "      <td>[catholic, taught, parochial, elementary, scho...</td>\n",
       "    </tr>\n",
       "    <tr>\n",
       "      <th>49998</th>\n",
       "      <td>im going disagree previous comment side maltin...</td>\n",
       "      <td>0</td>\n",
       "      <td>[im, going, disagree, previous, comment, side,...</td>\n",
       "    </tr>\n",
       "    <tr>\n",
       "      <th>49999</th>\n",
       "      <td>one expects star trek movie high art fan expec...</td>\n",
       "      <td>0</td>\n",
       "      <td>[one, expects, star, trek, movie, high, art, f...</td>\n",
       "    </tr>\n",
       "  </tbody>\n",
       "</table>\n",
       "<p>50000 rows × 3 columns</p>\n",
       "</div>\n",
       "    <div class=\"colab-df-buttons\">\n",
       "\n",
       "  <div class=\"colab-df-container\">\n",
       "    <button class=\"colab-df-convert\" onclick=\"convertToInteractive('df-9ac729a9-e3e0-4130-a46e-e16336487dc4')\"\n",
       "            title=\"Convert this dataframe to an interactive table.\"\n",
       "            style=\"display:none;\">\n",
       "\n",
       "  <svg xmlns=\"http://www.w3.org/2000/svg\" height=\"24px\" viewBox=\"0 -960 960 960\">\n",
       "    <path d=\"M120-120v-720h720v720H120Zm60-500h600v-160H180v160Zm220 220h160v-160H400v160Zm0 220h160v-160H400v160ZM180-400h160v-160H180v160Zm440 0h160v-160H620v160ZM180-180h160v-160H180v160Zm440 0h160v-160H620v160Z\"/>\n",
       "  </svg>\n",
       "    </button>\n",
       "\n",
       "  <style>\n",
       "    .colab-df-container {\n",
       "      display:flex;\n",
       "      gap: 12px;\n",
       "    }\n",
       "\n",
       "    .colab-df-convert {\n",
       "      background-color: #E8F0FE;\n",
       "      border: none;\n",
       "      border-radius: 50%;\n",
       "      cursor: pointer;\n",
       "      display: none;\n",
       "      fill: #1967D2;\n",
       "      height: 32px;\n",
       "      padding: 0 0 0 0;\n",
       "      width: 32px;\n",
       "    }\n",
       "\n",
       "    .colab-df-convert:hover {\n",
       "      background-color: #E2EBFA;\n",
       "      box-shadow: 0px 1px 2px rgba(60, 64, 67, 0.3), 0px 1px 3px 1px rgba(60, 64, 67, 0.15);\n",
       "      fill: #174EA6;\n",
       "    }\n",
       "\n",
       "    .colab-df-buttons div {\n",
       "      margin-bottom: 4px;\n",
       "    }\n",
       "\n",
       "    [theme=dark] .colab-df-convert {\n",
       "      background-color: #3B4455;\n",
       "      fill: #D2E3FC;\n",
       "    }\n",
       "\n",
       "    [theme=dark] .colab-df-convert:hover {\n",
       "      background-color: #434B5C;\n",
       "      box-shadow: 0px 1px 3px 1px rgba(0, 0, 0, 0.15);\n",
       "      filter: drop-shadow(0px 1px 2px rgba(0, 0, 0, 0.3));\n",
       "      fill: #FFFFFF;\n",
       "    }\n",
       "  </style>\n",
       "\n",
       "    <script>\n",
       "      const buttonEl =\n",
       "        document.querySelector('#df-9ac729a9-e3e0-4130-a46e-e16336487dc4 button.colab-df-convert');\n",
       "      buttonEl.style.display =\n",
       "        google.colab.kernel.accessAllowed ? 'block' : 'none';\n",
       "\n",
       "      async function convertToInteractive(key) {\n",
       "        const element = document.querySelector('#df-9ac729a9-e3e0-4130-a46e-e16336487dc4');\n",
       "        const dataTable =\n",
       "          await google.colab.kernel.invokeFunction('convertToInteractive',\n",
       "                                                    [key], {});\n",
       "        if (!dataTable) return;\n",
       "\n",
       "        const docLinkHtml = 'Like what you see? Visit the ' +\n",
       "          '<a target=\"_blank\" href=https://colab.research.google.com/notebooks/data_table.ipynb>data table notebook</a>'\n",
       "          + ' to learn more about interactive tables.';\n",
       "        element.innerHTML = '';\n",
       "        dataTable['output_type'] = 'display_data';\n",
       "        await google.colab.output.renderOutput(dataTable, element);\n",
       "        const docLink = document.createElement('div');\n",
       "        docLink.innerHTML = docLinkHtml;\n",
       "        element.appendChild(docLink);\n",
       "      }\n",
       "    </script>\n",
       "  </div>\n",
       "\n",
       "\n",
       "<div id=\"df-9ff1a7d0-945e-46fc-a98a-c8a834c6abc5\">\n",
       "  <button class=\"colab-df-quickchart\" onclick=\"quickchart('df-9ff1a7d0-945e-46fc-a98a-c8a834c6abc5')\"\n",
       "            title=\"Suggest charts\"\n",
       "            style=\"display:none;\">\n",
       "\n",
       "<svg xmlns=\"http://www.w3.org/2000/svg\" height=\"24px\"viewBox=\"0 0 24 24\"\n",
       "     width=\"24px\">\n",
       "    <g>\n",
       "        <path d=\"M19 3H5c-1.1 0-2 .9-2 2v14c0 1.1.9 2 2 2h14c1.1 0 2-.9 2-2V5c0-1.1-.9-2-2-2zM9 17H7v-7h2v7zm4 0h-2V7h2v10zm4 0h-2v-4h2v4z\"/>\n",
       "    </g>\n",
       "</svg>\n",
       "  </button>\n",
       "\n",
       "<style>\n",
       "  .colab-df-quickchart {\n",
       "      --bg-color: #E8F0FE;\n",
       "      --fill-color: #1967D2;\n",
       "      --hover-bg-color: #E2EBFA;\n",
       "      --hover-fill-color: #174EA6;\n",
       "      --disabled-fill-color: #AAA;\n",
       "      --disabled-bg-color: #DDD;\n",
       "  }\n",
       "\n",
       "  [theme=dark] .colab-df-quickchart {\n",
       "      --bg-color: #3B4455;\n",
       "      --fill-color: #D2E3FC;\n",
       "      --hover-bg-color: #434B5C;\n",
       "      --hover-fill-color: #FFFFFF;\n",
       "      --disabled-bg-color: #3B4455;\n",
       "      --disabled-fill-color: #666;\n",
       "  }\n",
       "\n",
       "  .colab-df-quickchart {\n",
       "    background-color: var(--bg-color);\n",
       "    border: none;\n",
       "    border-radius: 50%;\n",
       "    cursor: pointer;\n",
       "    display: none;\n",
       "    fill: var(--fill-color);\n",
       "    height: 32px;\n",
       "    padding: 0;\n",
       "    width: 32px;\n",
       "  }\n",
       "\n",
       "  .colab-df-quickchart:hover {\n",
       "    background-color: var(--hover-bg-color);\n",
       "    box-shadow: 0 1px 2px rgba(60, 64, 67, 0.3), 0 1px 3px 1px rgba(60, 64, 67, 0.15);\n",
       "    fill: var(--button-hover-fill-color);\n",
       "  }\n",
       "\n",
       "  .colab-df-quickchart-complete:disabled,\n",
       "  .colab-df-quickchart-complete:disabled:hover {\n",
       "    background-color: var(--disabled-bg-color);\n",
       "    fill: var(--disabled-fill-color);\n",
       "    box-shadow: none;\n",
       "  }\n",
       "\n",
       "  .colab-df-spinner {\n",
       "    border: 2px solid var(--fill-color);\n",
       "    border-color: transparent;\n",
       "    border-bottom-color: var(--fill-color);\n",
       "    animation:\n",
       "      spin 1s steps(1) infinite;\n",
       "  }\n",
       "\n",
       "  @keyframes spin {\n",
       "    0% {\n",
       "      border-color: transparent;\n",
       "      border-bottom-color: var(--fill-color);\n",
       "      border-left-color: var(--fill-color);\n",
       "    }\n",
       "    20% {\n",
       "      border-color: transparent;\n",
       "      border-left-color: var(--fill-color);\n",
       "      border-top-color: var(--fill-color);\n",
       "    }\n",
       "    30% {\n",
       "      border-color: transparent;\n",
       "      border-left-color: var(--fill-color);\n",
       "      border-top-color: var(--fill-color);\n",
       "      border-right-color: var(--fill-color);\n",
       "    }\n",
       "    40% {\n",
       "      border-color: transparent;\n",
       "      border-right-color: var(--fill-color);\n",
       "      border-top-color: var(--fill-color);\n",
       "    }\n",
       "    60% {\n",
       "      border-color: transparent;\n",
       "      border-right-color: var(--fill-color);\n",
       "    }\n",
       "    80% {\n",
       "      border-color: transparent;\n",
       "      border-right-color: var(--fill-color);\n",
       "      border-bottom-color: var(--fill-color);\n",
       "    }\n",
       "    90% {\n",
       "      border-color: transparent;\n",
       "      border-bottom-color: var(--fill-color);\n",
       "    }\n",
       "  }\n",
       "</style>\n",
       "\n",
       "  <script>\n",
       "    async function quickchart(key) {\n",
       "      const quickchartButtonEl =\n",
       "        document.querySelector('#' + key + ' button');\n",
       "      quickchartButtonEl.disabled = true;  // To prevent multiple clicks.\n",
       "      quickchartButtonEl.classList.add('colab-df-spinner');\n",
       "      try {\n",
       "        const charts = await google.colab.kernel.invokeFunction(\n",
       "            'suggestCharts', [key], {});\n",
       "      } catch (error) {\n",
       "        console.error('Error during call to suggestCharts:', error);\n",
       "      }\n",
       "      quickchartButtonEl.classList.remove('colab-df-spinner');\n",
       "      quickchartButtonEl.classList.add('colab-df-quickchart-complete');\n",
       "    }\n",
       "    (() => {\n",
       "      let quickchartButtonEl =\n",
       "        document.querySelector('#df-9ff1a7d0-945e-46fc-a98a-c8a834c6abc5 button');\n",
       "      quickchartButtonEl.style.display =\n",
       "        google.colab.kernel.accessAllowed ? 'block' : 'none';\n",
       "    })();\n",
       "  </script>\n",
       "</div>\n",
       "\n",
       "  <div id=\"id_d7e9a3f7-82a8-47fb-9727-4c81b3560aa3\">\n",
       "    <style>\n",
       "      .colab-df-generate {\n",
       "        background-color: #E8F0FE;\n",
       "        border: none;\n",
       "        border-radius: 50%;\n",
       "        cursor: pointer;\n",
       "        display: none;\n",
       "        fill: #1967D2;\n",
       "        height: 32px;\n",
       "        padding: 0 0 0 0;\n",
       "        width: 32px;\n",
       "      }\n",
       "\n",
       "      .colab-df-generate:hover {\n",
       "        background-color: #E2EBFA;\n",
       "        box-shadow: 0px 1px 2px rgba(60, 64, 67, 0.3), 0px 1px 3px 1px rgba(60, 64, 67, 0.15);\n",
       "        fill: #174EA6;\n",
       "      }\n",
       "\n",
       "      [theme=dark] .colab-df-generate {\n",
       "        background-color: #3B4455;\n",
       "        fill: #D2E3FC;\n",
       "      }\n",
       "\n",
       "      [theme=dark] .colab-df-generate:hover {\n",
       "        background-color: #434B5C;\n",
       "        box-shadow: 0px 1px 3px 1px rgba(0, 0, 0, 0.15);\n",
       "        filter: drop-shadow(0px 1px 2px rgba(0, 0, 0, 0.3));\n",
       "        fill: #FFFFFF;\n",
       "      }\n",
       "    </style>\n",
       "    <button class=\"colab-df-generate\" onclick=\"generateWithVariable('df_preprocessed')\"\n",
       "            title=\"Generate code using this dataframe.\"\n",
       "            style=\"display:none;\">\n",
       "\n",
       "  <svg xmlns=\"http://www.w3.org/2000/svg\" height=\"24px\"viewBox=\"0 0 24 24\"\n",
       "       width=\"24px\">\n",
       "    <path d=\"M7,19H8.4L18.45,9,17,7.55,7,17.6ZM5,21V16.75L18.45,3.32a2,2,0,0,1,2.83,0l1.4,1.43a1.91,1.91,0,0,1,.58,1.4,1.91,1.91,0,0,1-.58,1.4L9.25,21ZM18.45,9,17,7.55Zm-12,3A5.31,5.31,0,0,0,4.9,8.1,5.31,5.31,0,0,0,1,6.5,5.31,5.31,0,0,0,4.9,4.9,5.31,5.31,0,0,0,6.5,1,5.31,5.31,0,0,0,8.1,4.9,5.31,5.31,0,0,0,12,6.5,5.46,5.46,0,0,0,6.5,12Z\"/>\n",
       "  </svg>\n",
       "    </button>\n",
       "    <script>\n",
       "      (() => {\n",
       "      const buttonEl =\n",
       "        document.querySelector('#id_d7e9a3f7-82a8-47fb-9727-4c81b3560aa3 button.colab-df-generate');\n",
       "      buttonEl.style.display =\n",
       "        google.colab.kernel.accessAllowed ? 'block' : 'none';\n",
       "\n",
       "      buttonEl.onclick = () => {\n",
       "        google.colab.notebook.generateWithVariable('df_preprocessed');\n",
       "      }\n",
       "      })();\n",
       "    </script>\n",
       "  </div>\n",
       "\n",
       "    </div>\n",
       "  </div>\n"
      ],
      "text/plain": [
       "                                                  review  sentiment  \\\n",
       "0      one reviewer mentioned watching oz episode you...          1   \n",
       "1      wonderful little production filming technique ...          1   \n",
       "2      thought wonderful way spend time hot summer we...          1   \n",
       "3      basically there family where little boy jake t...          0   \n",
       "4      petter matteis visually stunning film watch mr...          1   \n",
       "...                                                  ...        ...   \n",
       "49995  thought movie right good job wasnt creative or...          1   \n",
       "49996  bad plot bad dialogue bad acting idiotic direc...          0   \n",
       "49997  catholic taught parochial elementary school nu...          0   \n",
       "49998  im going disagree previous comment side maltin...          0   \n",
       "49999  one expects star trek movie high art fan expec...          0   \n",
       "\n",
       "                                                  tokens  \n",
       "0      [one, reviewer, mentioned, watching, oz, episo...  \n",
       "1      [wonderful, little, production, filming, techn...  \n",
       "2      [thought, wonderful, way, spend, time, hot, su...  \n",
       "3      [basically, there, family, where, little, boy,...  \n",
       "4      [petter, matteis, visually, stunning, film, wa...  \n",
       "...                                                  ...  \n",
       "49995  [thought, movie, right, good, job, wasnt, crea...  \n",
       "49996  [bad, plot, bad, dialogue, bad, acting, idioti...  \n",
       "49997  [catholic, taught, parochial, elementary, scho...  \n",
       "49998  [im, going, disagree, previous, comment, side,...  \n",
       "49999  [one, expects, star, trek, movie, high, art, f...  \n",
       "\n",
       "[50000 rows x 3 columns]"
      ]
     },
     "execution_count": 31,
     "metadata": {},
     "output_type": "execute_result"
    }
   ],
   "source": [
    "df_preprocessed"
   ]
  },
  {
   "cell_type": "markdown",
   "metadata": {
    "id": "TGqlOUN6WsR_"
   },
   "source": [
    "#WORD TO VEC"
   ]
  },
  {
   "cell_type": "code",
   "execution_count": 32,
   "metadata": {
    "id": "H90Dp7t3WG0b",
    "colab": {
     "base_uri": "https://localhost:8080/"
    },
    "outputId": "f88eacbc-cf73-4471-de3f-fdb25000b2f7"
   },
   "outputs": [
    {
     "metadata": {
      "tags": null
     },
     "name": "stdout",
     "output_type": "stream",
     "text": [
      "                                              review  \\\n",
      "0  one reviewer mentioned watching oz episode you...   \n",
      "1  wonderful little production filming technique ...   \n",
      "2  thought wonderful way spend time hot summer we...   \n",
      "3  basically there family where little boy jake t...   \n",
      "4  petter matteis visually stunning film watch mr...   \n",
      "\n",
      "                                        vector_glove  \n",
      "0  [-0.04696409, 0.096317336, -0.0609252, -0.0783...  \n",
      "1  [-0.03187767, 0.06298636, 0.018403241, -0.1293...  \n",
      "2  [-0.062777355, 0.096426, 0.02964754, -0.049772...  \n",
      "3  [-0.081736326, 0.06403657, 0.0064233136, 0.002...  \n",
      "4  [-0.10275383, 0.036911767, 0.01272219, -0.1472...  \n"
     ]
    }
   ],
   "source": [
    "import numpy as np\n",
    "from gensim.models import KeyedVectors\n",
    "\n",
    "# Ruta del archivo de embeddings preentrenados (asegúrate de tener el archivo)\n",
    "# Descarga desde https://nlp.stanford.edu/projects/glove/ para GloVe o usa preentrenados de Word2Vec\n",
    "word_vectors_path = '/content/glove.6B.300d.txt'\n",
    "\n",
    "# Función para cargar embeddings GloVe\n",
    "def load_glove_model(glove_file):\n",
    "    embeddings_index = {}\n",
    "    with open(glove_file, 'r', encoding='utf-8') as f:\n",
    "        for line in f:\n",
    "            values = line.split()\n",
    "            word = values[0]\n",
    "            vector = np.asarray(values[1:], dtype='float32')\n",
    "            embeddings_index[word] = vector\n",
    "    return embeddings_index\n",
    "\n",
    "# Cargar embeddings\n",
    "embeddings_index = load_glove_model(word_vectors_path)\n",
    "\n",
    "# Función para convertir tokens a un vector promediado usando embeddings\n",
    "def tokens_to_vector(tokens, embeddings_index):\n",
    "    vectors = [embeddings_index[word] for word in tokens if word in embeddings_index]\n",
    "    if len(vectors) == 0:\n",
    "        return np.zeros(300)  # Vector nulo si no hay palabras conocidas\n",
    "    return np.mean(vectors, axis=0)\n",
    "\n",
    "# Convertir cada reseña a un vector\n",
    "df_preprocessed['vector_glove'] = df_preprocessed['tokens'].apply(lambda x: tokens_to_vector(x, embeddings_index))\n",
    "\n",
    "# Mostrar los primeros resultados\n",
    "print(df_preprocessed[['review', 'vector_glove']].head())"
   ]
  },
  {
   "cell_type": "markdown",
   "metadata": {
    "id": "UopA3lNiWpu6"
   },
   "source": [
    "#TF-IDF"
   ]
  },
  {
   "cell_type": "code",
   "execution_count": 33,
   "metadata": {
    "id": "1vmdkuYLVkdi"
   },
   "outputs": [],
   "source": [
    "#from sklearn.feature_extraction.text import TfidfVectorizer"
   ]
  },
  {
   "cell_type": "code",
   "execution_count": 34,
   "metadata": {
    "id": "MTe-_eYbVfSq"
   },
   "outputs": [],
   "source": [
    "# Inicializar el vectorizador\n",
    "#tfidf = TfidfVectorizer(max_features=1000, tokenizer=lambda x: x, preprocessor=lambda x: x, token_pattern=None)\n",
    "\n",
    "# Convertir las reseñas tokenizadas a una matriz TF-IDF\n",
    "#tfidf_matrix = tfidf.fit_transform(df_preprocessed['tokens'])\n",
    "\n"
   ]
  },
  {
   "cell_type": "code",
   "execution_count": null,
   "metadata": {
    "id": "X_ZfWaHHVxlF"
   },
   "outputs": [],
   "source": [
    "# Guardar la matriz en el DataFrame (opcionalmente como una lista para cada reseña)\n",
    "#df_preprocessed['vector_tfidf'] = list(tfidf_matrix.toarray())\n"
   ]
  },
  {
   "cell_type": "code",
   "execution_count": 36,
   "metadata": {
    "id": "p5bLUDMKfwJr",
    "colab": {
     "base_uri": "https://localhost:8080/",
     "height": 206
    },
    "outputId": "7f9a4877-c6d6-474b-c7fb-b3c814a61a6c"
   },
   "outputs": [
    {
     "data": {
      "application/vnd.google.colaboratory.intrinsic+json": {
       "summary": "{\n  \"name\": \"df_preprocessed\",\n  \"rows\": 50000,\n  \"fields\": [\n    {\n      \"column\": \"review\",\n      \"properties\": {\n        \"dtype\": \"string\",\n        \"num_unique_values\": 49577,\n        \"samples\": [\n          \"sat enjoyable fast paced min rollroll country boy mat toby malone who dream becoming sport star mat travel city picked cousin george damien robertson well plan anyway george involved gangster tiny john batchelor making delivery needless say mat get dragged george world thought great how mat teach george moral respect george teach mat how relax enjoy life little toby damien well cast together outstanding jobevery character movie complimented well two cop great david ngoombujarra brought great comic relief movie tiny played likable gangster reminded one favourite character pando two handsone thing liked roll showcased city grew lived year perth fremantle good see sight landmark grew especially old ferris wheelthis rock roll\",\n          \"beautiful rich wellexecuted film rich meaningful story basically tell how old master story teller need find male heir carry craft end getting what expected maledominated world character must deal situation old master must grapple conflict desire companion heir society traditional notionsthe story fun emotional complex exploration character life emotion rich compelling character development strong character complex one dimensional film expertly conveys old man emotion desire find heir compellingly show how kid handle situation also humour sometimes quite subtle appropriate point film also examines good bad traditional chinese culture creating interest depth filmthe directing acting scenery outstanding added strength creates rich convincing visual image compelling real character result film evokes strong empathy feeling characterssome claimed ending weakens film necessarily agree perhaps could stronger different ending improvement overall film would rather small\",\n          \"mean seriously what group would sing crazy car what ten way immature little kid sing mean seriously name pretty corny naked brother take pant how creativei dont get why need tv show mean artist dont really need tv show especially naked brother band heck how many freaking group seriously whats movie jeez nick use hightlight year growing seriously naked brother band many parent would let kid watch especially name naked brother band stupid uncreative show aired onto tv\"\n        ],\n        \"semantic_type\": \"\",\n        \"description\": \"\"\n      }\n    },\n    {\n      \"column\": \"sentiment\",\n      \"properties\": {\n        \"dtype\": \"number\",\n        \"std\": 0,\n        \"min\": 0,\n        \"max\": 1,\n        \"num_unique_values\": 2,\n        \"samples\": [\n          0,\n          1\n        ],\n        \"semantic_type\": \"\",\n        \"description\": \"\"\n      }\n    },\n    {\n      \"column\": \"tokens\",\n      \"properties\": {\n        \"dtype\": \"object\",\n        \"semantic_type\": \"\",\n        \"description\": \"\"\n      }\n    },\n    {\n      \"column\": \"vector_glove\",\n      \"properties\": {\n        \"dtype\": \"object\",\n        \"semantic_type\": \"\",\n        \"description\": \"\"\n      }\n    }\n  ]\n}",
       "type": "dataframe",
       "variable_name": "df_preprocessed"
      },
      "text/html": [
       "\n",
       "  <div id=\"df-48986eb6-909a-4b50-a58d-c908f104536a\" class=\"colab-df-container\">\n",
       "    <div>\n",
       "<style scoped>\n",
       "    .dataframe tbody tr th:only-of-type {\n",
       "        vertical-align: middle;\n",
       "    }\n",
       "\n",
       "    .dataframe tbody tr th {\n",
       "        vertical-align: top;\n",
       "    }\n",
       "\n",
       "    .dataframe thead th {\n",
       "        text-align: right;\n",
       "    }\n",
       "</style>\n",
       "<table border=\"1\" class=\"dataframe\">\n",
       "  <thead>\n",
       "    <tr style=\"text-align: right;\">\n",
       "      <th></th>\n",
       "      <th>review</th>\n",
       "      <th>sentiment</th>\n",
       "      <th>tokens</th>\n",
       "      <th>vector_glove</th>\n",
       "    </tr>\n",
       "  </thead>\n",
       "  <tbody>\n",
       "    <tr>\n",
       "      <th>0</th>\n",
       "      <td>one reviewer mentioned watching oz episode you...</td>\n",
       "      <td>1</td>\n",
       "      <td>[one, reviewer, mentioned, watching, oz, episo...</td>\n",
       "      <td>[-0.04696409, 0.096317336, -0.0609252, -0.0783...</td>\n",
       "    </tr>\n",
       "    <tr>\n",
       "      <th>1</th>\n",
       "      <td>wonderful little production filming technique ...</td>\n",
       "      <td>1</td>\n",
       "      <td>[wonderful, little, production, filming, techn...</td>\n",
       "      <td>[-0.03187767, 0.06298636, 0.018403241, -0.1293...</td>\n",
       "    </tr>\n",
       "    <tr>\n",
       "      <th>2</th>\n",
       "      <td>thought wonderful way spend time hot summer we...</td>\n",
       "      <td>1</td>\n",
       "      <td>[thought, wonderful, way, spend, time, hot, su...</td>\n",
       "      <td>[-0.062777355, 0.096426, 0.02964754, -0.049772...</td>\n",
       "    </tr>\n",
       "    <tr>\n",
       "      <th>3</th>\n",
       "      <td>basically there family where little boy jake t...</td>\n",
       "      <td>0</td>\n",
       "      <td>[basically, there, family, where, little, boy,...</td>\n",
       "      <td>[-0.081736326, 0.06403657, 0.0064233136, 0.002...</td>\n",
       "    </tr>\n",
       "    <tr>\n",
       "      <th>4</th>\n",
       "      <td>petter matteis visually stunning film watch mr...</td>\n",
       "      <td>1</td>\n",
       "      <td>[petter, matteis, visually, stunning, film, wa...</td>\n",
       "      <td>[-0.10275383, 0.036911767, 0.01272219, -0.1472...</td>\n",
       "    </tr>\n",
       "  </tbody>\n",
       "</table>\n",
       "</div>\n",
       "    <div class=\"colab-df-buttons\">\n",
       "\n",
       "  <div class=\"colab-df-container\">\n",
       "    <button class=\"colab-df-convert\" onclick=\"convertToInteractive('df-48986eb6-909a-4b50-a58d-c908f104536a')\"\n",
       "            title=\"Convert this dataframe to an interactive table.\"\n",
       "            style=\"display:none;\">\n",
       "\n",
       "  <svg xmlns=\"http://www.w3.org/2000/svg\" height=\"24px\" viewBox=\"0 -960 960 960\">\n",
       "    <path d=\"M120-120v-720h720v720H120Zm60-500h600v-160H180v160Zm220 220h160v-160H400v160Zm0 220h160v-160H400v160ZM180-400h160v-160H180v160Zm440 0h160v-160H620v160ZM180-180h160v-160H180v160Zm440 0h160v-160H620v160Z\"/>\n",
       "  </svg>\n",
       "    </button>\n",
       "\n",
       "  <style>\n",
       "    .colab-df-container {\n",
       "      display:flex;\n",
       "      gap: 12px;\n",
       "    }\n",
       "\n",
       "    .colab-df-convert {\n",
       "      background-color: #E8F0FE;\n",
       "      border: none;\n",
       "      border-radius: 50%;\n",
       "      cursor: pointer;\n",
       "      display: none;\n",
       "      fill: #1967D2;\n",
       "      height: 32px;\n",
       "      padding: 0 0 0 0;\n",
       "      width: 32px;\n",
       "    }\n",
       "\n",
       "    .colab-df-convert:hover {\n",
       "      background-color: #E2EBFA;\n",
       "      box-shadow: 0px 1px 2px rgba(60, 64, 67, 0.3), 0px 1px 3px 1px rgba(60, 64, 67, 0.15);\n",
       "      fill: #174EA6;\n",
       "    }\n",
       "\n",
       "    .colab-df-buttons div {\n",
       "      margin-bottom: 4px;\n",
       "    }\n",
       "\n",
       "    [theme=dark] .colab-df-convert {\n",
       "      background-color: #3B4455;\n",
       "      fill: #D2E3FC;\n",
       "    }\n",
       "\n",
       "    [theme=dark] .colab-df-convert:hover {\n",
       "      background-color: #434B5C;\n",
       "      box-shadow: 0px 1px 3px 1px rgba(0, 0, 0, 0.15);\n",
       "      filter: drop-shadow(0px 1px 2px rgba(0, 0, 0, 0.3));\n",
       "      fill: #FFFFFF;\n",
       "    }\n",
       "  </style>\n",
       "\n",
       "    <script>\n",
       "      const buttonEl =\n",
       "        document.querySelector('#df-48986eb6-909a-4b50-a58d-c908f104536a button.colab-df-convert');\n",
       "      buttonEl.style.display =\n",
       "        google.colab.kernel.accessAllowed ? 'block' : 'none';\n",
       "\n",
       "      async function convertToInteractive(key) {\n",
       "        const element = document.querySelector('#df-48986eb6-909a-4b50-a58d-c908f104536a');\n",
       "        const dataTable =\n",
       "          await google.colab.kernel.invokeFunction('convertToInteractive',\n",
       "                                                    [key], {});\n",
       "        if (!dataTable) return;\n",
       "\n",
       "        const docLinkHtml = 'Like what you see? Visit the ' +\n",
       "          '<a target=\"_blank\" href=https://colab.research.google.com/notebooks/data_table.ipynb>data table notebook</a>'\n",
       "          + ' to learn more about interactive tables.';\n",
       "        element.innerHTML = '';\n",
       "        dataTable['output_type'] = 'display_data';\n",
       "        await google.colab.output.renderOutput(dataTable, element);\n",
       "        const docLink = document.createElement('div');\n",
       "        docLink.innerHTML = docLinkHtml;\n",
       "        element.appendChild(docLink);\n",
       "      }\n",
       "    </script>\n",
       "  </div>\n",
       "\n",
       "\n",
       "<div id=\"df-13c8b43a-bdcc-4eeb-b2c8-96980335917c\">\n",
       "  <button class=\"colab-df-quickchart\" onclick=\"quickchart('df-13c8b43a-bdcc-4eeb-b2c8-96980335917c')\"\n",
       "            title=\"Suggest charts\"\n",
       "            style=\"display:none;\">\n",
       "\n",
       "<svg xmlns=\"http://www.w3.org/2000/svg\" height=\"24px\"viewBox=\"0 0 24 24\"\n",
       "     width=\"24px\">\n",
       "    <g>\n",
       "        <path d=\"M19 3H5c-1.1 0-2 .9-2 2v14c0 1.1.9 2 2 2h14c1.1 0 2-.9 2-2V5c0-1.1-.9-2-2-2zM9 17H7v-7h2v7zm4 0h-2V7h2v10zm4 0h-2v-4h2v4z\"/>\n",
       "    </g>\n",
       "</svg>\n",
       "  </button>\n",
       "\n",
       "<style>\n",
       "  .colab-df-quickchart {\n",
       "      --bg-color: #E8F0FE;\n",
       "      --fill-color: #1967D2;\n",
       "      --hover-bg-color: #E2EBFA;\n",
       "      --hover-fill-color: #174EA6;\n",
       "      --disabled-fill-color: #AAA;\n",
       "      --disabled-bg-color: #DDD;\n",
       "  }\n",
       "\n",
       "  [theme=dark] .colab-df-quickchart {\n",
       "      --bg-color: #3B4455;\n",
       "      --fill-color: #D2E3FC;\n",
       "      --hover-bg-color: #434B5C;\n",
       "      --hover-fill-color: #FFFFFF;\n",
       "      --disabled-bg-color: #3B4455;\n",
       "      --disabled-fill-color: #666;\n",
       "  }\n",
       "\n",
       "  .colab-df-quickchart {\n",
       "    background-color: var(--bg-color);\n",
       "    border: none;\n",
       "    border-radius: 50%;\n",
       "    cursor: pointer;\n",
       "    display: none;\n",
       "    fill: var(--fill-color);\n",
       "    height: 32px;\n",
       "    padding: 0;\n",
       "    width: 32px;\n",
       "  }\n",
       "\n",
       "  .colab-df-quickchart:hover {\n",
       "    background-color: var(--hover-bg-color);\n",
       "    box-shadow: 0 1px 2px rgba(60, 64, 67, 0.3), 0 1px 3px 1px rgba(60, 64, 67, 0.15);\n",
       "    fill: var(--button-hover-fill-color);\n",
       "  }\n",
       "\n",
       "  .colab-df-quickchart-complete:disabled,\n",
       "  .colab-df-quickchart-complete:disabled:hover {\n",
       "    background-color: var(--disabled-bg-color);\n",
       "    fill: var(--disabled-fill-color);\n",
       "    box-shadow: none;\n",
       "  }\n",
       "\n",
       "  .colab-df-spinner {\n",
       "    border: 2px solid var(--fill-color);\n",
       "    border-color: transparent;\n",
       "    border-bottom-color: var(--fill-color);\n",
       "    animation:\n",
       "      spin 1s steps(1) infinite;\n",
       "  }\n",
       "\n",
       "  @keyframes spin {\n",
       "    0% {\n",
       "      border-color: transparent;\n",
       "      border-bottom-color: var(--fill-color);\n",
       "      border-left-color: var(--fill-color);\n",
       "    }\n",
       "    20% {\n",
       "      border-color: transparent;\n",
       "      border-left-color: var(--fill-color);\n",
       "      border-top-color: var(--fill-color);\n",
       "    }\n",
       "    30% {\n",
       "      border-color: transparent;\n",
       "      border-left-color: var(--fill-color);\n",
       "      border-top-color: var(--fill-color);\n",
       "      border-right-color: var(--fill-color);\n",
       "    }\n",
       "    40% {\n",
       "      border-color: transparent;\n",
       "      border-right-color: var(--fill-color);\n",
       "      border-top-color: var(--fill-color);\n",
       "    }\n",
       "    60% {\n",
       "      border-color: transparent;\n",
       "      border-right-color: var(--fill-color);\n",
       "    }\n",
       "    80% {\n",
       "      border-color: transparent;\n",
       "      border-right-color: var(--fill-color);\n",
       "      border-bottom-color: var(--fill-color);\n",
       "    }\n",
       "    90% {\n",
       "      border-color: transparent;\n",
       "      border-bottom-color: var(--fill-color);\n",
       "    }\n",
       "  }\n",
       "</style>\n",
       "\n",
       "  <script>\n",
       "    async function quickchart(key) {\n",
       "      const quickchartButtonEl =\n",
       "        document.querySelector('#' + key + ' button');\n",
       "      quickchartButtonEl.disabled = true;  // To prevent multiple clicks.\n",
       "      quickchartButtonEl.classList.add('colab-df-spinner');\n",
       "      try {\n",
       "        const charts = await google.colab.kernel.invokeFunction(\n",
       "            'suggestCharts', [key], {});\n",
       "      } catch (error) {\n",
       "        console.error('Error during call to suggestCharts:', error);\n",
       "      }\n",
       "      quickchartButtonEl.classList.remove('colab-df-spinner');\n",
       "      quickchartButtonEl.classList.add('colab-df-quickchart-complete');\n",
       "    }\n",
       "    (() => {\n",
       "      let quickchartButtonEl =\n",
       "        document.querySelector('#df-13c8b43a-bdcc-4eeb-b2c8-96980335917c button');\n",
       "      quickchartButtonEl.style.display =\n",
       "        google.colab.kernel.accessAllowed ? 'block' : 'none';\n",
       "    })();\n",
       "  </script>\n",
       "</div>\n",
       "\n",
       "    </div>\n",
       "  </div>\n"
      ],
      "text/plain": [
       "                                              review  sentiment  \\\n",
       "0  one reviewer mentioned watching oz episode you...          1   \n",
       "1  wonderful little production filming technique ...          1   \n",
       "2  thought wonderful way spend time hot summer we...          1   \n",
       "3  basically there family where little boy jake t...          0   \n",
       "4  petter matteis visually stunning film watch mr...          1   \n",
       "\n",
       "                                              tokens  \\\n",
       "0  [one, reviewer, mentioned, watching, oz, episo...   \n",
       "1  [wonderful, little, production, filming, techn...   \n",
       "2  [thought, wonderful, way, spend, time, hot, su...   \n",
       "3  [basically, there, family, where, little, boy,...   \n",
       "4  [petter, matteis, visually, stunning, film, wa...   \n",
       "\n",
       "                                        vector_glove  \n",
       "0  [-0.04696409, 0.096317336, -0.0609252, -0.0783...  \n",
       "1  [-0.03187767, 0.06298636, 0.018403241, -0.1293...  \n",
       "2  [-0.062777355, 0.096426, 0.02964754, -0.049772...  \n",
       "3  [-0.081736326, 0.06403657, 0.0064233136, 0.002...  \n",
       "4  [-0.10275383, 0.036911767, 0.01272219, -0.1472...  "
      ]
     },
     "execution_count": 36,
     "metadata": {},
     "output_type": "execute_result"
    }
   ],
   "source": [
    "df_preprocessed.head()"
   ]
  },
  {
   "cell_type": "code",
   "execution_count": 39,
   "metadata": {
    "id": "5gdrRryrf5-c"
   },
   "outputs": [],
   "source": [
    "import numpy as np\n",
    "import pandas as pd\n",
    "from tensorflow.keras.preprocessing.text import Tokenizer\n",
    "from tensorflow.keras.preprocessing.sequence import pad_sequences\n",
    "from tensorflow.keras.models import Sequential\n",
    "from tensorflow.keras.layers import Embedding, Conv1D, GlobalMaxPooling1D, Dense, Dropout\n",
    "from sklearn.model_selection import train_test_split\n",
    "from sklearn.metrics import accuracy_score\n",
    "\n",
    "# 1. Preparar los datos\n",
    "\n",
    "# Tokenización\n",
    "tokenizer = Tokenizer()\n",
    "tokenizer.fit_on_texts(df_preprocessed['review'])\n",
    "word_index = tokenizer.word_index\n",
    "\n",
    "# Convertir las reseñas en secuencias numéricas\n",
    "sequences = tokenizer.texts_to_sequences(df_preprocessed['review'])\n",
    "\n",
    "# Padding (ajustar longitud de las secuencias)\n",
    "max_length = 100  # Longitud fija\n",
    "X = pad_sequences(sequences, maxlen=max_length, padding='post')\n",
    "y = df_preprocessed['sentiment'].values\n",
    "\n",
    "# Dividir datos en conjunto de entrenamiento y prueba\n",
    "X_train, X_test, y_train, y_test = train_test_split(X, y, test_size=0.2, random_state=42)\n",
    "\n",
    "# 2. Crear la matriz de embeddings\n",
    "# Cargar GloVe (asegúrate de tener el archivo GloVe descargado)\n",
    "glove_path = '/content/glove.6B.300d.txt'\n",
    "\n",
    "# Cargar embeddings de GloVe\n",
    "embedding_index = {}\n",
    "with open(glove_path, 'r', encoding='utf-8') as f:\n",
    "    for line in f:\n",
    "        values = line.split()\n",
    "        word = values[0]\n",
    "        vector = np.asarray(values[1:], dtype='float32')\n",
    "        embedding_index[word] = vector\n",
    "\n",
    "# Crear la matriz de embeddings\n",
    "embedding_dim = 300\n",
    "vocab_size = len(word_index) + 1\n",
    "embedding_matrix = np.zeros((vocab_size, embedding_dim))\n",
    "\n",
    "for word, i in word_index.items():\n",
    "    embedding_vector = embedding_index.get(word)\n",
    "    if embedding_vector is not None:\n",
    "        embedding_matrix[i] = embedding_vector\n",
    "\n"
   ]
  },
  {
   "cell_type": "code",
   "source": [
    "X"
   ],
   "metadata": {
    "id": "oQWepraPtcbn",
    "outputId": "87b7dafa-f640-4964-9d62-6b766f459941",
    "colab": {
     "base_uri": "https://localhost:8080/"
    }
   },
   "execution_count": 49,
   "outputs": [
    {
     "output_type": "execute_result",
     "data": {
      "text/plain": [
       "array([[10970,  6425,  1211, ...,   780,  3581,   356],\n",
       "       [  291,    51,   237, ...,     0,     0,     0],\n",
       "       [   97,   291,    28, ...,     0,     0,     0],\n",
       "       ...,\n",
       "       [   14,  1036,  1326, ...,  3649, 19629,  5211],\n",
       "       [ 3548,   619, 20785, ..., 10787,  2287,   603],\n",
       "       [    3,  5064,   125, ...,     0,     0,     0]], dtype=int32)"
      ]
     },
     "metadata": {},
     "execution_count": 49
    }
   ]
  },
  {
   "source": [
    "model = Sequential([\n",
    "    Embedding(vocab_size, embedding_dim, weights=[embedding_matrix], input_length=max_length, trainable=False),\n",
    "    Conv1D(128, 5, activation='relu', input_shape=(max_length, embedding_dim)),\n",
    "    GlobalMaxPooling1D(),\n",
    "    Dense(64, activation='relu'),\n",
    "    Dropout(0.5),\n",
    "    Dense(1, activation='sigmoid')  # Change to a single node with sigmoid activation\n",
    "])\n",
    "\n",
    "model.compile(optimizer='adam', loss='binary_crossentropy', metrics=['accuracy'])\n",
    "model.build(input_shape=(None, max_length))\n",
    "model.summary()\n",
    "\n",
    "# 4. Entrenar el modelo\n",
    "history = model.fit(X_train, y_train, epochs=3, batch_size=64, validation_split=0.2, verbose=1)\n",
    "\n",
    "# 5. Evaluar el modelo\n",
    "y_pred = (model.predict(X_test) > 0.5).astype(\"int32\")  # Convert probabilities to 0 or 1\n",
    "accuracy = accuracy_score(y_test, y_pred)\n",
    "print(f\"Accuracy on test set: {accuracy}\")"
   ],
   "cell_type": "code",
   "metadata": {
    "id": "NE2PeReZvG8Y",
    "outputId": "339fe34e-1ac3-43e7-9458-b4b5f9756caa",
    "colab": {
     "base_uri": "https://localhost:8080/",
     "height": 585
    }
   },
   "execution_count": 55,
   "outputs": [
    {
     "output_type": "stream",
     "name": "stderr",
     "text": [
      "/usr/local/lib/python3.10/dist-packages/keras/src/layers/core/embedding.py:90: UserWarning: Argument `input_length` is deprecated. Just remove it.\n",
      "  warnings.warn(\n",
      "/usr/local/lib/python3.10/dist-packages/keras/src/layers/convolutional/base_conv.py:107: UserWarning: Do not pass an `input_shape`/`input_dim` argument to a layer. When using Sequential models, prefer using an `Input(shape)` object as the first layer in the model instead.\n",
      "  super().__init__(activity_regularizer=activity_regularizer, **kwargs)\n"
     ]
    },
    {
     "output_type": "display_data",
     "data": {
      "text/plain": [
       "\u001B[1mModel: \"sequential_3\"\u001B[0m\n"
      ],
      "text/html": [
       "<pre style=\"white-space:pre;overflow-x:auto;line-height:normal;font-family:Menlo,'DejaVu Sans Mono',consolas,'Courier New',monospace\"><span style=\"font-weight: bold\">Model: \"sequential_3\"</span>\n",
       "</pre>\n"
      ]
     },
     "metadata": {}
    },
    {
     "output_type": "display_data",
     "data": {
      "text/plain": [
       "┏━━━━━━━━━━━━━━━━━━━━━━━━━━━━━━━━━━━━━━┳━━━━━━━━━━━━━━━━━━━━━━━━━━━━━┳━━━━━━━━━━━━━━━━━┓\n",
       "┃\u001B[1m \u001B[0m\u001B[1mLayer (type)                        \u001B[0m\u001B[1m \u001B[0m┃\u001B[1m \u001B[0m\u001B[1mOutput Shape               \u001B[0m\u001B[1m \u001B[0m┃\u001B[1m \u001B[0m\u001B[1m        Param #\u001B[0m\u001B[1m \u001B[0m┃\n",
       "┡━━━━━━━━━━━━━━━━━━━━━━━━━━━━━━━━━━━━━━╇━━━━━━━━━━━━━━━━━━━━━━━━━━━━━╇━━━━━━━━━━━━━━━━━┩\n",
       "│ embedding_4 (\u001B[38;5;33mEmbedding\u001B[0m)              │ (\u001B[38;5;45mNone\u001B[0m, \u001B[38;5;34m100\u001B[0m, \u001B[38;5;34m300\u001B[0m)            │      \u001B[38;5;34m56,231,100\u001B[0m │\n",
       "├──────────────────────────────────────┼─────────────────────────────┼─────────────────┤\n",
       "│ conv1d_4 (\u001B[38;5;33mConv1D\u001B[0m)                    │ (\u001B[38;5;45mNone\u001B[0m, \u001B[38;5;34m96\u001B[0m, \u001B[38;5;34m128\u001B[0m)             │         \u001B[38;5;34m192,128\u001B[0m │\n",
       "├──────────────────────────────────────┼─────────────────────────────┼─────────────────┤\n",
       "│ global_max_pooling1d_4               │ (\u001B[38;5;45mNone\u001B[0m, \u001B[38;5;34m128\u001B[0m)                 │               \u001B[38;5;34m0\u001B[0m │\n",
       "│ (\u001B[38;5;33mGlobalMaxPooling1D\u001B[0m)                 │                             │                 │\n",
       "├──────────────────────────────────────┼─────────────────────────────┼─────────────────┤\n",
       "│ dense_7 (\u001B[38;5;33mDense\u001B[0m)                      │ (\u001B[38;5;45mNone\u001B[0m, \u001B[38;5;34m64\u001B[0m)                  │           \u001B[38;5;34m8,256\u001B[0m │\n",
       "├──────────────────────────────────────┼─────────────────────────────┼─────────────────┤\n",
       "│ dropout_4 (\u001B[38;5;33mDropout\u001B[0m)                  │ (\u001B[38;5;45mNone\u001B[0m, \u001B[38;5;34m64\u001B[0m)                  │               \u001B[38;5;34m0\u001B[0m │\n",
       "├──────────────────────────────────────┼─────────────────────────────┼─────────────────┤\n",
       "│ dense_8 (\u001B[38;5;33mDense\u001B[0m)                      │ (\u001B[38;5;45mNone\u001B[0m, \u001B[38;5;34m1\u001B[0m)                   │              \u001B[38;5;34m65\u001B[0m │\n",
       "└──────────────────────────────────────┴─────────────────────────────┴─────────────────┘\n"
      ],
      "text/html": [
       "<pre style=\"white-space:pre;overflow-x:auto;line-height:normal;font-family:Menlo,'DejaVu Sans Mono',consolas,'Courier New',monospace\">┏━━━━━━━━━━━━━━━━━━━━━━━━━━━━━━━━━━━━━━┳━━━━━━━━━━━━━━━━━━━━━━━━━━━━━┳━━━━━━━━━━━━━━━━━┓\n",
       "┃<span style=\"font-weight: bold\"> Layer (type)                         </span>┃<span style=\"font-weight: bold\"> Output Shape                </span>┃<span style=\"font-weight: bold\">         Param # </span>┃\n",
       "┡━━━━━━━━━━━━━━━━━━━━━━━━━━━━━━━━━━━━━━╇━━━━━━━━━━━━━━━━━━━━━━━━━━━━━╇━━━━━━━━━━━━━━━━━┩\n",
       "│ embedding_4 (<span style=\"color: #0087ff; text-decoration-color: #0087ff\">Embedding</span>)              │ (<span style=\"color: #00d7ff; text-decoration-color: #00d7ff\">None</span>, <span style=\"color: #00af00; text-decoration-color: #00af00\">100</span>, <span style=\"color: #00af00; text-decoration-color: #00af00\">300</span>)            │      <span style=\"color: #00af00; text-decoration-color: #00af00\">56,231,100</span> │\n",
       "├──────────────────────────────────────┼─────────────────────────────┼─────────────────┤\n",
       "│ conv1d_4 (<span style=\"color: #0087ff; text-decoration-color: #0087ff\">Conv1D</span>)                    │ (<span style=\"color: #00d7ff; text-decoration-color: #00d7ff\">None</span>, <span style=\"color: #00af00; text-decoration-color: #00af00\">96</span>, <span style=\"color: #00af00; text-decoration-color: #00af00\">128</span>)             │         <span style=\"color: #00af00; text-decoration-color: #00af00\">192,128</span> │\n",
       "├──────────────────────────────────────┼─────────────────────────────┼─────────────────┤\n",
       "│ global_max_pooling1d_4               │ (<span style=\"color: #00d7ff; text-decoration-color: #00d7ff\">None</span>, <span style=\"color: #00af00; text-decoration-color: #00af00\">128</span>)                 │               <span style=\"color: #00af00; text-decoration-color: #00af00\">0</span> │\n",
       "│ (<span style=\"color: #0087ff; text-decoration-color: #0087ff\">GlobalMaxPooling1D</span>)                 │                             │                 │\n",
       "├──────────────────────────────────────┼─────────────────────────────┼─────────────────┤\n",
       "│ dense_7 (<span style=\"color: #0087ff; text-decoration-color: #0087ff\">Dense</span>)                      │ (<span style=\"color: #00d7ff; text-decoration-color: #00d7ff\">None</span>, <span style=\"color: #00af00; text-decoration-color: #00af00\">64</span>)                  │           <span style=\"color: #00af00; text-decoration-color: #00af00\">8,256</span> │\n",
       "├──────────────────────────────────────┼─────────────────────────────┼─────────────────┤\n",
       "│ dropout_4 (<span style=\"color: #0087ff; text-decoration-color: #0087ff\">Dropout</span>)                  │ (<span style=\"color: #00d7ff; text-decoration-color: #00d7ff\">None</span>, <span style=\"color: #00af00; text-decoration-color: #00af00\">64</span>)                  │               <span style=\"color: #00af00; text-decoration-color: #00af00\">0</span> │\n",
       "├──────────────────────────────────────┼─────────────────────────────┼─────────────────┤\n",
       "│ dense_8 (<span style=\"color: #0087ff; text-decoration-color: #0087ff\">Dense</span>)                      │ (<span style=\"color: #00d7ff; text-decoration-color: #00d7ff\">None</span>, <span style=\"color: #00af00; text-decoration-color: #00af00\">1</span>)                   │              <span style=\"color: #00af00; text-decoration-color: #00af00\">65</span> │\n",
       "└──────────────────────────────────────┴─────────────────────────────┴─────────────────┘\n",
       "</pre>\n"
      ]
     },
     "metadata": {}
    },
    {
     "output_type": "display_data",
     "data": {
      "text/plain": [
       "\u001B[1m Total params: \u001B[0m\u001B[38;5;34m56,431,549\u001B[0m (215.27 MB)\n"
      ],
      "text/html": [
       "<pre style=\"white-space:pre;overflow-x:auto;line-height:normal;font-family:Menlo,'DejaVu Sans Mono',consolas,'Courier New',monospace\"><span style=\"font-weight: bold\"> Total params: </span><span style=\"color: #00af00; text-decoration-color: #00af00\">56,431,549</span> (215.27 MB)\n",
       "</pre>\n"
      ]
     },
     "metadata": {}
    },
    {
     "output_type": "display_data",
     "data": {
      "text/plain": [
       "\u001B[1m Trainable params: \u001B[0m\u001B[38;5;34m200,449\u001B[0m (783.00 KB)\n"
      ],
      "text/html": [
       "<pre style=\"white-space:pre;overflow-x:auto;line-height:normal;font-family:Menlo,'DejaVu Sans Mono',consolas,'Courier New',monospace\"><span style=\"font-weight: bold\"> Trainable params: </span><span style=\"color: #00af00; text-decoration-color: #00af00\">200,449</span> (783.00 KB)\n",
       "</pre>\n"
      ]
     },
     "metadata": {}
    },
    {
     "output_type": "display_data",
     "data": {
      "text/plain": [
       "\u001B[1m Non-trainable params: \u001B[0m\u001B[38;5;34m56,231,100\u001B[0m (214.50 MB)\n"
      ],
      "text/html": [
       "<pre style=\"white-space:pre;overflow-x:auto;line-height:normal;font-family:Menlo,'DejaVu Sans Mono',consolas,'Courier New',monospace\"><span style=\"font-weight: bold\"> Non-trainable params: </span><span style=\"color: #00af00; text-decoration-color: #00af00\">56,231,100</span> (214.50 MB)\n",
       "</pre>\n"
      ]
     },
     "metadata": {}
    },
    {
     "output_type": "stream",
     "name": "stdout",
     "text": [
      "Epoch 1/3\n",
      "\u001B[1m500/500\u001B[0m \u001B[32m━━━━━━━━━━━━━━━━━━━━\u001B[0m\u001B[37m\u001B[0m \u001B[1m84s\u001B[0m 165ms/step - accuracy: 0.7375 - loss: 0.5133 - val_accuracy: 0.8404 - val_loss: 0.3549\n",
      "Epoch 2/3\n",
      "\u001B[1m500/500\u001B[0m \u001B[32m━━━━━━━━━━━━━━━━━━━━\u001B[0m\u001B[37m\u001B[0m \u001B[1m139s\u001B[0m 159ms/step - accuracy: 0.8713 - loss: 0.3102 - val_accuracy: 0.8570 - val_loss: 0.3264\n",
      "Epoch 3/3\n",
      "\u001B[1m500/500\u001B[0m \u001B[32m━━━━━━━━━━━━━━━━━━━━\u001B[0m\u001B[37m\u001B[0m \u001B[1m82s\u001B[0m 159ms/step - accuracy: 0.9122 - loss: 0.2215 - val_accuracy: 0.8530 - val_loss: 0.3405\n",
      "\u001B[1m313/313\u001B[0m \u001B[32m━━━━━━━━━━━━━━━━━━━━\u001B[0m\u001B[37m\u001B[0m \u001B[1m9s\u001B[0m 27ms/step\n",
      "Accuracy on test set: 0.854\n"
     ]
    }
   ]
  },
  {
   "cell_type": "code",
   "source": [
    "X_train[0]"
   ],
   "metadata": {
    "id": "DvLvB80SsIyM",
    "outputId": "70d01aed-431d-4fa9-fe75-b3c5ab5bf8dc",
    "colab": {
     "base_uri": "https://localhost:8080/"
    }
   },
   "execution_count": 56,
   "outputs": [
    {
     "output_type": "execute_result",
     "data": {
      "text/plain": [
       "array([   127,    111,     76,    920,   1080,   7425,     73,   8367,\n",
       "          961,      1,    863,  15048, 162346,    162,     12,     38,\n",
       "           38,    477,   2973,  10851,     25,   1156,     96,   3622,\n",
       "        16007,    120,    562,    245,   5019,  28588,   2154,  57591,\n",
       "        11380,    197,    516,    249,   2635,   1028,  12399,   3102,\n",
       "           68,    334,    865,    968,    730,   1069,    167,   2240,\n",
       "          281,  25185,    180,   3258,    848,  10641,   1235,     12,\n",
       "        11873,    132,      3,    115,   1219,    859,   3999,  20943,\n",
       "        29162,    133,    250,   4237,   2293,    107,   4929,  42063,\n",
       "          688,     77,     63,     88,     42,   1307,    361,    137,\n",
       "          228,   1282,      4,   1416,   5058,    452,      2,   3034,\n",
       "         1636,   2143,    212,    330,   2319,  17057,  60771,    418,\n",
       "         3480,    130,    136,   3506], dtype=int32)"
      ]
     },
     "metadata": {},
     "execution_count": 56
    }
   ]
  },
  {
   "cell_type": "code",
   "source": [
    "# Hacer predicciones\n",
    "y_predlr = model.predict(X_test)"
   ],
   "metadata": {
    "id": "xRUztrF7sxDe",
    "outputId": "18f2d0e5-e58a-46a7-be72-a4cbede0c084",
    "colab": {
     "base_uri": "https://localhost:8080/"
    }
   },
   "execution_count": 57,
   "outputs": [
    {
     "output_type": "stream",
     "name": "stdout",
     "text": [
      "\u001B[1m313/313\u001B[0m \u001B[32m━━━━━━━━━━━━━━━━━━━━\u001B[0m\u001B[37m\u001B[0m \u001B[1m13s\u001B[0m 41ms/step\n"
     ]
    }
   ]
  },
  {
   "cell_type": "code",
   "source": [
    "y_predlr"
   ],
   "metadata": {
    "id": "QXM95shvtMZs",
    "outputId": "2d126e33-c93b-4e1f-d0fb-263e1a5a50be",
    "colab": {
     "base_uri": "https://localhost:8080/"
    }
   },
   "execution_count": 58,
   "outputs": [
    {
     "output_type": "execute_result",
     "data": {
      "text/plain": [
       "array([[0.12526941],\n",
       "       [0.9306771 ],\n",
       "       [0.38617858],\n",
       "       ...,\n",
       "       [0.5358306 ],\n",
       "       [0.07702623],\n",
       "       [0.6367016 ]], dtype=float32)"
      ]
     },
     "metadata": {},
     "execution_count": 58
    }
   ]
  },
  {
   "cell_type": "code",
   "source": [
    "# prompt: quiero convertir a y_predlr a cuanto el resutado sea mayor a 0.49 sea 1 y menor a o igual a 0\n",
    "\n",
    "# Convertir las probabilidades a 0 o 1 según el umbral de 0.49\n",
    "y_pred_binary = (y_predlr > 0.49).astype(int)\n",
    "\n",
    "y_pred_binary"
   ],
   "metadata": {
    "id": "-PPiTbkwxB6E",
    "outputId": "03ef6e6d-7d84-4a78-b0c5-f5e863005e81",
    "colab": {
     "base_uri": "https://localhost:8080/"
    }
   },
   "execution_count": 60,
   "outputs": [
    {
     "output_type": "execute_result",
     "data": {
      "text/plain": [
       "array([[0],\n",
       "       [1],\n",
       "       [0],\n",
       "       ...,\n",
       "       [1],\n",
       "       [0],\n",
       "       [1]])"
      ]
     },
     "metadata": {},
     "execution_count": 60
    }
   ]
  },
  {
   "cell_type": "code",
   "source": [
    "from sklearn.feature_extraction.text import TfidfVectorizer\n",
    "import pandas as pd\n",
    "\n",
    "# Dividir los textos en positivos y negativos\n",
    "positive_reviews = df[df['sentiment'] == 1]['review']\n",
    "negative_reviews = df[df['sentiment'] == 0]['review']\n",
    "\n",
    "# Vectorizar usando TF-IDF\n",
    "tfidf = TfidfVectorizer(max_features=500, stop_words='english')\n",
    "positive_matrix = tfidf.fit_transform(positive_reviews)\n",
    "negative_matrix = tfidf.fit_transform(negative_reviews)\n",
    "\n",
    "# Extraer vocabulario y puntajes\n",
    "positive_scores = pd.DataFrame(\n",
    "    positive_matrix.toarray(), columns=tfidf.get_feature_names_out()\n",
    ").mean().sort_values(ascending=False)\n",
    "\n",
    "negative_scores = pd.DataFrame(\n",
    "    negative_matrix.toarray(), columns=tfidf.get_feature_names_out()\n",
    ").mean().sort_values(ascending=False)\n",
    "\n",
    "# Mostrar las palabras más representativas\n",
    "print(\"Palabras clave positivas:\")\n",
    "print(positive_scores.head(10))\n",
    "\n",
    "print(\"\\nPalabras clave negativas:\")\n",
    "print(negative_scores.head(10))\n"
   ],
   "metadata": {
    "id": "RWTdGJ9_xjKb",
    "outputId": "781bf5b8-5daa-478b-c04c-cf5828a9bdba",
    "colab": {
     "base_uri": "https://localhost:8080/"
    }
   },
   "execution_count": 62,
   "outputs": [
    {
     "output_type": "stream",
     "name": "stdout",
     "text": [
      "Palabras clave positivas:\n",
      "final     0.102537\n",
      "music     0.102390\n",
      "live      0.045594\n",
      "got       0.042636\n",
      "try       0.041428\n",
      "group     0.041264\n",
      "stupid    0.040604\n",
      "child     0.039112\n",
      "rest      0.034448\n",
      "matter    0.032481\n",
      "dtype: float64\n",
      "\n",
      "Palabras clave negativas:\n",
      "movie        0.115430\n",
      "film         0.093163\n",
      "like         0.052624\n",
      "bad          0.043443\n",
      "character    0.040691\n",
      "good         0.040622\n",
      "time         0.039833\n",
      "really       0.037147\n",
      "make         0.036157\n",
      "story        0.034525\n",
      "dtype: float64\n"
     ]
    }
   ]
  },
  {
   "cell_type": "code",
   "source": [
    "import pandas as pd\n",
    "\n",
    "# Listas de palabras clave por aspecto\n",
    "aspects = {\n",
    "    'acting': ['acting', 'performance', 'actor', 'actress', 'cast'],\n",
    "    'plot': ['plot', 'story', 'narrative', 'screenplay'],\n",
    "    'visuals': ['visual', 'effects', 'cinematography', 'scenes', 'special effects'],\n",
    "    'music': ['music', 'soundtrack', 'score', 'audio']\n",
    "}\n",
    "\n",
    "# Función para contar ocurrencias de palabras clave en un texto\n",
    "def count_aspect_mentions(text, aspect_keywords):\n",
    "    text = text.lower()  # Convertir a minúsculas\n",
    "    return sum(1 for word in aspect_keywords if word in text)\n",
    "\n",
    "# Crear columnas para cada aspecto\n",
    "for aspect, keywords in aspects.items():\n",
    "    df[aspect] = df['review'].apply(lambda x: count_aspect_mentions(x, keywords))\n",
    "\n",
    "# Promediar menciones por polaridad\n",
    "aspect_summary = df.groupby('sentiment')[list(aspects.keys())].mean()\n",
    "\n",
    "print(\"Promedio de menciones por polaridad:\")\n",
    "print(aspect_summary)\n"
   ],
   "metadata": {
    "id": "IKKeKw3Sx6aD",
    "outputId": "90226aff-e61a-46cb-907f-5b037587263c",
    "colab": {
     "base_uri": "https://localhost:8080/"
    }
   },
   "execution_count": 63,
   "outputs": [
    {
     "output_type": "stream",
     "name": "stdout",
     "text": [
      "Promedio de menciones por polaridad:\n",
      "            acting     plot  visuals    music\n",
      "sentiment                                    \n",
      "0          0.79188  0.62360  0.06932  0.15532\n",
      "1          0.77900  0.58636  0.09544  0.23020\n"
     ]
    }
   ]
  },
  {
   "cell_type": "code",
   "source": [
    "from sklearn.metrics import classification_report, confusion_matrix, accuracy_score\n",
    "\n",
    "# Evaluate the model\n",
    "print(classification_report(y_test, y_pred_binary))\n",
    "print(confusion_matrix(y_test, y_pred_binary))\n",
    "print(f\"Accuracy: {accuracy_score(y_test, y_pred_binary)}\")"
   ],
   "metadata": {
    "id": "ke3SVJ9QtClX",
    "outputId": "75c66386-be5a-45f5-a322-1f2ef01a2175",
    "colab": {
     "base_uri": "https://localhost:8080/"
    }
   },
   "execution_count": 61,
   "outputs": [
    {
     "output_type": "stream",
     "name": "stdout",
     "text": [
      "              precision    recall  f1-score   support\n",
      "\n",
      "           0       0.88      0.82      0.85      4961\n",
      "           1       0.83      0.89      0.86      5039\n",
      "\n",
      "    accuracy                           0.85     10000\n",
      "   macro avg       0.86      0.85      0.85     10000\n",
      "weighted avg       0.86      0.85      0.85     10000\n",
      "\n",
      "[[4062  899]\n",
      " [ 560 4479]]\n",
      "Accuracy: 0.8541\n"
     ]
    }
   ]
  },
  {
   "cell_type": "code",
   "source": [
    "# prompt: GENERA MATRIZ DE CONFUNSION DE MANERA VISUAL\n",
    "\n",
    "import matplotlib.pyplot as plt\n",
    "import seaborn as sns\n",
    "from sklearn.metrics import confusion_matrix\n",
    "\n",
    "# ... (Your existing code) ...\n",
    "\n",
    "# Assuming y_test and y_pred_binary are defined from your model's prediction\n",
    "cm = confusion_matrix(y_test, y_pred_binary)\n",
    "\n",
    "# Visualize the confusion matrix\n",
    "plt.figure(figsize=(8, 6))\n",
    "sns.heatmap(cm, annot=True, fmt='d', cmap='Blues',\n",
    "            xticklabels=['Negative', 'Positive'],\n",
    "            yticklabels=['Negative', 'Positive'])\n",
    "plt.xlabel('Predicted')\n",
    "plt.ylabel('True')\n",
    "plt.title('Confusion Matrix')\n",
    "plt.show()"
   ],
   "metadata": {
    "id": "QVEghONQzX1y",
    "outputId": "17db7a6f-ddb4-4e2f-810c-8218785331ca",
    "colab": {
     "base_uri": "https://localhost:8080/",
     "height": 564
    }
   },
   "execution_count": 70,
   "outputs": [
    {
     "output_type": "display_data",
     "data": {
      "text/plain": [
       "<Figure size 800x600 with 2 Axes>"
      ],
      "image/png": "[encoded data removed]"
     },
     "metadata": {}
    }
   ]
  },
  {
   "cell_type": "code",
   "source": [
    "# prompt: genera Curvas ROC Para evaluar la capacidad del modelo para diferenciar entre clases positivas y negativas.\n",
    "\n",
    "from sklearn.metrics import roc_curve, auc\n",
    "from sklearn.metrics import classification_report, confusion_matrix, accuracy_score\n",
    "\n",
    "# ... (Your existing code) ...\n",
    "\n",
    "\n",
    "# Assuming y_test contains the true labels and y_predlr contains predicted probabilities\n",
    "fpr, tpr, thresholds = roc_curve(y_test, y_predlr)\n",
    "roc_auc = auc(fpr, tpr)\n",
    "\n",
    "plt.figure()\n",
    "plt.plot(fpr, tpr, color='darkorange', lw=2, label='ROC curve (area = %0.2f)' % roc_auc)\n",
    "plt.plot([0, 1], [0, 1], color='navy', lw=2, linestyle='--')\n",
    "plt.xlim([0.0, 1.0])\n",
    "plt.ylim([0.0, 1.05])\n",
    "plt.xlabel('False Positive Rate')\n",
    "plt.ylabel('True Positive Rate')\n",
    "plt.title('Receiver Operating Characteristic')\n",
    "plt.legend(loc=\"lower right\")\n",
    "plt.show()"
   ],
   "metadata": {
    "id": "cXKfxMy_yaGN",
    "outputId": "81172d7c-6c1c-488a-d9c8-c9b90099d1e8",
    "colab": {
     "base_uri": "https://localhost:8080/",
     "height": 472
    }
   },
   "execution_count": 67,
   "outputs": [
    {
     "output_type": "display_data",
     "data": {
      "text/plain": [
       "<Figure size 640x480 with 1 Axes>"
      ],
      "image/png": "[encoded data removed]"
     },
     "metadata": {}
    }
   ]
  }
 ],
 "metadata": {
  "colab": {
   "provenance": []
  },
  "kernelspec": {
   "display_name": "Python 3",
   "name": "python3"
  },
  "language_info": {
   "name": "python"
  }
 },
 "nbformat": 4,
 "nbformat_minor": 0
}
