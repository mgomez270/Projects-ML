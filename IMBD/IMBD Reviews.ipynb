{
 "cells": [
  {
   "cell_type": "markdown",
   "metadata": {
    "id": "JJAdBOz2rEnj"
   },
   "source": "# Convolutional Neural Network IMBD"
  },
  {
   "metadata": {},
   "cell_type": "markdown",
   "source": "Proyecto para Interpretación de sentimientos con Lenguaje Natural"
  },
  {
   "metadata": {},
   "cell_type": "markdown",
   "source": "## Librerias"
  },
  {
   "cell_type": "code",
   "metadata": {
    "id": "GJIARvp7rD9u",
    "ExecuteTime": {
     "end_time": "2025-08-30T03:17:56.231822Z",
     "start_time": "2025-08-30T03:17:33.496651Z"
    }
   },
   "source": [
    "import pandas as pd\n",
    "import matplotlib.pyplot as plt\n",
    "import numpy as np\n",
    "import tensorflow as tf\n",
    "from tensorflow.keras.preprocessing.text import Tokenizer\n",
    "from tensorflow.keras.preprocessing.sequence import pad_sequences\n",
    "from sklearn.feature_extraction.text import CountVectorizer"
   ],
   "outputs": [],
   "execution_count": 3
  },
  {
   "metadata": {
    "ExecuteTime": {
     "end_time": "2025-08-30T02:58:53.955343Z",
     "start_time": "2025-08-30T02:58:53.945675Z"
    }
   },
   "cell_type": "code",
   "source": "",
   "outputs": [],
   "execution_count": null
  },
  {
   "cell_type": "code",
   "metadata": {
    "colab": {
     "base_uri": "https://localhost:8080/"
    },
    "id": "pCA4Gim903zr",
    "outputId": "b8ab92a3-f40c-47a9-ce4d-a1e5a196339e",
    "ExecuteTime": {
     "end_time": "2025-08-30T03:19:15.770974Z",
     "start_time": "2025-08-30T03:19:09.886132Z"
    }
   },
   "source": [
    "import nltk\n",
    "from nltk.corpus import stopwords\n",
    "from nltk.corpus import words\n",
    "from nltk import ngrams as nltk_ngrams\n",
    "from nltk.stem import WordNetLemmatizer\n",
    "from nltk.tokenize import word_tokenize\n",
    "nltk.download('wordnet')\n",
    "nltk.download('stopwords')\n",
    "nltk.download('words')\n",
    "english_words = set(words.words())\n",
    "import re\n",
    "import string\n",
    "\n",
    "lemmatizer = WordNetLemmatizer()\n",
    "\n",
    "from collections import Counter\n"
   ],
   "outputs": [
    {
     "name": "stderr",
     "output_type": "stream",
     "text": [
      "[nltk_data] Downloading package wordnet to\n",
      "[nltk_data]     C:\\Users\\maico\\AppData\\Roaming\\nltk_data...\n",
      "[nltk_data]   Package wordnet is already up-to-date!\n",
      "[nltk_data] Downloading package stopwords to\n",
      "[nltk_data]     C:\\Users\\maico\\AppData\\Roaming\\nltk_data...\n",
      "[nltk_data]   Package stopwords is already up-to-date!\n",
      "[nltk_data] Downloading package words to\n",
      "[nltk_data]     C:\\Users\\maico\\AppData\\Roaming\\nltk_data...\n",
      "[nltk_data]   Package words is already up-to-date!\n"
     ]
    }
   ],
   "execution_count": 6
  },
  {
   "metadata": {},
   "cell_type": "markdown",
   "source": "## Limpieza y preparación de Datos"
  },
  {
   "cell_type": "code",
   "metadata": {
    "id": "YPQrxT7QraVT",
    "ExecuteTime": {
     "end_time": "2025-08-30T03:19:22.696098Z",
     "start_time": "2025-08-30T03:19:19.840475Z"
    }
   },
   "source": [
    "df = pd.read_csv(\"./Data/IMDB Dataset.csv\")\n",
    "df.head(2)"
   ],
   "outputs": [
    {
     "data": {
      "text/plain": [
       "                                              review sentiment\n",
       "0  One of the other reviewers has mentioned that ...  positive\n",
       "1  A wonderful little production. <br /><br />The...  positive"
      ],
      "text/html": [
       "<div>\n",
       "<style scoped>\n",
       "    .dataframe tbody tr th:only-of-type {\n",
       "        vertical-align: middle;\n",
       "    }\n",
       "\n",
       "    .dataframe tbody tr th {\n",
       "        vertical-align: top;\n",
       "    }\n",
       "\n",
       "    .dataframe thead th {\n",
       "        text-align: right;\n",
       "    }\n",
       "</style>\n",
       "<table border=\"1\" class=\"dataframe\">\n",
       "  <thead>\n",
       "    <tr style=\"text-align: right;\">\n",
       "      <th></th>\n",
       "      <th>review</th>\n",
       "      <th>sentiment</th>\n",
       "    </tr>\n",
       "  </thead>\n",
       "  <tbody>\n",
       "    <tr>\n",
       "      <th>0</th>\n",
       "      <td>One of the other reviewers has mentioned that ...</td>\n",
       "      <td>positive</td>\n",
       "    </tr>\n",
       "    <tr>\n",
       "      <th>1</th>\n",
       "      <td>A wonderful little production. &lt;br /&gt;&lt;br /&gt;The...</td>\n",
       "      <td>positive</td>\n",
       "    </tr>\n",
       "  </tbody>\n",
       "</table>\n",
       "</div>"
      ]
     },
     "execution_count": 7,
     "metadata": {},
     "output_type": "execute_result"
    }
   ],
   "execution_count": 7
  },
  {
   "cell_type": "code",
   "metadata": {
    "id": "9kO-z12_7Ty8",
    "ExecuteTime": {
     "end_time": "2025-08-30T03:19:34.555693Z",
     "start_time": "2025-08-30T03:19:34.401161Z"
    }
   },
   "source": [
    "#Convertir sentimiento a bolean\n",
    "df['sentiment'] = df['sentiment'].apply(lambda x: 1 if x == 'positive' else 0)"
   ],
   "outputs": [],
   "execution_count": 9
  },
  {
   "cell_type": "code",
   "metadata": {
    "id": "smQy4TYd0yY9",
    "ExecuteTime": {
     "end_time": "2025-08-30T03:19:37.128078Z",
     "start_time": "2025-08-30T03:19:36.182851Z"
    }
   },
   "source": [
    "#Proceso de limpieza de texto\n",
    "def preprocess_text(text):\n",
    "    # Convertir a minúsculas\n",
    "    text = text.lower()\n",
    "\n",
    "    # Eliminar etiquetas HTML\n",
    "    text = re.sub(r'<.*?>', '', text)\n",
    "\n",
    "    # Eliminar nombres propios\n",
    "    text = re.sub(r'\\b[A-Z][a-z]+(?:\\'[a-z]+)?\\b', '', text)\n",
    "\n",
    "    # Eliminar frases entre comillas dobles\n",
    "    text = re.sub(r'\\\".*?\\\"', '', text)\n",
    "\n",
    "    # Eliminar contenido entre corchetes\n",
    "    text = re.sub(r'\\[.*?\\]', '', text)\n",
    "\n",
    "    # Eliminar puntuación\n",
    "    text = re.sub(r'[%s]' % re.escape(string.punctuation), '', text)\n",
    "\n",
    "    # Eliminar palabras con números\n",
    "    text = re.sub(r'\\w*\\d\\w*', '', text)\n",
    "\n",
    "    # Eliminar caracteres repetidos\n",
    "    text = re.sub(r'(.)\\1{2,}', r'\\1', text)\n",
    "\n",
    "    # Eliminar números\n",
    "    text = re.sub(r'\\d+', '', text)\n",
    "\n",
    "    # Eliminar palabras muy largas o muy cortas\n",
    "    text = ' '.join([word for word in text.split() if 2 <= len(word) <= 16])\n",
    "\n",
    "    # Eliminar stopwords, conservando palabras específicas\n",
    "    stop_words = set(stopwords.words('english'))\n",
    "    keep_words = {'what', 'who', 'why', 'when', 'where', 'how'}  # Palabras importantes\n",
    "    words = text.split()\n",
    "    text = ' '.join([word for word in words if word not in stop_words or word in keep_words])\n",
    "\n",
    "    # Filtrar palabras que contengan solo letras\n",
    "    text = ' '.join([word for word in text.split() if word.isalpha()])\n",
    "\n",
    "    # Filtrar palabras con prefijos anómalos\n",
    "    text = ' '.join([word for word in text.split() if not word.startswith('aa')])\n",
    "    # Lematización\n",
    "    lemmatizer = WordNetLemmatizer()\n",
    "    text = ' '.join([lemmatizer.lemmatize(word) for word in text.split()])\n",
    "\n",
    "    return text\n"
   ],
   "outputs": [],
   "execution_count": 10
  },
  {
   "cell_type": "code",
   "metadata": {
    "id": "wNEinLQh4FIg",
    "ExecuteTime": {
     "end_time": "2025-08-30T03:19:52.270007Z",
     "start_time": "2025-08-30T03:19:50.339483Z"
    }
   },
   "source": [
    "df_preprocessed = df.copy()"
   ],
   "outputs": [],
   "execution_count": 11
  },
  {
   "cell_type": "code",
   "metadata": {
    "id": "IKjT_AVJ1b1K",
    "ExecuteTime": {
     "end_time": "2025-08-30T03:21:43.551102Z",
     "start_time": "2025-08-30T03:19:55.430994Z"
    }
   },
   "source": [
    "df_preprocessed['review'] = df_preprocessed['review'].apply(preprocess_text)"
   ],
   "outputs": [],
   "execution_count": 12
  },
  {
   "cell_type": "code",
   "metadata": {
    "colab": {
     "base_uri": "https://localhost:8080/",
     "height": 206
    },
    "id": "_CGkjHmqImg1",
    "outputId": "730e8a91-3d72-498a-eefe-b889a5ca3128",
    "ExecuteTime": {
     "end_time": "2025-08-30T03:22:20.851912Z",
     "start_time": "2025-08-30T03:22:20.380020Z"
    }
   },
   "source": "df_preprocessed.head(2)",
   "outputs": [
    {
     "data": {
      "text/plain": [
       "                                              review  sentiment\n",
       "0  one reviewer mentioned watching oz episode you...          1\n",
       "1  wonderful little production filming technique ...          1"
      ],
      "text/html": [
       "<div>\n",
       "<style scoped>\n",
       "    .dataframe tbody tr th:only-of-type {\n",
       "        vertical-align: middle;\n",
       "    }\n",
       "\n",
       "    .dataframe tbody tr th {\n",
       "        vertical-align: top;\n",
       "    }\n",
       "\n",
       "    .dataframe thead th {\n",
       "        text-align: right;\n",
       "    }\n",
       "</style>\n",
       "<table border=\"1\" class=\"dataframe\">\n",
       "  <thead>\n",
       "    <tr style=\"text-align: right;\">\n",
       "      <th></th>\n",
       "      <th>review</th>\n",
       "      <th>sentiment</th>\n",
       "    </tr>\n",
       "  </thead>\n",
       "  <tbody>\n",
       "    <tr>\n",
       "      <th>0</th>\n",
       "      <td>one reviewer mentioned watching oz episode you...</td>\n",
       "      <td>1</td>\n",
       "    </tr>\n",
       "    <tr>\n",
       "      <th>1</th>\n",
       "      <td>wonderful little production filming technique ...</td>\n",
       "      <td>1</td>\n",
       "    </tr>\n",
       "  </tbody>\n",
       "</table>\n",
       "</div>"
      ]
     },
     "execution_count": 13,
     "metadata": {},
     "output_type": "execute_result"
    }
   ],
   "execution_count": 13
  },
  {
   "metadata": {},
   "cell_type": "markdown",
   "source": "## EDA"
  },
  {
   "cell_type": "markdown",
   "metadata": {
    "id": "NNuynjXOCzz6"
   },
   "source": "### Generar bigramas"
  },
  {
   "metadata": {},
   "cell_type": "markdown",
   "source": "Creamos bigramas para hacer relación más rapidamente de las combinaciónes que definen un comentario positivo y negativo"
  },
  {
   "cell_type": "code",
   "metadata": {
    "id": "t-GGRgyQJlGF",
    "ExecuteTime": {
     "end_time": "2025-08-30T03:00:52.358443Z",
     "start_time": "2025-08-30T03:00:52.330517Z"
    }
   },
   "source": " # Import ngrams and give it a unique name\n",
   "outputs": [],
   "execution_count": 13
  },
  {
   "cell_type": "code",
   "metadata": {
    "id": "mWHxi35y1OXG",
    "jupyter": {
     "is_executing": true
    },
    "ExecuteTime": {
     "start_time": "2025-08-30T03:13:38.724577Z"
    }
   },
   "source": [
    "def generate_ngrams(text, n):\n",
    "    tokens = text.lower().split()\n",
    "    n_grams = list(nltk_ngrams(tokens, n))  # Use the imported function\n",
    "    return n_grams\n",
    "\n",
    "n = 2  # You can change this to generate different n-grams (e.g., 3 for trigrams)\n",
    "df_preprocessed['ngrams'] = df_preprocessed['review'].apply(lambda x: generate_ngrams(x, n))\n",
    "\n",
    "# Separate ngrams by sentiment\n",
    "positive_ngrams = [ngram for sentiment, ngrams_list in zip(df_preprocessed['sentiment'], df_preprocessed['ngrams'])\n",
    "                   if sentiment == 1 for ngram in ngrams_list]\n",
    "negative_ngrams = [ngram for sentiment, ngrams_list in zip(df_preprocessed['sentiment'], df_preprocessed['ngrams'])\n",
    "                   if sentiment == 0 for ngram in ngrams_list]"
   ],
   "outputs": [],
   "execution_count": null
  },
  {
   "metadata": {
    "ExecuteTime": {
     "end_time": "2025-08-30T03:43:57.774425Z",
     "start_time": "2025-08-30T03:43:56.944042Z"
    }
   },
   "cell_type": "code",
   "source": "df_preprocessed.head()",
   "outputs": [
    {
     "data": {
      "text/plain": [
       "                                              review  sentiment\n",
       "0  one reviewer mentioned watching oz episode you...          1\n",
       "1  wonderful little production filming technique ...          1\n",
       "2  thought wonderful way spend time hot summer we...          1\n",
       "3  basically there family where little boy jake t...          0\n",
       "4  petter matteis visually stunning film watch mr...          1"
      ],
      "text/html": [
       "<div>\n",
       "<style scoped>\n",
       "    .dataframe tbody tr th:only-of-type {\n",
       "        vertical-align: middle;\n",
       "    }\n",
       "\n",
       "    .dataframe tbody tr th {\n",
       "        vertical-align: top;\n",
       "    }\n",
       "\n",
       "    .dataframe thead th {\n",
       "        text-align: right;\n",
       "    }\n",
       "</style>\n",
       "<table border=\"1\" class=\"dataframe\">\n",
       "  <thead>\n",
       "    <tr style=\"text-align: right;\">\n",
       "      <th></th>\n",
       "      <th>review</th>\n",
       "      <th>sentiment</th>\n",
       "    </tr>\n",
       "  </thead>\n",
       "  <tbody>\n",
       "    <tr>\n",
       "      <th>0</th>\n",
       "      <td>one reviewer mentioned watching oz episode you...</td>\n",
       "      <td>1</td>\n",
       "    </tr>\n",
       "    <tr>\n",
       "      <th>1</th>\n",
       "      <td>wonderful little production filming technique ...</td>\n",
       "      <td>1</td>\n",
       "    </tr>\n",
       "    <tr>\n",
       "      <th>2</th>\n",
       "      <td>thought wonderful way spend time hot summer we...</td>\n",
       "      <td>1</td>\n",
       "    </tr>\n",
       "    <tr>\n",
       "      <th>3</th>\n",
       "      <td>basically there family where little boy jake t...</td>\n",
       "      <td>0</td>\n",
       "    </tr>\n",
       "    <tr>\n",
       "      <th>4</th>\n",
       "      <td>petter matteis visually stunning film watch mr...</td>\n",
       "      <td>1</td>\n",
       "    </tr>\n",
       "  </tbody>\n",
       "</table>\n",
       "</div>"
      ]
     },
     "execution_count": 14,
     "metadata": {},
     "output_type": "execute_result"
    }
   ],
   "execution_count": 14
  },
  {
   "cell_type": "markdown",
   "metadata": {
    "id": "A7rEjo0nC9Nx"
   },
   "source": [
    "contar frecuencias"
   ]
  },
  {
   "cell_type": "code",
   "metadata": {
    "id": "4seP0tq-Dkbs",
    "ExecuteTime": {
     "end_time": "2025-08-30T03:01:31.050100Z",
     "start_time": "2025-08-30T03:01:18.478012Z"
    }
   },
   "source": [
    "positive_ngram_counts = Counter(positive_ngrams)\n",
    "negative_ngram_counts = Counter(negative_ngrams)\n"
   ],
   "outputs": [],
   "execution_count": 16
  },
  {
   "cell_type": "markdown",
   "metadata": {
    "id": "t5yuusJAIrhi"
   },
   "source": "#### Calcular diferencia de frecuencias"
  },
  {
   "metadata": {},
   "cell_type": "markdown",
   "source": "Ayuda a evitar tener en cuenta ngramas que se repitan tanto en comentarios positivos como en negativos, los cuales no terminan siendo de mucha ayuda"
  },
  {
   "cell_type": "code",
   "metadata": {
    "id": "Zvg9DQCZ1ORE",
    "ExecuteTime": {
     "end_time": "2025-08-30T03:01:31.214897Z",
     "start_time": "2025-08-30T03:01:31.117536Z"
    }
   },
   "source": [
    "'''\n",
    "all_words = set(negative_ngram_counts.keys()).union(set(positive_ngram_counts.keys()))\n",
    "\n",
    "# Crear un diccionario para las diferencias de frecuencias\n",
    "frequency_differences = {}\n",
    "\n",
    "for word in all_words:\n",
    "    # Obtén la frecuencia de cada palabra en ambas listas, si no existe, asigna 0\n",
    "    negative_freq = negative_ngram_counts.get(word, 0)\n",
    "    positive_freq = positive_ngram_counts.get(word, 0)\n",
    "\n",
    "    # Restar la frecuencia de las palabras\n",
    "    frequency_differences[word] =  positive_freq - negative_freq\n",
    "\n",
    "# Ordenar las palabras por la diferencia de frecuencias (de mayor a menor)\n",
    "sorted_frequency_differences = sorted(frequency_differences.items(), key=lambda x: x[1], reverse=True)\n",
    "'''"
   ],
   "outputs": [
    {
     "data": {
      "text/plain": [
       "'\\nall_words = set(negative_ngram_counts.keys()).union(set(positive_ngram_counts.keys()))\\n\\n# Crear un diccionario para las diferencias de frecuencias\\nfrequency_differences = {}\\n\\nfor word in all_words:\\n    # Obtén la frecuencia de cada palabra en ambas listas, si no existe, asigna 0\\n    negative_freq = negative_ngram_counts.get(word, 0)\\n    positive_freq = positive_ngram_counts.get(word, 0)\\n\\n    # Restar la frecuencia de las palabras\\n    frequency_differences[word] =  positive_freq - negative_freq\\n\\n# Ordenar las palabras por la diferencia de frecuencias (de mayor a menor)\\nsorted_frequency_differences = sorted(frequency_differences.items(), key=lambda x: x[1], reverse=True)\\n'"
      ]
     },
     "execution_count": 17,
     "metadata": {},
     "output_type": "execute_result"
    }
   ],
   "execution_count": 17
  },
  {
   "metadata": {},
   "cell_type": "markdown",
   "source": "### Análisis de bigramas"
  },
  {
   "cell_type": "code",
   "metadata": {
    "colab": {
     "base_uri": "https://localhost:8080/",
     "height": 607
    },
    "id": "weBpHZc38p6w",
    "outputId": "8dbcffe8-be1a-47bd-c980-71a328a0445a",
    "ExecuteTime": {
     "end_time": "2025-08-30T03:01:37.823514Z",
     "start_time": "2025-08-30T03:01:31.245168Z"
    }
   },
   "source": [
    "# graficar los mejores 10 ngramas por categoria\n",
    "top_n = 10\n",
    "\n",
    "top_positive_ngrams = positive_ngram_counts.most_common(top_n)\n",
    "top_negative_ngrams = negative_ngram_counts.most_common(top_n)\n",
    "\n",
    "#Prepare data for plotting\n",
    "ngrams_pos = [str(ngram) for ngram, count in top_positive_ngrams]\n",
    "counts_pos = [count for ngram, count in top_positive_ngrams]\n",
    "\n",
    "ngrams_neg = [str(ngram) for ngram, count in top_negative_ngrams]\n",
    "counts_neg = [count for ngram, count in top_negative_ngrams]\n",
    "\n",
    "\n",
    "\n",
    "plt.figure(figsize=(12, 5))\n",
    "\n",
    "plt.subplot(1, 2, 1)\n",
    "plt.bar(ngrams_pos, counts_pos)\n",
    "plt.title(f'Top {top_n} Most Frequent {n}-grams (Positive)')\n",
    "plt.xticks(rotation=45, ha='right')\n",
    "\n",
    "plt.subplot(1, 2, 2)\n",
    "plt.bar(ngrams_neg, counts_neg)\n",
    "plt.title(f'Top {top_n} Most Frequent {n}-grams (Negative)')\n",
    "plt.xticks(rotation=45, ha='right')\n",
    "\n",
    "plt.tight_layout()\n",
    "plt.show()"
   ],
   "outputs": [
    {
     "data": {
      "text/plain": [
       "<Figure size 1200x500 with 2 Axes>"
      ],
      "image/png": "[encoded data removed]"
     },
     "metadata": {},
     "output_type": "display_data"
    }
   ],
   "execution_count": 18
  },
  {
   "metadata": {},
   "cell_type": "markdown",
   "source": "### Análisis por categorias"
  },
  {
   "metadata": {
    "id": "T5LjGL7bOAEW",
    "ExecuteTime": {
     "end_time": "2025-08-30T03:01:39.330865Z",
     "start_time": "2025-08-30T03:01:37.858945Z"
    }
   },
   "cell_type": "code",
   "source": [
    "positive_reviews = df_preprocessed[df_preprocessed['sentiment'] == 1]['review']\n",
    "negative_reviews = df_preprocessed[df_preprocessed['sentiment'] == 0]['review']"
   ],
   "outputs": [],
   "execution_count": 19
  },
  {
   "cell_type": "code",
   "metadata": {
    "colab": {
     "base_uri": "https://localhost:8080/",
     "height": 607
    },
    "id": "ykuO0zrzKaWs",
    "outputId": "e71f976e-5671-431f-c8b3-434b8e1d3c7f",
    "ExecuteTime": {
     "end_time": "2025-08-30T03:01:45.575337Z",
     "start_time": "2025-08-30T03:01:39.356223Z"
    }
   },
   "source": [
    "# Categorías clave a analizar\n",
    "categories = ['acting', 'story', 'script', 'plot', 'effects', 'visuals', 'sound', 'music', 'dialogue']\n",
    "\n",
    "# Función para buscar frecuencia de las categorías\n",
    "def category_analysis(reviews, categories):\n",
    "    frequencies = {}\n",
    "    examples = {}\n",
    "    for category in categories:\n",
    "        frequencies[category] = reviews.str.contains(category, case=False, na=False).sum()\n",
    "    return frequencies\n",
    "\n",
    "# reseñas positivas\n",
    "positive_freq = category_analysis(positive_reviews, categories)\n",
    "\n",
    "# reseñas negativas\n",
    "negative_freq = category_analysis(negative_reviews, categories)\n",
    "\n",
    "# Crear un DataFrame para frecuencias\n",
    "freq_df = pd.DataFrame({'Positive': positive_freq, 'Negative': negative_freq})\n",
    "\n",
    "# Gráfico de frecuencias\n",
    "freq_df.plot(kind='bar', figsize=(10, 6))\n",
    "plt.title('Frecuencia de categorías en reseñas positivas y negativas')\n",
    "plt.ylabel('Frecuencia')\n",
    "plt.xlabel('Categorías')\n",
    "plt.xticks(rotation=45)\n",
    "plt.tight_layout()\n",
    "plt.show()"
   ],
   "outputs": [
    {
     "data": {
      "text/plain": [
       "<Figure size 1000x600 with 1 Axes>"
      ],
      "image/png": "[encoded data removed]"
     },
     "metadata": {},
     "output_type": "display_data"
    }
   ],
   "execution_count": 20
  },
  {
   "cell_type": "code",
   "metadata": {
    "colab": {
     "base_uri": "https://localhost:8080/"
    },
    "id": "chIpvhrUQpHb",
    "outputId": "0936adfb-1d61-43ae-b6ed-5959179746d7",
    "ExecuteTime": {
     "end_time": "2025-08-30T03:01:45.619798Z",
     "start_time": "2025-08-30T03:01:45.602324Z"
    }
   },
   "source": [
    "'''import nltk\n",
    "from nltk.tokenize import word_tokenize\n",
    "from nltk import pos_tag\n",
    "from nltk.corpus import stopwords\n",
    "from textblob import TextBlob\n",
    "import matplotlib.pyplot as plt\n",
    "from scipy.stats import ttest_ind\n",
    "\n",
    "# Descargar recursos necesarios\n",
    "nltk.download('punkt')\n",
    "nltk.download('punkt_tab')\n",
    "\n",
    "nltk.download('averaged_perceptron_tagger')\n",
    "nltk.download('stopwords')\n",
    "nltk.download('averaged_perceptron_tagger_eng')'''"
   ],
   "outputs": [
    {
     "data": {
      "text/plain": [
       "\"import nltk\\nfrom nltk.tokenize import word_tokenize\\nfrom nltk import pos_tag\\nfrom nltk.corpus import stopwords\\nfrom textblob import TextBlob\\nimport matplotlib.pyplot as plt\\nfrom scipy.stats import ttest_ind\\n\\n# Descargar recursos necesarios\\nnltk.download('punkt')\\nnltk.download('punkt_tab')\\n\\nnltk.download('averaged_perceptron_tagger')\\nnltk.download('stopwords')\\nnltk.download('averaged_perceptron_tagger_eng')\""
      ]
     },
     "execution_count": 21,
     "metadata": {},
     "output_type": "execute_result"
    }
   ],
   "execution_count": 21
  },
  {
   "cell_type": "markdown",
   "metadata": {
    "id": "ZpNSGtuiQvkd"
   },
   "source": []
  },
  {
   "cell_type": "code",
   "metadata": {
    "colab": {
     "background_save": true
    },
    "id": "7KiL5WaBP39G",
    "outputId": "f045d8cb-229d-4454-9be5-9e8d7beb8b9f",
    "ExecuteTime": {
     "end_time": "2025-08-30T03:01:45.747462Z",
     "start_time": "2025-08-30T03:01:45.719860Z"
    }
   },
   "source": [
    "'''\n",
    "# Asume que el DataFrame tiene columnas: 'review' (texto) y 'sentiment' (positivo/negativo)\n",
    "# Carga los datos\n",
    "df = df_preprocessed.copy()  # Carga tus datos aquí\n",
    "\n",
    "# Función para preprocesar y etiquetar partes del discurso\n",
    "def pos_analysis(text):\n",
    "    tokens = word_tokenize(text.lower())\n",
    "    tags = pos_tag(tokens)\n",
    "    return tags\n",
    "\n",
    "# Función para contar categorías gramaticales\n",
    "def count_pos_tags(pos_tags):\n",
    "    counts = {\"adjective\": 0, \"noun\": 0, \"verb\": 0}\n",
    "    for word, tag in pos_tags:\n",
    "        if tag.startswith('JJ'):\n",
    "            counts['adjective'] += 1\n",
    "        elif tag.startswith('NN'):\n",
    "            counts['noun'] += 1\n",
    "        elif tag.startswith('VB'):\n",
    "            counts['verb'] += 1\n",
    "    return counts\n",
    "\n",
    "# Aplicar el análisis POS y calcular emociones\n",
    "pos_counts = {\"positive\": [], \"negative\": []}\n",
    "emotion_scores = {\"positive\": [], \"negative\": []}\n",
    "\n",
    "for _, row in df.iterrows():\n",
    "    sentiment = row['sentiment']  # sentiment is 1 or 0\n",
    "    review = row['review']\n",
    "    pos_tags = pos_analysis(review)\n",
    "    pos_count = count_pos_tags(pos_tags)\n",
    "\n",
    "    # Convert sentiment to the corresponding key\n",
    "    sentiment_key = \"positive\" if sentiment == 1 else \"negative\"\n",
    "\n",
    "    # Guardar conteos de partes del discurso using sentiment_key\n",
    "    pos_counts[sentiment_key].append(pos_count)\n",
    "\n",
    "    # Analizar emociones\n",
    "    polarity = TextBlob(review).sentiment.polarity\n",
    "    emotion_scores[sentiment_key].append(polarity)\n",
    "\n",
    "# Agregar análisis estadístico\n",
    "def average_counts(counts_list):\n",
    "    return {\n",
    "        \"adjective\": sum(c['adjective'] for c in counts_list) / len(counts_list),\n",
    "        \"noun\": sum(c['noun'] for c in counts_list) / len(counts_list),\n",
    "        \"verb\": sum(c['verb'] for c in counts_list) / len(counts_list),\n",
    "    }\n",
    "\n",
    "positive_counts_avg = average_counts(pos_counts[\"positive\"])\n",
    "negative_counts_avg = average_counts(pos_counts[\"negative\"])\n",
    "\n",
    "# Comparar estadísticamente los resultados\n",
    "positive_polarity = emotion_scores[\"positive\"]\n",
    "negative_polarity = emotion_scores[\"negative\"]\n",
    "\n",
    "# Prueba T para cada categoría gramatical\n",
    "for category in [\"adjective\", \"noun\", \"verb\"]:\n",
    "    positive_data = [c[category] for c in pos_counts[\"positive\"]]\n",
    "    negative_data = [c[category] for c in pos_counts[\"negative\"]]\n",
    "    stat, p_value = ttest_ind(positive_data, negative_data)\n",
    "    print(f\"{category.capitalize()} - T-test p-value: {p_value}\")\n",
    "\n",
    "# Comparación de emociones\n",
    "stat, p_value = ttest_ind(positive_polarity, negative_polarity)\n",
    "print(f\"Emotion polarity - T-test p-value: {p_value}\")\n",
    "\n",
    "# Visualización\n",
    "labels = ['Adjectives', 'Nouns', 'Verbs']\n",
    "positive_values = [positive_counts_avg['adjective'], positive_counts_avg['noun'], positive_counts_avg['verb']]\n",
    "negative_values = [negative_counts_avg['adjective'], negative_counts_avg['noun'], negative_counts_avg['verb']]\n",
    "\n",
    "x = range(len(labels))\n",
    "plt.bar(x, positive_values, width=0.4, label='Positive', align='center')\n",
    "plt.bar(x, negative_values, width=0.4, label='Negative', align='edge')\n",
    "plt.xticks(x, labels)\n",
    "plt.ylabel('Average Count')\n",
    "plt.title('POS Tag Comparison')\n",
    "plt.legend()\n",
    "plt.show()'''"
   ],
   "outputs": [
    {
     "data": {
      "text/plain": [
       "'\\n# Asume que el DataFrame tiene columnas: \\'review\\' (texto) y \\'sentiment\\' (positivo/negativo)\\n# Carga los datos\\ndf = df_preprocessed.copy()  # Carga tus datos aquí\\n\\n# Función para preprocesar y etiquetar partes del discurso\\ndef pos_analysis(text):\\n    tokens = word_tokenize(text.lower())\\n    tags = pos_tag(tokens)\\n    return tags\\n\\n# Función para contar categorías gramaticales\\ndef count_pos_tags(pos_tags):\\n    counts = {\"adjective\": 0, \"noun\": 0, \"verb\": 0}\\n    for word, tag in pos_tags:\\n        if tag.startswith(\\'JJ\\'):\\n            counts[\\'adjective\\'] += 1\\n        elif tag.startswith(\\'NN\\'):\\n            counts[\\'noun\\'] += 1\\n        elif tag.startswith(\\'VB\\'):\\n            counts[\\'verb\\'] += 1\\n    return counts\\n\\n# Aplicar el análisis POS y calcular emociones\\npos_counts = {\"positive\": [], \"negative\": []}\\nemotion_scores = {\"positive\": [], \"negative\": []}\\n\\nfor _, row in df.iterrows():\\n    sentiment = row[\\'sentiment\\']  # sentiment is 1 or 0\\n    review = row[\\'review\\']\\n    pos_tags = pos_analysis(review)\\n    pos_count = count_pos_tags(pos_tags)\\n\\n    # Convert sentiment to the corresponding key\\n    sentiment_key = \"positive\" if sentiment == 1 else \"negative\"\\n\\n    # Guardar conteos de partes del discurso using sentiment_key\\n    pos_counts[sentiment_key].append(pos_count)\\n\\n    # Analizar emociones\\n    polarity = TextBlob(review).sentiment.polarity\\n    emotion_scores[sentiment_key].append(polarity)\\n\\n# Agregar análisis estadístico\\ndef average_counts(counts_list):\\n    return {\\n        \"adjective\": sum(c[\\'adjective\\'] for c in counts_list) / len(counts_list),\\n        \"noun\": sum(c[\\'noun\\'] for c in counts_list) / len(counts_list),\\n        \"verb\": sum(c[\\'verb\\'] for c in counts_list) / len(counts_list),\\n    }\\n\\npositive_counts_avg = average_counts(pos_counts[\"positive\"])\\nnegative_counts_avg = average_counts(pos_counts[\"negative\"])\\n\\n# Comparar estadísticamente los resultados\\npositive_polarity = emotion_scores[\"positive\"]\\nnegative_polarity = emotion_scores[\"negative\"]\\n\\n# Prueba T para cada categoría gramatical\\nfor category in [\"adjective\", \"noun\", \"verb\"]:\\n    positive_data = [c[category] for c in pos_counts[\"positive\"]]\\n    negative_data = [c[category] for c in pos_counts[\"negative\"]]\\n    stat, p_value = ttest_ind(positive_data, negative_data)\\n    print(f\"{category.capitalize()} - T-test p-value: {p_value}\")\\n\\n# Comparación de emociones\\nstat, p_value = ttest_ind(positive_polarity, negative_polarity)\\nprint(f\"Emotion polarity - T-test p-value: {p_value}\")\\n\\n# Visualización\\nlabels = [\\'Adjectives\\', \\'Nouns\\', \\'Verbs\\']\\npositive_values = [positive_counts_avg[\\'adjective\\'], positive_counts_avg[\\'noun\\'], positive_counts_avg[\\'verb\\']]\\nnegative_values = [negative_counts_avg[\\'adjective\\'], negative_counts_avg[\\'noun\\'], negative_counts_avg[\\'verb\\']]\\n\\nx = range(len(labels))\\nplt.bar(x, positive_values, width=0.4, label=\\'Positive\\', align=\\'center\\')\\nplt.bar(x, negative_values, width=0.4, label=\\'Negative\\', align=\\'edge\\')\\nplt.xticks(x, labels)\\nplt.ylabel(\\'Average Count\\')\\nplt.title(\\'POS Tag Comparison\\')\\nplt.legend()\\nplt.show()'"
      ]
     },
     "execution_count": 22,
     "metadata": {},
     "output_type": "execute_result"
    }
   ],
   "execution_count": 22
  },
  {
   "cell_type": "code",
   "metadata": {
    "colab": {
     "background_save": true
    },
    "id": "4LBv0hecT-HD",
    "ExecuteTime": {
     "end_time": "2025-08-30T03:01:45.796973Z",
     "start_time": "2025-08-30T03:01:45.783279Z"
    }
   },
   "source": "#df_preprocessed = df_preprocessed.drop('ngrams', axis=1)",
   "outputs": [],
   "execution_count": 23
  },
  {
   "metadata": {},
   "cell_type": "markdown",
   "source": "# Preparación de datos tokenización"
  },
  {
   "metadata": {},
   "cell_type": "markdown",
   "source": "## Tokenización"
  },
  {
   "metadata": {
    "colab": {
     "background_save": true
    },
    "id": "4Xt5oTlZUMe5",
    "outputId": "e994d7ae-9fc9-46bd-9371-941884202990",
    "ExecuteTime": {
     "end_time": "2025-08-30T03:44:52.601208Z",
     "start_time": "2025-08-30T03:44:17.784219Z"
    }
   },
   "cell_type": "code",
   "source": [
    "# Descargar recursos necesarios para la tokenización\n",
    "nltk.download('punkt')\n",
    "\n",
    "# Ejemplo de texto: Puedes reemplazar esto con tus reseñas\n",
    "df_preprocessed['tokens'] = df_preprocessed['review'].apply(word_tokenize)"
   ],
   "outputs": [
    {
     "name": "stderr",
     "output_type": "stream",
     "text": [
      "[nltk_data] Downloading package punkt to\n",
      "[nltk_data]     C:\\Users\\maico\\AppData\\Roaming\\nltk_data...\n",
      "[nltk_data]   Package punkt is already up-to-date!\n"
     ]
    }
   ],
   "execution_count": 16
  },
  {
   "metadata": {
    "colab": {
     "background_save": true
    },
    "id": "9IwWPb9vU_sb",
    "outputId": "eab9822d-550f-400c-90a2-9d86027ecdac",
    "ExecuteTime": {
     "end_time": "2025-08-30T03:45:09.692159Z",
     "start_time": "2025-08-30T03:45:09.581759Z"
    }
   },
   "cell_type": "code",
   "source": "df_preprocessed.head()",
   "outputs": [
    {
     "data": {
      "text/plain": [
       "                                              review  sentiment  \\\n",
       "0  one reviewer mentioned watching oz episode you...          1   \n",
       "1  wonderful little production filming technique ...          1   \n",
       "2  thought wonderful way spend time hot summer we...          1   \n",
       "3  basically there family where little boy jake t...          0   \n",
       "4  petter matteis visually stunning film watch mr...          1   \n",
       "\n",
       "                                              tokens  \n",
       "0  [one, reviewer, mentioned, watching, oz, episo...  \n",
       "1  [wonderful, little, production, filming, techn...  \n",
       "2  [thought, wonderful, way, spend, time, hot, su...  \n",
       "3  [basically, there, family, where, little, boy,...  \n",
       "4  [petter, matteis, visually, stunning, film, wa...  "
      ],
      "text/html": [
       "<div>\n",
       "<style scoped>\n",
       "    .dataframe tbody tr th:only-of-type {\n",
       "        vertical-align: middle;\n",
       "    }\n",
       "\n",
       "    .dataframe tbody tr th {\n",
       "        vertical-align: top;\n",
       "    }\n",
       "\n",
       "    .dataframe thead th {\n",
       "        text-align: right;\n",
       "    }\n",
       "</style>\n",
       "<table border=\"1\" class=\"dataframe\">\n",
       "  <thead>\n",
       "    <tr style=\"text-align: right;\">\n",
       "      <th></th>\n",
       "      <th>review</th>\n",
       "      <th>sentiment</th>\n",
       "      <th>tokens</th>\n",
       "    </tr>\n",
       "  </thead>\n",
       "  <tbody>\n",
       "    <tr>\n",
       "      <th>0</th>\n",
       "      <td>one reviewer mentioned watching oz episode you...</td>\n",
       "      <td>1</td>\n",
       "      <td>[one, reviewer, mentioned, watching, oz, episo...</td>\n",
       "    </tr>\n",
       "    <tr>\n",
       "      <th>1</th>\n",
       "      <td>wonderful little production filming technique ...</td>\n",
       "      <td>1</td>\n",
       "      <td>[wonderful, little, production, filming, techn...</td>\n",
       "    </tr>\n",
       "    <tr>\n",
       "      <th>2</th>\n",
       "      <td>thought wonderful way spend time hot summer we...</td>\n",
       "      <td>1</td>\n",
       "      <td>[thought, wonderful, way, spend, time, hot, su...</td>\n",
       "    </tr>\n",
       "    <tr>\n",
       "      <th>3</th>\n",
       "      <td>basically there family where little boy jake t...</td>\n",
       "      <td>0</td>\n",
       "      <td>[basically, there, family, where, little, boy,...</td>\n",
       "    </tr>\n",
       "    <tr>\n",
       "      <th>4</th>\n",
       "      <td>petter matteis visually stunning film watch mr...</td>\n",
       "      <td>1</td>\n",
       "      <td>[petter, matteis, visually, stunning, film, wa...</td>\n",
       "    </tr>\n",
       "  </tbody>\n",
       "</table>\n",
       "</div>"
      ]
     },
     "execution_count": 18,
     "metadata": {},
     "output_type": "execute_result"
    }
   ],
   "execution_count": 18
  },
  {
   "metadata": {
    "id": "TGqlOUN6WsR_"
   },
   "cell_type": "markdown",
   "source": "## Vectorización"
  },
  {
   "metadata": {},
   "cell_type": "code",
   "outputs": [],
   "execution_count": null,
   "source": ""
  },
  {
   "metadata": {},
   "cell_type": "markdown",
   "source": "# Embedings Preentrenados"
  },
  {
   "metadata": {
    "id": "H90Dp7t3WG0b",
    "colab": {
     "base_uri": "https://localhost:8080/"
    },
    "outputId": "f88eacbc-cf73-4471-de3f-fdb25000b2f7",
    "ExecuteTime": {
     "end_time": "2025-08-30T03:02:37.646624Z",
     "start_time": "2025-08-30T03:02:37.029721Z"
    }
   },
   "cell_type": "code",
   "source": [
    "'''import numpy as np\n",
    "from gensim.models import KeyedVectors\n",
    "\n",
    "# Ruta del archivo de embeddings preentrenados (asegúrate de tener el archivo)\n",
    "# Descarga desde https://nlp.stanford.edu/projects/glove/ para GloVe o usa preentrenados de Word2Vec\n",
    "word_vectors_path = '/content/glove.6B.300d.txt'\n",
    "\n",
    "# Función para cargar embeddings GloVe\n",
    "def load_glove_model(glove_file):\n",
    "    embeddings_index = {}\n",
    "    with open(glove_file, 'r', encoding='utf-8') as f:\n",
    "        for line in f:\n",
    "            values = line.split()\n",
    "            word = values[0]\n",
    "            vector = np.asarray(values[1:], dtype='float32')\n",
    "            embeddings_index[word] = vector\n",
    "    return embeddings_index\n",
    "\n",
    "# Cargar embeddings\n",
    "embeddings_index = load_glove_model(word_vectors_path)\n",
    "\n",
    "# Función para convertir tokens a un vector promediado usando embeddings\n",
    "def tokens_to_vector(tokens, embeddings_index):\n",
    "    vectors = [embeddings_index[word] for word in tokens if word in embeddings_index]\n",
    "    if len(vectors) == 0:\n",
    "        return np.zeros(300)  # Vector nulo si no hay palabras conocidas\n",
    "    return np.mean(vectors, axis=0)\n",
    "\n",
    "# Convertir cada reseña a un vector\n",
    "df_preprocessed['vector_glove'] = df_preprocessed['tokens'].apply(lambda x: tokens_to_vector(x, embeddings_index))\n",
    "\n",
    "# Mostrar los primeros resultados\n",
    "df_preprocessed[['review', 'vector_glove']].head()'''"
   ],
   "outputs": [
    {
     "ename": "ModuleNotFoundError",
     "evalue": "No module named 'gensim'",
     "output_type": "error",
     "traceback": [
      "\u001B[31m---------------------------------------------------------------------------\u001B[39m",
      "\u001B[31mModuleNotFoundError\u001B[39m                       Traceback (most recent call last)",
      "\u001B[36mCell\u001B[39m\u001B[36m \u001B[39m\u001B[32mIn[26]\u001B[39m\u001B[32m, line 2\u001B[39m\n\u001B[32m      1\u001B[39m \u001B[38;5;28;01mimport\u001B[39;00m\u001B[38;5;250m \u001B[39m\u001B[34;01mnumpy\u001B[39;00m\u001B[38;5;250m \u001B[39m\u001B[38;5;28;01mas\u001B[39;00m\u001B[38;5;250m \u001B[39m\u001B[34;01mnp\u001B[39;00m\n\u001B[32m----> \u001B[39m\u001B[32m2\u001B[39m \u001B[38;5;28;01mfrom\u001B[39;00m\u001B[38;5;250m \u001B[39m\u001B[34;01mgensim\u001B[39;00m\u001B[34;01m.\u001B[39;00m\u001B[34;01mmodels\u001B[39;00m\u001B[38;5;250m \u001B[39m\u001B[38;5;28;01mimport\u001B[39;00m KeyedVectors\n\u001B[32m      4\u001B[39m \u001B[38;5;66;03m# Ruta del archivo de embeddings preentrenados (asegúrate de tener el archivo)\u001B[39;00m\n\u001B[32m      5\u001B[39m \u001B[38;5;66;03m# Descarga desde https://nlp.stanford.edu/projects/glove/ para GloVe o usa preentrenados de Word2Vec\u001B[39;00m\n\u001B[32m      6\u001B[39m word_vectors_path = \u001B[33m'\u001B[39m\u001B[33m/content/glove.6B.300d.txt\u001B[39m\u001B[33m'\u001B[39m\n",
      "\u001B[31mModuleNotFoundError\u001B[39m: No module named 'gensim'"
     ]
    }
   ],
   "execution_count": 26
  },
  {
   "metadata": {
    "id": "UopA3lNiWpu6"
   },
   "cell_type": "markdown",
   "source": "#TF-IDF"
  },
  {
   "metadata": {
    "id": "1vmdkuYLVkdi"
   },
   "cell_type": "code",
   "outputs": [],
   "execution_count": 33,
   "source": "#from sklearn.feature_extraction.text import TfidfVectorizer"
  },
  {
   "metadata": {
    "id": "MTe-_eYbVfSq"
   },
   "cell_type": "code",
   "outputs": [],
   "execution_count": 34,
   "source": [
    "# Inicializar el vectorizador\n",
    "#tfidf = TfidfVectorizer(max_features=1000, tokenizer=lambda x: x, preprocessor=lambda x: x, token_pattern=None)\n",
    "\n",
    "# Convertir las reseñas tokenizadas a una matriz TF-IDF\n",
    "#tfidf_matrix = tfidf.fit_transform(df_preprocessed['tokens'])\n",
    "\n"
   ]
  },
  {
   "metadata": {
    "id": "X_ZfWaHHVxlF"
   },
   "cell_type": "code",
   "outputs": [],
   "execution_count": null,
   "source": [
    "# Guardar la matriz en el DataFrame (opcionalmente como una lista para cada reseña)\n",
    "#df_preprocessed['vector_tfidf'] = list(tfidf_matrix.toarray())\n"
   ]
  },
  {
   "metadata": {
    "ExecuteTime": {
     "end_time": "2025-08-30T04:43:19.422264Z",
     "start_time": "2025-08-30T04:43:19.370849Z"
    }
   },
   "cell_type": "code",
   "source": [
    "from tensorflow.keras.preprocessing.text import Tokenizer\n",
    "from tensorflow.keras.preprocessing.sequence import pad_sequences\n",
    "\n",
    "from tensorflow.keras.models import Sequential\n",
    "from tensorflow.keras.layers import Embedding, Conv1D, GlobalMaxPooling1D, Dense, Dropout,LSTM,Input\n",
    "from sklearn.model_selection import train_test_split\n",
    "from sklearn.metrics import accuracy_score"
   ],
   "outputs": [],
   "execution_count": 40
  },
  {
   "metadata": {},
   "cell_type": "markdown",
   "source": "Tokenización basada en Frecuencias"
  },
  {
   "metadata": {
    "ExecuteTime": {
     "end_time": "2025-08-30T03:49:03.010725Z",
     "start_time": "2025-08-30T03:48:51.610800Z"
    }
   },
   "cell_type": "code",
   "source": [
    "tokenizer = Tokenizer()\n",
    "tokenizer.fit_on_texts(df_preprocessed['review'])\n",
    "word_index = tokenizer.word_index\n",
    "sequences = tokenizer.texts_to_sequences(df_preprocessed['review'])"
   ],
   "outputs": [],
   "execution_count": 20
  },
  {
   "metadata": {},
   "cell_type": "markdown",
   "source": "Conjuntos de Entrenamiento y Testeo"
  },
  {
   "metadata": {
    "ExecuteTime": {
     "end_time": "2025-08-30T04:04:59.464142Z",
     "start_time": "2025-08-30T04:04:57.390700Z"
    }
   },
   "cell_type": "code",
   "source": [
    "#padding\n",
    "max_length = 100\n",
    "X = pad_sequences(sequences, maxlen=max_length, padding='post')\n",
    "y = df_preprocessed['sentiment'].values\n",
    "\n",
    "# Dividir datos en conjunto de entrenamiento y prueba\n",
    "X_train, X_test, y_train, y_test = train_test_split(X, y, test_size=0.2, random_state=42)"
   ],
   "outputs": [],
   "execution_count": 33
  },
  {
   "metadata": {},
   "cell_type": "markdown",
   "source": "Embeddings de Glove"
  },
  {
   "cell_type": "code",
   "execution_count": 39,
   "metadata": {
    "id": "5gdrRryrf5-c"
   },
   "outputs": [],
   "source": [
    "# Cargar GloVe\n",
    "glove_path = '/content/glove.6B.300d.txt'\n",
    "\n",
    "# Cargar embeddings de GloVe\n",
    "embedding_index = {}\n",
    "with open(glove_path, 'r', encoding='utf-8') as f:\n",
    "    for line in f:\n",
    "        values = line.split()\n",
    "        word = values[0]\n",
    "        vector = np.asarray(values[1:], dtype='float32')\n",
    "        embedding_index[word] = vector\n",
    "\n",
    "# Crear la matriz de embeddings\n",
    "\n",
    "embedding_matrix = np.zeros((vocab_size, embedding_dim))\n",
    "\n",
    "for word, i in word_index.items():\n",
    "    embedding_vector = embedding_index.get(word)\n",
    "    if embedding_vector is not None:\n",
    "        embedding_matrix[i] = embedding_vector"
   ]
  },
  {
   "metadata": {},
   "cell_type": "markdown",
   "source": "# Creación Red Neuronal"
  },
  {
   "metadata": {
    "ExecuteTime": {
     "end_time": "2025-08-30T04:40:05.026256Z",
     "start_time": "2025-08-30T04:40:05.007027Z"
    }
   },
   "cell_type": "code",
   "source": [
    "embedding_dim = 300\n",
    "vocab_size = len(word_index) + 1"
   ],
   "outputs": [],
   "execution_count": 37
  },
  {
   "metadata": {
    "ExecuteTime": {
     "end_time": "2025-08-30T04:49:52.174645Z",
     "start_time": "2025-08-30T04:49:52.095447Z"
    }
   },
   "cell_type": "code",
   "source": [
    "model = Sequential([\n",
    "    Input(shape=(max_length,)),\n",
    "    Embedding(input_dim=vocab_size, output_dim=embedding_dim, trainable=True), #Embedings\n",
    "    Conv1D(128, 5, activation='relu'),  #Convoluciones de 5 ngramas\n",
    "    LSTM(128, return_sequences=False),  #Dependencias más largas\n",
    "    #GlobalMaxPooling1D(),               #Activadores para priorizar relaciónes\n",
    "    Dense(64, activation='relu'),       #Capa densa\n",
    "    Dropout(0.2),                       #Evitar overfitting\n",
    "    Dense(64, activation='relu'),       #Refina salida\n",
    "    Dense(1, activation='sigmoid')  # Salida\n",
    "])\n",
    "\n",
    "model.compile(optimizer='adam', loss='binary_crossentropy', metrics=['accuracy'])\n",
    "model.build(input_shape=(None, max_length))\n",
    "model.summary()"
   ],
   "outputs": [
    {
     "ename": "NameError",
     "evalue": "name 'Sequential' is not defined",
     "output_type": "error",
     "traceback": [
      "\u001B[31m---------------------------------------------------------------------------\u001B[39m",
      "\u001B[31mNameError\u001B[39m                                 Traceback (most recent call last)",
      "\u001B[36mCell\u001B[39m\u001B[36m \u001B[39m\u001B[32mIn[1]\u001B[39m\u001B[32m, line 1\u001B[39m\n\u001B[32m----> \u001B[39m\u001B[32m1\u001B[39m model = \u001B[43mSequential\u001B[49m([\n\u001B[32m      2\u001B[39m     Input(shape=(max_length,)),\n\u001B[32m      3\u001B[39m     Embedding(input_dim=vocab_size, output_dim=embedding_dim, trainable=\u001B[38;5;28;01mTrue\u001B[39;00m), \u001B[38;5;66;03m#Embedings\u001B[39;00m\n\u001B[32m      4\u001B[39m     Conv1D(\u001B[32m128\u001B[39m, \u001B[32m5\u001B[39m, activation=\u001B[33m'\u001B[39m\u001B[33mrelu\u001B[39m\u001B[33m'\u001B[39m),  \u001B[38;5;66;03m#Convoluciones de 5 ngramas\u001B[39;00m\n\u001B[32m      5\u001B[39m     LSTM(\u001B[32m128\u001B[39m, return_sequences=\u001B[38;5;28;01mFalse\u001B[39;00m),  \u001B[38;5;66;03m#Dependencias más largas\u001B[39;00m\n\u001B[32m      6\u001B[39m     \u001B[38;5;66;03m#GlobalMaxPooling1D(),               #Activadores para priorizar relaciónes\u001B[39;00m\n\u001B[32m      7\u001B[39m     Dense(\u001B[32m64\u001B[39m, activation=\u001B[33m'\u001B[39m\u001B[33mrelu\u001B[39m\u001B[33m'\u001B[39m),       \u001B[38;5;66;03m#Capa densa\u001B[39;00m\n\u001B[32m      8\u001B[39m     Dropout(\u001B[32m0.2\u001B[39m),                       \u001B[38;5;66;03m#Evitar overfitting\u001B[39;00m\n\u001B[32m      9\u001B[39m     Dense(\u001B[32m64\u001B[39m, activation=\u001B[33m'\u001B[39m\u001B[33mrelu\u001B[39m\u001B[33m'\u001B[39m),       \u001B[38;5;66;03m#Refina salida\u001B[39;00m\n\u001B[32m     10\u001B[39m     Dense(\u001B[32m1\u001B[39m, activation=\u001B[33m'\u001B[39m\u001B[33msigmoid\u001B[39m\u001B[33m'\u001B[39m)  \u001B[38;5;66;03m# Salida\u001B[39;00m\n\u001B[32m     11\u001B[39m ])\n\u001B[32m     13\u001B[39m model.compile(optimizer=\u001B[33m'\u001B[39m\u001B[33madam\u001B[39m\u001B[33m'\u001B[39m, loss=\u001B[33m'\u001B[39m\u001B[33mbinary_crossentropy\u001B[39m\u001B[33m'\u001B[39m, metrics=[\u001B[33m'\u001B[39m\u001B[33maccuracy\u001B[39m\u001B[33m'\u001B[39m])\n\u001B[32m     14\u001B[39m model.build(input_shape=(\u001B[38;5;28;01mNone\u001B[39;00m, max_length))\n",
      "\u001B[31mNameError\u001B[39m: name 'Sequential' is not defined"
     ]
    }
   ],
   "execution_count": 1
  },
  {
   "source": [
    "\n",
    "\n",
    "# Entrenar el modelo\n",
    "history = model.fit(X_train, y_train, epochs=3, batch_size=64, validation_split=0.2, verbose=1)\n",
    "\n",
    "# Evaluar el modelo\n",
    "y_pred = (model.predict(X_test) > 0.5).astype(\"int32\")  # Convert probabilities to 0 or 1\n",
    "accuracy = accuracy_score(y_test, y_pred)\n",
    "print(f\"Accuracy on test set: {accuracy}\")"
   ],
   "cell_type": "code",
   "metadata": {
    "id": "NE2PeReZvG8Y",
    "outputId": "339fe34e-1ac3-43e7-9458-b4b5f9756caa",
    "colab": {
     "base_uri": "https://localhost:8080/",
     "height": 585
    }
   },
   "execution_count": 55,
   "outputs": [
    {
     "output_type": "stream",
     "name": "stderr",
     "text": [
      "/usr/local/lib/python3.10/dist-packages/keras/src/layers/core/embedding.py:90: UserWarning: Argument `input_length` is deprecated. Just remove it.\n",
      "  warnings.warn(\n",
      "/usr/local/lib/python3.10/dist-packages/keras/src/layers/convolutional/base_conv.py:107: UserWarning: Do not pass an `input_shape`/`input_dim` argument to a layer. When using Sequential models, prefer using an `Input(shape)` object as the first layer in the model instead.\n",
      "  super().__init__(activity_regularizer=activity_regularizer, **kwargs)\n"
     ]
    },
    {
     "output_type": "display_data",
     "data": {
      "text/plain": [
       "\u001B[1mModel: \"sequential_3\"\u001B[0m\n"
      ],
      "text/html": [
       "<pre style=\"white-space:pre;overflow-x:auto;line-height:normal;font-family:Menlo,'DejaVu Sans Mono',consolas,'Courier New',monospace\"><span style=\"font-weight: bold\">Model: \"sequential_3\"</span>\n",
       "</pre>\n"
      ]
     },
     "metadata": {}
    },
    {
     "output_type": "display_data",
     "data": {
      "text/plain": [
       "┏━━━━━━━━━━━━━━━━━━━━━━━━━━━━━━━━━━━━━━┳━━━━━━━━━━━━━━━━━━━━━━━━━━━━━┳━━━━━━━━━━━━━━━━━┓\n",
       "┃\u001B[1m \u001B[0m\u001B[1mLayer (type)                        \u001B[0m\u001B[1m \u001B[0m┃\u001B[1m \u001B[0m\u001B[1mOutput Shape               \u001B[0m\u001B[1m \u001B[0m┃\u001B[1m \u001B[0m\u001B[1m        Param #\u001B[0m\u001B[1m \u001B[0m┃\n",
       "┡━━━━━━━━━━━━━━━━━━━━━━━━━━━━━━━━━━━━━━╇━━━━━━━━━━━━━━━━━━━━━━━━━━━━━╇━━━━━━━━━━━━━━━━━┩\n",
       "│ embedding_4 (\u001B[38;5;33mEmbedding\u001B[0m)              │ (\u001B[38;5;45mNone\u001B[0m, \u001B[38;5;34m100\u001B[0m, \u001B[38;5;34m300\u001B[0m)            │      \u001B[38;5;34m56,231,100\u001B[0m │\n",
       "├──────────────────────────────────────┼─────────────────────────────┼─────────────────┤\n",
       "│ conv1d_4 (\u001B[38;5;33mConv1D\u001B[0m)                    │ (\u001B[38;5;45mNone\u001B[0m, \u001B[38;5;34m96\u001B[0m, \u001B[38;5;34m128\u001B[0m)             │         \u001B[38;5;34m192,128\u001B[0m │\n",
       "├──────────────────────────────────────┼─────────────────────────────┼─────────────────┤\n",
       "│ global_max_pooling1d_4               │ (\u001B[38;5;45mNone\u001B[0m, \u001B[38;5;34m128\u001B[0m)                 │               \u001B[38;5;34m0\u001B[0m │\n",
       "│ (\u001B[38;5;33mGlobalMaxPooling1D\u001B[0m)                 │                             │                 │\n",
       "├──────────────────────────────────────┼─────────────────────────────┼─────────────────┤\n",
       "│ dense_7 (\u001B[38;5;33mDense\u001B[0m)                      │ (\u001B[38;5;45mNone\u001B[0m, \u001B[38;5;34m64\u001B[0m)                  │           \u001B[38;5;34m8,256\u001B[0m │\n",
       "├──────────────────────────────────────┼─────────────────────────────┼─────────────────┤\n",
       "│ dropout_4 (\u001B[38;5;33mDropout\u001B[0m)                  │ (\u001B[38;5;45mNone\u001B[0m, \u001B[38;5;34m64\u001B[0m)                  │               \u001B[38;5;34m0\u001B[0m │\n",
       "├──────────────────────────────────────┼─────────────────────────────┼─────────────────┤\n",
       "│ dense_8 (\u001B[38;5;33mDense\u001B[0m)                      │ (\u001B[38;5;45mNone\u001B[0m, \u001B[38;5;34m1\u001B[0m)                   │              \u001B[38;5;34m65\u001B[0m │\n",
       "└──────────────────────────────────────┴─────────────────────────────┴─────────────────┘\n"
      ],
      "text/html": [
       "<pre style=\"white-space:pre;overflow-x:auto;line-height:normal;font-family:Menlo,'DejaVu Sans Mono',consolas,'Courier New',monospace\">┏━━━━━━━━━━━━━━━━━━━━━━━━━━━━━━━━━━━━━━┳━━━━━━━━━━━━━━━━━━━━━━━━━━━━━┳━━━━━━━━━━━━━━━━━┓\n",
       "┃<span style=\"font-weight: bold\"> Layer (type)                         </span>┃<span style=\"font-weight: bold\"> Output Shape                </span>┃<span style=\"font-weight: bold\">         Param # </span>┃\n",
       "┡━━━━━━━━━━━━━━━━━━━━━━━━━━━━━━━━━━━━━━╇━━━━━━━━━━━━━━━━━━━━━━━━━━━━━╇━━━━━━━━━━━━━━━━━┩\n",
       "│ embedding_4 (<span style=\"color: #0087ff; text-decoration-color: #0087ff\">Embedding</span>)              │ (<span style=\"color: #00d7ff; text-decoration-color: #00d7ff\">None</span>, <span style=\"color: #00af00; text-decoration-color: #00af00\">100</span>, <span style=\"color: #00af00; text-decoration-color: #00af00\">300</span>)            │      <span style=\"color: #00af00; text-decoration-color: #00af00\">56,231,100</span> │\n",
       "├──────────────────────────────────────┼─────────────────────────────┼─────────────────┤\n",
       "│ conv1d_4 (<span style=\"color: #0087ff; text-decoration-color: #0087ff\">Conv1D</span>)                    │ (<span style=\"color: #00d7ff; text-decoration-color: #00d7ff\">None</span>, <span style=\"color: #00af00; text-decoration-color: #00af00\">96</span>, <span style=\"color: #00af00; text-decoration-color: #00af00\">128</span>)             │         <span style=\"color: #00af00; text-decoration-color: #00af00\">192,128</span> │\n",
       "├──────────────────────────────────────┼─────────────────────────────┼─────────────────┤\n",
       "│ global_max_pooling1d_4               │ (<span style=\"color: #00d7ff; text-decoration-color: #00d7ff\">None</span>, <span style=\"color: #00af00; text-decoration-color: #00af00\">128</span>)                 │               <span style=\"color: #00af00; text-decoration-color: #00af00\">0</span> │\n",
       "│ (<span style=\"color: #0087ff; text-decoration-color: #0087ff\">GlobalMaxPooling1D</span>)                 │                             │                 │\n",
       "├──────────────────────────────────────┼─────────────────────────────┼─────────────────┤\n",
       "│ dense_7 (<span style=\"color: #0087ff; text-decoration-color: #0087ff\">Dense</span>)                      │ (<span style=\"color: #00d7ff; text-decoration-color: #00d7ff\">None</span>, <span style=\"color: #00af00; text-decoration-color: #00af00\">64</span>)                  │           <span style=\"color: #00af00; text-decoration-color: #00af00\">8,256</span> │\n",
       "├──────────────────────────────────────┼─────────────────────────────┼─────────────────┤\n",
       "│ dropout_4 (<span style=\"color: #0087ff; text-decoration-color: #0087ff\">Dropout</span>)                  │ (<span style=\"color: #00d7ff; text-decoration-color: #00d7ff\">None</span>, <span style=\"color: #00af00; text-decoration-color: #00af00\">64</span>)                  │               <span style=\"color: #00af00; text-decoration-color: #00af00\">0</span> │\n",
       "├──────────────────────────────────────┼─────────────────────────────┼─────────────────┤\n",
       "│ dense_8 (<span style=\"color: #0087ff; text-decoration-color: #0087ff\">Dense</span>)                      │ (<span style=\"color: #00d7ff; text-decoration-color: #00d7ff\">None</span>, <span style=\"color: #00af00; text-decoration-color: #00af00\">1</span>)                   │              <span style=\"color: #00af00; text-decoration-color: #00af00\">65</span> │\n",
       "└──────────────────────────────────────┴─────────────────────────────┴─────────────────┘\n",
       "</pre>\n"
      ]
     },
     "metadata": {}
    },
    {
     "output_type": "display_data",
     "data": {
      "text/plain": [
       "\u001B[1m Total params: \u001B[0m\u001B[38;5;34m56,431,549\u001B[0m (215.27 MB)\n"
      ],
      "text/html": [
       "<pre style=\"white-space:pre;overflow-x:auto;line-height:normal;font-family:Menlo,'DejaVu Sans Mono',consolas,'Courier New',monospace\"><span style=\"font-weight: bold\"> Total params: </span><span style=\"color: #00af00; text-decoration-color: #00af00\">56,431,549</span> (215.27 MB)\n",
       "</pre>\n"
      ]
     },
     "metadata": {}
    },
    {
     "output_type": "display_data",
     "data": {
      "text/plain": [
       "\u001B[1m Trainable params: \u001B[0m\u001B[38;5;34m200,449\u001B[0m (783.00 KB)\n"
      ],
      "text/html": [
       "<pre style=\"white-space:pre;overflow-x:auto;line-height:normal;font-family:Menlo,'DejaVu Sans Mono',consolas,'Courier New',monospace\"><span style=\"font-weight: bold\"> Trainable params: </span><span style=\"color: #00af00; text-decoration-color: #00af00\">200,449</span> (783.00 KB)\n",
       "</pre>\n"
      ]
     },
     "metadata": {}
    },
    {
     "output_type": "display_data",
     "data": {
      "text/plain": [
       "\u001B[1m Non-trainable params: \u001B[0m\u001B[38;5;34m56,231,100\u001B[0m (214.50 MB)\n"
      ],
      "text/html": [
       "<pre style=\"white-space:pre;overflow-x:auto;line-height:normal;font-family:Menlo,'DejaVu Sans Mono',consolas,'Courier New',monospace\"><span style=\"font-weight: bold\"> Non-trainable params: </span><span style=\"color: #00af00; text-decoration-color: #00af00\">56,231,100</span> (214.50 MB)\n",
       "</pre>\n"
      ]
     },
     "metadata": {}
    },
    {
     "output_type": "stream",
     "name": "stdout",
     "text": [
      "Epoch 1/3\n",
      "\u001B[1m500/500\u001B[0m \u001B[32m━━━━━━━━━━━━━━━━━━━━\u001B[0m\u001B[37m\u001B[0m \u001B[1m84s\u001B[0m 165ms/step - accuracy: 0.7375 - loss: 0.5133 - val_accuracy: 0.8404 - val_loss: 0.3549\n",
      "Epoch 2/3\n",
      "\u001B[1m500/500\u001B[0m \u001B[32m━━━━━━━━━━━━━━━━━━━━\u001B[0m\u001B[37m\u001B[0m \u001B[1m139s\u001B[0m 159ms/step - accuracy: 0.8713 - loss: 0.3102 - val_accuracy: 0.8570 - val_loss: 0.3264\n",
      "Epoch 3/3\n",
      "\u001B[1m500/500\u001B[0m \u001B[32m━━━━━━━━━━━━━━━━━━━━\u001B[0m\u001B[37m\u001B[0m \u001B[1m82s\u001B[0m 159ms/step - accuracy: 0.9122 - loss: 0.2215 - val_accuracy: 0.8530 - val_loss: 0.3405\n",
      "\u001B[1m313/313\u001B[0m \u001B[32m━━━━━━━━━━━━━━━━━━━━\u001B[0m\u001B[37m\u001B[0m \u001B[1m9s\u001B[0m 27ms/step\n",
      "Accuracy on test set: 0.854\n"
     ]
    }
   ]
  },
  {
   "cell_type": "code",
   "source": [
    "X_train[0]"
   ],
   "metadata": {
    "id": "DvLvB80SsIyM",
    "outputId": "70d01aed-431d-4fa9-fe75-b3c5ab5bf8dc",
    "colab": {
     "base_uri": "https://localhost:8080/"
    }
   },
   "execution_count": 56,
   "outputs": [
    {
     "output_type": "execute_result",
     "data": {
      "text/plain": [
       "array([   127,    111,     76,    920,   1080,   7425,     73,   8367,\n",
       "          961,      1,    863,  15048, 162346,    162,     12,     38,\n",
       "           38,    477,   2973,  10851,     25,   1156,     96,   3622,\n",
       "        16007,    120,    562,    245,   5019,  28588,   2154,  57591,\n",
       "        11380,    197,    516,    249,   2635,   1028,  12399,   3102,\n",
       "           68,    334,    865,    968,    730,   1069,    167,   2240,\n",
       "          281,  25185,    180,   3258,    848,  10641,   1235,     12,\n",
       "        11873,    132,      3,    115,   1219,    859,   3999,  20943,\n",
       "        29162,    133,    250,   4237,   2293,    107,   4929,  42063,\n",
       "          688,     77,     63,     88,     42,   1307,    361,    137,\n",
       "          228,   1282,      4,   1416,   5058,    452,      2,   3034,\n",
       "         1636,   2143,    212,    330,   2319,  17057,  60771,    418,\n",
       "         3480,    130,    136,   3506], dtype=int32)"
      ]
     },
     "metadata": {},
     "execution_count": 56
    }
   ]
  },
  {
   "cell_type": "code",
   "source": [
    "# Hacer predicciones\n",
    "y_predlr = model.predict(X_test)"
   ],
   "metadata": {
    "id": "xRUztrF7sxDe",
    "outputId": "18f2d0e5-e58a-46a7-be72-a4cbede0c084",
    "colab": {
     "base_uri": "https://localhost:8080/"
    }
   },
   "execution_count": 57,
   "outputs": [
    {
     "output_type": "stream",
     "name": "stdout",
     "text": [
      "\u001B[1m313/313\u001B[0m \u001B[32m━━━━━━━━━━━━━━━━━━━━\u001B[0m\u001B[37m\u001B[0m \u001B[1m13s\u001B[0m 41ms/step\n"
     ]
    }
   ]
  },
  {
   "cell_type": "code",
   "source": [
    "y_predlr"
   ],
   "metadata": {
    "id": "QXM95shvtMZs",
    "outputId": "2d126e33-c93b-4e1f-d0fb-263e1a5a50be",
    "colab": {
     "base_uri": "https://localhost:8080/"
    }
   },
   "execution_count": 58,
   "outputs": [
    {
     "output_type": "execute_result",
     "data": {
      "text/plain": [
       "array([[0.12526941],\n",
       "       [0.9306771 ],\n",
       "       [0.38617858],\n",
       "       ...,\n",
       "       [0.5358306 ],\n",
       "       [0.07702623],\n",
       "       [0.6367016 ]], dtype=float32)"
      ]
     },
     "metadata": {},
     "execution_count": 58
    }
   ]
  },
  {
   "cell_type": "code",
   "source": [
    "# prompt: quiero convertir a y_predlr a cuanto el resutado sea mayor a 0.49 sea 1 y menor a o igual a 0\n",
    "\n",
    "# Convertir las probabilidades a 0 o 1 según el umbral de 0.49\n",
    "y_pred_binary = (y_predlr > 0.49).astype(int)\n",
    "\n",
    "y_pred_binary"
   ],
   "metadata": {
    "id": "-PPiTbkwxB6E",
    "outputId": "03ef6e6d-7d84-4a78-b0c5-f5e863005e81",
    "colab": {
     "base_uri": "https://localhost:8080/"
    }
   },
   "execution_count": 60,
   "outputs": [
    {
     "output_type": "execute_result",
     "data": {
      "text/plain": [
       "array([[0],\n",
       "       [1],\n",
       "       [0],\n",
       "       ...,\n",
       "       [1],\n",
       "       [0],\n",
       "       [1]])"
      ]
     },
     "metadata": {},
     "execution_count": 60
    }
   ]
  },
  {
   "cell_type": "code",
   "source": [
    "from sklearn.feature_extraction.text import TfidfVectorizer\n",
    "import pandas as pd\n",
    "\n",
    "# Dividir los textos en positivos y negativos\n",
    "positive_reviews = df[df['sentiment'] == 1]['review']\n",
    "negative_reviews = df[df['sentiment'] == 0]['review']\n",
    "\n",
    "# Vectorizar usando TF-IDF\n",
    "tfidf = TfidfVectorizer(max_features=500, stop_words='english')\n",
    "positive_matrix = tfidf.fit_transform(positive_reviews)\n",
    "negative_matrix = tfidf.fit_transform(negative_reviews)\n",
    "\n",
    "# Extraer vocabulario y puntajes\n",
    "positive_scores = pd.DataFrame(\n",
    "    positive_matrix.toarray(), columns=tfidf.get_feature_names_out()\n",
    ").mean().sort_values(ascending=False)\n",
    "\n",
    "negative_scores = pd.DataFrame(\n",
    "    negative_matrix.toarray(), columns=tfidf.get_feature_names_out()\n",
    ").mean().sort_values(ascending=False)\n",
    "\n",
    "# Mostrar las palabras más representativas\n",
    "print(\"Palabras clave positivas:\")\n",
    "print(positive_scores.head(10))\n",
    "\n",
    "print(\"\\nPalabras clave negativas:\")\n",
    "print(negative_scores.head(10))\n"
   ],
   "metadata": {
    "id": "RWTdGJ9_xjKb",
    "outputId": "781bf5b8-5daa-478b-c04c-cf5828a9bdba",
    "colab": {
     "base_uri": "https://localhost:8080/"
    }
   },
   "execution_count": 62,
   "outputs": [
    {
     "output_type": "stream",
     "name": "stdout",
     "text": [
      "Palabras clave positivas:\n",
      "final     0.102537\n",
      "music     0.102390\n",
      "live      0.045594\n",
      "got       0.042636\n",
      "try       0.041428\n",
      "group     0.041264\n",
      "stupid    0.040604\n",
      "child     0.039112\n",
      "rest      0.034448\n",
      "matter    0.032481\n",
      "dtype: float64\n",
      "\n",
      "Palabras clave negativas:\n",
      "movie        0.115430\n",
      "film         0.093163\n",
      "like         0.052624\n",
      "bad          0.043443\n",
      "character    0.040691\n",
      "good         0.040622\n",
      "time         0.039833\n",
      "really       0.037147\n",
      "make         0.036157\n",
      "story        0.034525\n",
      "dtype: float64\n"
     ]
    }
   ]
  },
  {
   "cell_type": "code",
   "source": [
    "import pandas as pd\n",
    "\n",
    "# Listas de palabras clave por aspecto\n",
    "aspects = {\n",
    "    'acting': ['acting', 'performance', 'actor', 'actress', 'cast'],\n",
    "    'plot': ['plot', 'story', 'narrative', 'screenplay'],\n",
    "    'visuals': ['visual', 'effects', 'cinematography', 'scenes', 'special effects'],\n",
    "    'music': ['music', 'soundtrack', 'score', 'audio']\n",
    "}\n",
    "\n",
    "# Función para contar ocurrencias de palabras clave en un texto\n",
    "def count_aspect_mentions(text, aspect_keywords):\n",
    "    text = text.lower()  # Convertir a minúsculas\n",
    "    return sum(1 for word in aspect_keywords if word in text)\n",
    "\n",
    "# Crear columnas para cada aspecto\n",
    "for aspect, keywords in aspects.items():\n",
    "    df[aspect] = df['review'].apply(lambda x: count_aspect_mentions(x, keywords))\n",
    "\n",
    "# Promediar menciones por polaridad\n",
    "aspect_summary = df.groupby('sentiment')[list(aspects.keys())].mean()\n",
    "\n",
    "print(\"Promedio de menciones por polaridad:\")\n",
    "print(aspect_summary)\n"
   ],
   "metadata": {
    "id": "IKKeKw3Sx6aD",
    "outputId": "90226aff-e61a-46cb-907f-5b037587263c",
    "colab": {
     "base_uri": "https://localhost:8080/"
    }
   },
   "execution_count": 63,
   "outputs": [
    {
     "output_type": "stream",
     "name": "stdout",
     "text": [
      "Promedio de menciones por polaridad:\n",
      "            acting     plot  visuals    music\n",
      "sentiment                                    \n",
      "0          0.79188  0.62360  0.06932  0.15532\n",
      "1          0.77900  0.58636  0.09544  0.23020\n"
     ]
    }
   ]
  },
  {
   "cell_type": "code",
   "source": [
    "from sklearn.metrics import classification_report, confusion_matrix, accuracy_score\n",
    "\n",
    "# Evaluate the model\n",
    "print(classification_report(y_test, y_pred_binary))\n",
    "print(confusion_matrix(y_test, y_pred_binary))\n",
    "print(f\"Accuracy: {accuracy_score(y_test, y_pred_binary)}\")"
   ],
   "metadata": {
    "id": "ke3SVJ9QtClX",
    "outputId": "75c66386-be5a-45f5-a322-1f2ef01a2175",
    "colab": {
     "base_uri": "https://localhost:8080/"
    }
   },
   "execution_count": 61,
   "outputs": [
    {
     "output_type": "stream",
     "name": "stdout",
     "text": [
      "              precision    recall  f1-score   support\n",
      "\n",
      "           0       0.88      0.82      0.85      4961\n",
      "           1       0.83      0.89      0.86      5039\n",
      "\n",
      "    accuracy                           0.85     10000\n",
      "   macro avg       0.86      0.85      0.85     10000\n",
      "weighted avg       0.86      0.85      0.85     10000\n",
      "\n",
      "[[4062  899]\n",
      " [ 560 4479]]\n",
      "Accuracy: 0.8541\n"
     ]
    }
   ]
  },
  {
   "cell_type": "code",
   "source": [
    "# prompt: GENERA MATRIZ DE CONFUNSION DE MANERA VISUAL\n",
    "\n",
    "import matplotlib.pyplot as plt\n",
    "import seaborn as sns\n",
    "from sklearn.metrics import confusion_matrix\n",
    "\n",
    "# ... (Your existing code) ...\n",
    "\n",
    "# Assuming y_test and y_pred_binary are defined from your model's prediction\n",
    "cm = confusion_matrix(y_test, y_pred_binary)\n",
    "\n",
    "# Visualize the confusion matrix\n",
    "plt.figure(figsize=(8, 6))\n",
    "sns.heatmap(cm, annot=True, fmt='d', cmap='Blues',\n",
    "            xticklabels=['Negative', 'Positive'],\n",
    "            yticklabels=['Negative', 'Positive'])\n",
    "plt.xlabel('Predicted')\n",
    "plt.ylabel('True')\n",
    "plt.title('Confusion Matrix')\n",
    "plt.show()"
   ],
   "metadata": {
    "id": "QVEghONQzX1y",
    "outputId": "17db7a6f-ddb4-4e2f-810c-8218785331ca",
    "colab": {
     "base_uri": "https://localhost:8080/",
     "height": 564
    }
   },
   "execution_count": 70,
   "outputs": [
    {
     "output_type": "display_data",
     "data": {
      "text/plain": [
       "<Figure size 800x600 with 2 Axes>"
      ],
      "image/png": "[encoded data removed]"
     },
     "metadata": {}
    }
   ]
  },
  {
   "cell_type": "code",
   "source": [
    "# prompt: genera Curvas ROC Para evaluar la capacidad del modelo para diferenciar entre clases positivas y negativas.\n",
    "\n",
    "from sklearn.metrics import roc_curve, auc\n",
    "from sklearn.metrics import classification_report, confusion_matrix, accuracy_score\n",
    "\n",
    "# ... (Your existing code) ...\n",
    "\n",
    "\n",
    "# Assuming y_test contains the true labels and y_predlr contains predicted probabilities\n",
    "fpr, tpr, thresholds = roc_curve(y_test, y_predlr)\n",
    "roc_auc = auc(fpr, tpr)\n",
    "\n",
    "plt.figure()\n",
    "plt.plot(fpr, tpr, color='darkorange', lw=2, label='ROC curve (area = %0.2f)' % roc_auc)\n",
    "plt.plot([0, 1], [0, 1], color='navy', lw=2, linestyle='--')\n",
    "plt.xlim([0.0, 1.0])\n",
    "plt.ylim([0.0, 1.05])\n",
    "plt.xlabel('False Positive Rate')\n",
    "plt.ylabel('True Positive Rate')\n",
    "plt.title('Receiver Operating Characteristic')\n",
    "plt.legend(loc=\"lower right\")\n",
    "plt.show()"
   ],
   "metadata": {
    "id": "cXKfxMy_yaGN",
    "outputId": "81172d7c-6c1c-488a-d9c8-c9b90099d1e8",
    "colab": {
     "base_uri": "https://localhost:8080/",
     "height": 472
    }
   },
   "execution_count": 67,
   "outputs": [
    {
     "output_type": "display_data",
     "data": {
      "text/plain": [
       "<Figure size 640x480 with 1 Axes>"
      ],
      "image/png": "[encoded data removed]"
     },
     "metadata": {}
    }
   ]
  }
 ],
 "metadata": {
  "colab": {
   "provenance": []
  },
  "kernelspec": {
   "display_name": "Python 3",
   "name": "python3"
  },
  "language_info": {
   "name": "python"
  }
 },
 "nbformat": 4,
 "nbformat_minor": 0
}
