{
 "cells": [
  {
   "cell_type": "markdown",
   "metadata": {
    "id": "JJAdBOz2rEnj"
   },
   "source": [
    "# Convolutional Neural Network IMBD"
   ]
  },
  {
   "cell_type": "markdown",
   "metadata": {},
   "source": [
    "Proyecto para Interpretación de sentimientos con Lenguaje Natural"
   ]
  },
  {
   "cell_type": "markdown",
   "metadata": {},
   "source": [
    "## Librerias"
   ]
  },
  {
   "cell_type": "code",
   "execution_count": null,
   "metadata": {
    "ExecuteTime": {
     "end_time": "2025-09-03T13:09:59.239254Z",
     "start_time": "2025-09-03T13:09:59.231106Z"
    },
    "id": "GJIARvp7rD9u"
   },
   "outputs": [
    {
     "ename": "ModuleNotFoundError",
     "evalue": "No module named 'matplotlib'",
     "output_type": "error",
     "traceback": [
      "\u001b[31m---------------------------------------------------------------------------\u001b[39m",
      "\u001b[31mModuleNotFoundError\u001b[39m                       Traceback (most recent call last)",
      "\u001b[36mCell\u001b[39m\u001b[36m \u001b[39m\u001b[32mIn[2]\u001b[39m\u001b[32m, line 2\u001b[39m\n\u001b[32m      1\u001b[39m \u001b[38;5;28;01mimport\u001b[39;00m\u001b[38;5;250m \u001b[39m\u001b[34;01mpandas\u001b[39;00m\u001b[38;5;250m \u001b[39m\u001b[38;5;28;01mas\u001b[39;00m\u001b[38;5;250m \u001b[39m\u001b[34;01mpd\u001b[39;00m\n\u001b[32m----> \u001b[39m\u001b[32m2\u001b[39m \u001b[38;5;28;01mimport\u001b[39;00m\u001b[38;5;250m \u001b[39m\u001b[34;01mmatplotlib\u001b[39;00m\u001b[34;01m.\u001b[39;00m\u001b[34;01mpyplot\u001b[39;00m\u001b[38;5;250m \u001b[39m\u001b[38;5;28;01mas\u001b[39;00m\u001b[38;5;250m \u001b[39m\u001b[34;01mplt\u001b[39;00m\n\u001b[32m      3\u001b[39m \u001b[38;5;66;03m#import numpy as np\u001b[39;00m\n\u001b[32m      4\u001b[39m \u001b[38;5;66;03m#import tensorflow as tf\u001b[39;00m\n\u001b[32m      5\u001b[39m \u001b[38;5;66;03m#from tensorflow.keras.preprocessing.text import Tokenizer\u001b[39;00m\n\u001b[32m      6\u001b[39m \u001b[38;5;66;03m#from tensorflow.keras.preprocessing.sequence import pad_sequences\u001b[39;00m\n\u001b[32m      7\u001b[39m \u001b[38;5;66;03m#from sklearn.feature_extraction.text import CountVectorizer\u001b[39;00m\n",
      "\u001b[31mModuleNotFoundError\u001b[39m: No module named 'matplotlib'"
     ]
    }
   ],
   "source": [
    "import pandas as pd\n",
    "import matplotlib.pyplot as plt\n",
    "import nltk\n",
    "from nltk.corpus import stopwords\n",
    "from nltk.corpus import words\n",
    "from nltk import ngrams as nltk_ngrams\n",
    "from nltk.stem import WordNetLemmatizer\n",
    "from nltk.tokenize import word_tokenize\n",
    "#nltk.download('wordnet')\n",
    "#nltk.download('stopwords')\n",
    "#nltk.download('words')\n",
    "english_words = set(words.words())\n",
    "import re\n",
    "import string\n",
    "\n",
    "lemmatizer = WordNetLemmatizer()\n",
    "\n",
    "from collections import Counter"
   ]
  },
  {
   "cell_type": "markdown",
   "metadata": {},
   "source": [
    "## Limpieza y preparación de Datos"
   ]
  },
  {
   "cell_type": "code",
   "execution_count": 3,
   "metadata": {
    "ExecuteTime": {
     "end_time": "2025-09-03T13:10:04.942139Z",
     "start_time": "2025-09-03T13:10:02.082432Z"
    },
    "id": "YPQrxT7QraVT"
   },
   "outputs": [
    {
     "data": {
      "text/html": [
       "<div>\n",
       "<style scoped>\n",
       "    .dataframe tbody tr th:only-of-type {\n",
       "        vertical-align: middle;\n",
       "    }\n",
       "\n",
       "    .dataframe tbody tr th {\n",
       "        vertical-align: top;\n",
       "    }\n",
       "\n",
       "    .dataframe thead th {\n",
       "        text-align: right;\n",
       "    }\n",
       "</style>\n",
       "<table border=\"1\" class=\"dataframe\">\n",
       "  <thead>\n",
       "    <tr style=\"text-align: right;\">\n",
       "      <th></th>\n",
       "      <th>review</th>\n",
       "      <th>sentiment</th>\n",
       "    </tr>\n",
       "  </thead>\n",
       "  <tbody>\n",
       "    <tr>\n",
       "      <th>0</th>\n",
       "      <td>One of the other reviewers has mentioned that ...</td>\n",
       "      <td>positive</td>\n",
       "    </tr>\n",
       "    <tr>\n",
       "      <th>1</th>\n",
       "      <td>A wonderful little production. &lt;br /&gt;&lt;br /&gt;The...</td>\n",
       "      <td>positive</td>\n",
       "    </tr>\n",
       "  </tbody>\n",
       "</table>\n",
       "</div>"
      ],
      "text/plain": [
       "                                              review sentiment\n",
       "0  One of the other reviewers has mentioned that ...  positive\n",
       "1  A wonderful little production. <br /><br />The...  positive"
      ]
     },
     "execution_count": 3,
     "metadata": {},
     "output_type": "execute_result"
    }
   ],
   "source": [
    "df = pd.read_csv(\"./Data/IMDB Dataset.csv\")\n",
    "df.head(2)"
   ]
  },
  {
   "cell_type": "code",
   "execution_count": 4,
   "metadata": {
    "ExecuteTime": {
     "end_time": "2025-09-03T13:10:05.184205Z",
     "start_time": "2025-09-03T13:10:05.061247Z"
    },
    "id": "9kO-z12_7Ty8"
   },
   "outputs": [],
   "source": [
    "#Convertir sentimiento a bolean\n",
    "df['sentiment'] = df['sentiment'].apply(lambda x: 1 if x == 'positive' else 0)"
   ]
  },
  {
   "cell_type": "code",
   "execution_count": 5,
   "metadata": {
    "ExecuteTime": {
     "end_time": "2025-09-03T13:10:05.263545Z",
     "start_time": "2025-09-03T13:10:05.216913Z"
    },
    "id": "smQy4TYd0yY9"
   },
   "outputs": [],
   "source": [
    "#Proceso de limpieza de texto\n",
    "def preprocess_text(text):\n",
    "    # Convertir a minúsculas\n",
    "    text = text.lower()\n",
    "\n",
    "    # Eliminar etiquetas HTML\n",
    "    text = re.sub(r'<.*?>', '', text)\n",
    "\n",
    "    # Eliminar nombres propios\n",
    "    text = re.sub(r'\\b[A-Z][a-z]+(?:\\'[a-z]+)?\\b', '', text)\n",
    "\n",
    "    # Eliminar frases entre comillas dobles\n",
    "    text = re.sub(r'\\\".*?\\\"', '', text)\n",
    "\n",
    "    # Eliminar contenido entre corchetes\n",
    "    text = re.sub(r'\\[.*?\\]', '', text)\n",
    "\n",
    "    # Eliminar puntuación\n",
    "    text = re.sub(r'[%s]' % re.escape(string.punctuation), '', text)\n",
    "\n",
    "    # Eliminar palabras con números\n",
    "    text = re.sub(r'\\w*\\d\\w*', '', text)\n",
    "\n",
    "    # Eliminar caracteres repetidos\n",
    "    text = re.sub(r'(.)\\1{2,}', r'\\1', text)\n",
    "\n",
    "    # Eliminar números\n",
    "    text = re.sub(r'\\d+', '', text)\n",
    "\n",
    "    # Eliminar palabras muy largas o muy cortas\n",
    "    text = ' '.join([word for word in text.split() if 2 <= len(word) <= 16])\n",
    "\n",
    "    # Eliminar stopwords, conservando palabras específicas\n",
    "    stop_words = set(stopwords.words('english'))\n",
    "    keep_words = {'what', 'who', 'why', 'when', 'where', 'how'}  # Palabras importantes\n",
    "    wordss = text.split()\n",
    "    text = ' '.join([word for word in wordss if word not in stop_words or word in keep_words])\n",
    "\n",
    "    # Filtrar palabras que contengan solo letras\n",
    "    text = ' '.join([word for word in text.split() if word.isalpha()])\n",
    "\n",
    "    # Filtrar palabras con prefijos anómalos\n",
    "    text = ' '.join([word for word in text.split() if not word.startswith('aa')])\n",
    "    # Lematización\n",
    "    lemmatizerr = WordNetLemmatizer()\n",
    "    text = ' '.join([lemmatizerr.lemmatize(word) for word in text.split()])\n",
    "\n",
    "    return text\n"
   ]
  },
  {
   "cell_type": "code",
   "execution_count": 6,
   "metadata": {
    "ExecuteTime": {
     "end_time": "2025-09-03T13:10:05.322264Z",
     "start_time": "2025-09-03T13:10:05.300552Z"
    },
    "id": "wNEinLQh4FIg"
   },
   "outputs": [],
   "source": [
    "df_preprocessed = df.copy()"
   ]
  },
  {
   "cell_type": "code",
   "execution_count": 7,
   "metadata": {
    "ExecuteTime": {
     "end_time": "2025-09-03T13:11:33.794195Z",
     "start_time": "2025-09-03T13:10:05.363472Z"
    },
    "id": "IKjT_AVJ1b1K"
   },
   "outputs": [],
   "source": [
    "df_preprocessed['review'] = df_preprocessed['review'].apply(preprocess_text)"
   ]
  },
  {
   "cell_type": "code",
   "execution_count": 8,
   "metadata": {
    "ExecuteTime": {
     "end_time": "2025-09-03T13:11:34.020754Z",
     "start_time": "2025-09-03T13:11:33.949194Z"
    },
    "colab": {
     "base_uri": "https://localhost:8080/",
     "height": 206
    },
    "id": "_CGkjHmqImg1",
    "outputId": "730e8a91-3d72-498a-eefe-b889a5ca3128"
   },
   "outputs": [
    {
     "data": {
      "text/html": [
       "<div>\n",
       "<style scoped>\n",
       "    .dataframe tbody tr th:only-of-type {\n",
       "        vertical-align: middle;\n",
       "    }\n",
       "\n",
       "    .dataframe tbody tr th {\n",
       "        vertical-align: top;\n",
       "    }\n",
       "\n",
       "    .dataframe thead th {\n",
       "        text-align: right;\n",
       "    }\n",
       "</style>\n",
       "<table border=\"1\" class=\"dataframe\">\n",
       "  <thead>\n",
       "    <tr style=\"text-align: right;\">\n",
       "      <th></th>\n",
       "      <th>review</th>\n",
       "      <th>sentiment</th>\n",
       "    </tr>\n",
       "  </thead>\n",
       "  <tbody>\n",
       "    <tr>\n",
       "      <th>0</th>\n",
       "      <td>one reviewer mentioned watching oz episode you...</td>\n",
       "      <td>1</td>\n",
       "    </tr>\n",
       "    <tr>\n",
       "      <th>1</th>\n",
       "      <td>wonderful little production filming technique ...</td>\n",
       "      <td>1</td>\n",
       "    </tr>\n",
       "  </tbody>\n",
       "</table>\n",
       "</div>"
      ],
      "text/plain": [
       "                                              review  sentiment\n",
       "0  one reviewer mentioned watching oz episode you...          1\n",
       "1  wonderful little production filming technique ...          1"
      ]
     },
     "execution_count": 8,
     "metadata": {},
     "output_type": "execute_result"
    }
   ],
   "source": [
    "df_preprocessed.head(2)"
   ]
  },
  {
   "cell_type": "markdown",
   "metadata": {},
   "source": [
    "## EDA"
   ]
  },
  {
   "cell_type": "markdown",
   "metadata": {
    "id": "NNuynjXOCzz6"
   },
   "source": [
    "### Generar bigramas"
   ]
  },
  {
   "cell_type": "markdown",
   "metadata": {},
   "source": [
    "Creamos bigramas para hacer relación más rapidamente de las combinaciónes que definen un comentario positivo y negativo"
   ]
  },
  {
   "cell_type": "code",
   "execution_count": 9,
   "metadata": {
    "ExecuteTime": {
     "end_time": "2025-09-03T13:11:34.140380Z",
     "start_time": "2025-09-03T13:11:34.127824Z"
    },
    "id": "t-GGRgyQJlGF"
   },
   "outputs": [],
   "source": [
    " # Import ngrams and give it a unique name\n"
   ]
  },
  {
   "cell_type": "code",
   "execution_count": 10,
   "metadata": {
    "ExecuteTime": {
     "end_time": "2025-09-03T13:11:41.099468Z",
     "start_time": "2025-09-03T13:11:34.175983Z"
    },
    "id": "mWHxi35y1OXG"
   },
   "outputs": [],
   "source": [
    "def generate_ngrams(text, n):\n",
    "    tokens = text.lower().split()\n",
    "    n_grams = list(nltk_ngrams(tokens, n))  # Use the imported function\n",
    "    return n_grams\n",
    "\n",
    "n = 2  # You can change this to generate different n-grams (e.g., 3 for trigrams)\n",
    "df_preprocessed['ngrams'] = df_preprocessed['review'].apply(lambda x: generate_ngrams(x, n))\n",
    "\n",
    "# Separate ngrams by sentiment\n",
    "positive_ngrams = [ngram for sentiment, ngrams_list in zip(df_preprocessed['sentiment'], df_preprocessed['ngrams'])\n",
    "                   if sentiment == 1 for ngram in ngrams_list]\n",
    "negative_ngrams = [ngram for sentiment, ngrams_list in zip(df_preprocessed['sentiment'], df_preprocessed['ngrams'])\n",
    "                   if sentiment == 0 for ngram in ngrams_list]"
   ]
  },
  {
   "cell_type": "code",
   "execution_count": 11,
   "metadata": {
    "ExecuteTime": {
     "end_time": "2025-09-03T13:11:41.893564Z",
     "start_time": "2025-09-03T13:11:41.137774Z"
    }
   },
   "outputs": [
    {
     "data": {
      "text/html": [
       "<div>\n",
       "<style scoped>\n",
       "    .dataframe tbody tr th:only-of-type {\n",
       "        vertical-align: middle;\n",
       "    }\n",
       "\n",
       "    .dataframe tbody tr th {\n",
       "        vertical-align: top;\n",
       "    }\n",
       "\n",
       "    .dataframe thead th {\n",
       "        text-align: right;\n",
       "    }\n",
       "</style>\n",
       "<table border=\"1\" class=\"dataframe\">\n",
       "  <thead>\n",
       "    <tr style=\"text-align: right;\">\n",
       "      <th></th>\n",
       "      <th>review</th>\n",
       "      <th>sentiment</th>\n",
       "      <th>ngrams</th>\n",
       "    </tr>\n",
       "  </thead>\n",
       "  <tbody>\n",
       "    <tr>\n",
       "      <th>0</th>\n",
       "      <td>one reviewer mentioned watching oz episode you...</td>\n",
       "      <td>1</td>\n",
       "      <td>[(one, reviewer), (reviewer, mentioned), (ment...</td>\n",
       "    </tr>\n",
       "    <tr>\n",
       "      <th>1</th>\n",
       "      <td>wonderful little production filming technique ...</td>\n",
       "      <td>1</td>\n",
       "      <td>[(wonderful, little), (little, production), (p...</td>\n",
       "    </tr>\n",
       "    <tr>\n",
       "      <th>2</th>\n",
       "      <td>thought wonderful way spend time hot summer we...</td>\n",
       "      <td>1</td>\n",
       "      <td>[(thought, wonderful), (wonderful, way), (way,...</td>\n",
       "    </tr>\n",
       "    <tr>\n",
       "      <th>3</th>\n",
       "      <td>basically there family where little boy jake t...</td>\n",
       "      <td>0</td>\n",
       "      <td>[(basically, there), (there, family), (family,...</td>\n",
       "    </tr>\n",
       "    <tr>\n",
       "      <th>4</th>\n",
       "      <td>petter matteis visually stunning film watch mr...</td>\n",
       "      <td>1</td>\n",
       "      <td>[(petter, matteis), (matteis, visually), (visu...</td>\n",
       "    </tr>\n",
       "  </tbody>\n",
       "</table>\n",
       "</div>"
      ],
      "text/plain": [
       "                                              review  sentiment  \\\n",
       "0  one reviewer mentioned watching oz episode you...          1   \n",
       "1  wonderful little production filming technique ...          1   \n",
       "2  thought wonderful way spend time hot summer we...          1   \n",
       "3  basically there family where little boy jake t...          0   \n",
       "4  petter matteis visually stunning film watch mr...          1   \n",
       "\n",
       "                                              ngrams  \n",
       "0  [(one, reviewer), (reviewer, mentioned), (ment...  \n",
       "1  [(wonderful, little), (little, production), (p...  \n",
       "2  [(thought, wonderful), (wonderful, way), (way,...  \n",
       "3  [(basically, there), (there, family), (family,...  \n",
       "4  [(petter, matteis), (matteis, visually), (visu...  "
      ]
     },
     "execution_count": 11,
     "metadata": {},
     "output_type": "execute_result"
    }
   ],
   "source": [
    "df_preprocessed.head()"
   ]
  },
  {
   "cell_type": "markdown",
   "metadata": {
    "id": "A7rEjo0nC9Nx"
   },
   "source": [
    "contar frecuencias"
   ]
  },
  {
   "cell_type": "code",
   "execution_count": 12,
   "metadata": {
    "ExecuteTime": {
     "end_time": "2025-09-03T13:11:48.335577Z",
     "start_time": "2025-09-03T13:11:41.925363Z"
    },
    "id": "4seP0tq-Dkbs"
   },
   "outputs": [],
   "source": [
    "positive_ngram_counts = Counter(positive_ngrams)\n",
    "negative_ngram_counts = Counter(negative_ngrams)\n"
   ]
  },
  {
   "cell_type": "markdown",
   "metadata": {
    "id": "t5yuusJAIrhi"
   },
   "source": [
    "#### Calcular diferencia de frecuencias"
   ]
  },
  {
   "cell_type": "markdown",
   "metadata": {},
   "source": [
    "Ayuda a evitar tener en cuenta ngramas que se repitan tanto en comentarios positivos como en negativos, los cuales no terminan siendo de mucha ayuda"
   ]
  },
  {
   "cell_type": "code",
   "execution_count": 13,
   "metadata": {
    "ExecuteTime": {
     "end_time": "2025-09-03T13:11:48.391348Z",
     "start_time": "2025-09-03T13:11:48.359788Z"
    },
    "id": "Zvg9DQCZ1ORE"
   },
   "outputs": [
    {
     "data": {
      "text/plain": [
       "'\\nall_words = set(negative_ngram_counts.keys()).union(set(positive_ngram_counts.keys()))\\n\\n# Crear un diccionario para las diferencias de frecuencias\\nfrequency_differences = {}\\n\\nfor word in all_words:\\n    # Obtén la frecuencia de cada palabra en ambas listas, si no existe, asigna 0\\n    negative_freq = negative_ngram_counts.get(word, 0)\\n    positive_freq = positive_ngram_counts.get(word, 0)\\n\\n    # Restar la frecuencia de las palabras\\n    frequency_differences[word] =  positive_freq - negative_freq\\n\\n# Ordenar las palabras por la diferencia de frecuencias (de mayor a menor)\\nsorted_frequency_differences = sorted(frequency_differences.items(), key=lambda x: x[1], reverse=True)\\n'"
      ]
     },
     "execution_count": 13,
     "metadata": {},
     "output_type": "execute_result"
    }
   ],
   "source": [
    "'''\n",
    "all_words = set(negative_ngram_counts.keys()).union(set(positive_ngram_counts.keys()))\n",
    "\n",
    "# Crear un diccionario para las diferencias de frecuencias\n",
    "frequency_differences = {}\n",
    "\n",
    "for word in all_words:\n",
    "    # Obtén la frecuencia de cada palabra en ambas listas, si no existe, asigna 0\n",
    "    negative_freq = negative_ngram_counts.get(word, 0)\n",
    "    positive_freq = positive_ngram_counts.get(word, 0)\n",
    "\n",
    "    # Restar la frecuencia de las palabras\n",
    "    frequency_differences[word] =  positive_freq - negative_freq\n",
    "\n",
    "# Ordenar las palabras por la diferencia de frecuencias (de mayor a menor)\n",
    "sorted_frequency_differences = sorted(frequency_differences.items(), key=lambda x: x[1], reverse=True)\n",
    "'''"
   ]
  },
  {
   "cell_type": "markdown",
   "metadata": {},
   "source": [
    "### Análisis de bigramas"
   ]
  },
  {
   "cell_type": "code",
   "execution_count": 14,
   "metadata": {
    "ExecuteTime": {
     "end_time": "2025-09-03T13:11:51.037199Z",
     "start_time": "2025-09-03T13:11:48.448156Z"
    },
    "colab": {
     "base_uri": "https://localhost:8080/",
     "height": 607
    },
    "id": "weBpHZc38p6w",
    "outputId": "8dbcffe8-be1a-47bd-c980-71a328a0445a"
   },
   "outputs": [
    {
     "data": {
      "image/png": "[encoded data removed]",
      "text/plain": [
       "<Figure size 1200x500 with 2 Axes>"
      ]
     },
     "metadata": {},
     "output_type": "display_data"
    }
   ],
   "source": [
    "# graficar los mejores 10 ngramas por categoria\n",
    "top_n = 10\n",
    "\n",
    "top_positive_ngrams = positive_ngram_counts.most_common(top_n)\n",
    "top_negative_ngrams = negative_ngram_counts.most_common(top_n)\n",
    "\n",
    "#Prepare data for plotting\n",
    "ngrams_pos = [str(ngram) for ngram, count in top_positive_ngrams]\n",
    "counts_pos = [count for ngram, count in top_positive_ngrams]\n",
    "\n",
    "ngrams_neg = [str(ngram) for ngram, count in top_negative_ngrams]\n",
    "counts_neg = [count for ngram, count in top_negative_ngrams]\n",
    "\n",
    "\n",
    "\n",
    "plt.figure(figsize=(12, 5))\n",
    "\n",
    "plt.subplot(1, 2, 1)\n",
    "plt.bar(ngrams_pos, counts_pos)\n",
    "plt.title(f'Top {top_n} Most Frequent {n}-grams (Positive)')\n",
    "plt.xticks(rotation=45, ha='right')\n",
    "\n",
    "plt.subplot(1, 2, 2)\n",
    "plt.bar(ngrams_neg, counts_neg)\n",
    "plt.title(f'Top {top_n} Most Frequent {n}-grams (Negative)')\n",
    "plt.xticks(rotation=45, ha='right')\n",
    "\n",
    "plt.tight_layout()\n",
    "plt.show()"
   ]
  },
  {
   "cell_type": "markdown",
   "metadata": {},
   "source": [
    "### Análisis por categorias"
   ]
  },
  {
   "cell_type": "code",
   "execution_count": 15,
   "metadata": {
    "ExecuteTime": {
     "end_time": "2025-09-03T13:11:51.783181Z",
     "start_time": "2025-09-03T13:11:51.095424Z"
    },
    "id": "T5LjGL7bOAEW"
   },
   "outputs": [],
   "source": [
    "positive_reviews = df_preprocessed[df_preprocessed['sentiment'] == 1]['review']\n",
    "negative_reviews = df_preprocessed[df_preprocessed['sentiment'] == 0]['review']"
   ]
  },
  {
   "cell_type": "code",
   "execution_count": 16,
   "metadata": {
    "ExecuteTime": {
     "end_time": "2025-09-03T13:11:58.179838Z",
     "start_time": "2025-09-03T13:11:51.805797Z"
    },
    "colab": {
     "base_uri": "https://localhost:8080/",
     "height": 607
    },
    "id": "ykuO0zrzKaWs",
    "outputId": "e71f976e-5671-431f-c8b3-434b8e1d3c7f"
   },
   "outputs": [
    {
     "data": {
      "image/png": "[encoded data removed]",
      "text/plain": [
       "<Figure size 1000x600 with 1 Axes>"
      ]
     },
     "metadata": {},
     "output_type": "display_data"
    }
   ],
   "source": [
    "# Categorías clave a analizar\n",
    "categories = ['acting', 'story', 'script', 'plot', 'effects', 'visuals', 'sound', 'music', 'dialogue']\n",
    "\n",
    "# Función para buscar frecuencia de las categorías\n",
    "def category_analysis(reviews, categories):\n",
    "    frequencies = {}\n",
    "    #examples = {}\n",
    "    for category in categories:\n",
    "        frequencies[category] = reviews.str.contains(category, case=False, na=False).sum()\n",
    "    return frequencies\n",
    "\n",
    "# reseñas positivas\n",
    "positive_freq = category_analysis(positive_reviews, categories)\n",
    "\n",
    "# reseñas negativas\n",
    "negative_freq = category_analysis(negative_reviews, categories)\n",
    "\n",
    "# Crear un DataFrame para frecuencias\n",
    "freq_df = pd.DataFrame({'Positive': positive_freq, 'Negative': negative_freq})\n",
    "\n",
    "# Gráfico de frecuencias\n",
    "freq_df.plot(kind='bar', figsize=(10, 6))\n",
    "plt.title('Frecuencia de categorías en reseñas positivas y negativas')\n",
    "plt.ylabel('Frecuencia')\n",
    "plt.xlabel('Categorías')\n",
    "plt.xticks(rotation=45)\n",
    "plt.tight_layout()\n",
    "plt.show()"
   ]
  },
  {
   "cell_type": "code",
   "execution_count": 17,
   "metadata": {
    "ExecuteTime": {
     "end_time": "2025-09-03T13:11:58.242941Z",
     "start_time": "2025-09-03T13:11:58.230982Z"
    },
    "colab": {
     "base_uri": "https://localhost:8080/"
    },
    "id": "chIpvhrUQpHb",
    "outputId": "0936adfb-1d61-43ae-b6ed-5959179746d7"
   },
   "outputs": [
    {
     "data": {
      "text/plain": [
       "\"import nltk\\nfrom nltk.tokenize import word_tokenize\\nfrom nltk import pos_tag\\nfrom nltk.corpus import stopwords\\nfrom textblob import TextBlob\\nimport matplotlib.pyplot as plt\\nfrom scipy.stats import ttest_ind\\n\\n# Descargar recursos necesarios\\nnltk.download('punkt')\\nnltk.download('punkt_tab')\\n\\nnltk.download('averaged_perceptron_tagger')\\nnltk.download('stopwords')\\nnltk.download('averaged_perceptron_tagger_eng')\""
      ]
     },
     "execution_count": 17,
     "metadata": {},
     "output_type": "execute_result"
    }
   ],
   "source": [
    "'''import nltk\n",
    "from nltk.tokenize import word_tokenize\n",
    "from nltk import pos_tag\n",
    "from nltk.corpus import stopwords\n",
    "from textblob import TextBlob\n",
    "import matplotlib.pyplot as plt\n",
    "from scipy.stats import ttest_ind\n",
    "\n",
    "# Descargar recursos necesarios\n",
    "nltk.download('punkt')\n",
    "nltk.download('punkt_tab')\n",
    "\n",
    "nltk.download('averaged_perceptron_tagger')\n",
    "nltk.download('stopwords')\n",
    "nltk.download('averaged_perceptron_tagger_eng')'''"
   ]
  },
  {
   "cell_type": "markdown",
   "metadata": {
    "id": "ZpNSGtuiQvkd"
   },
   "source": []
  },
  {
   "cell_type": "code",
   "execution_count": 18,
   "metadata": {
    "ExecuteTime": {
     "end_time": "2025-09-03T13:11:58.329167Z",
     "start_time": "2025-09-03T13:11:58.309910Z"
    },
    "colab": {
     "background_save": true
    },
    "id": "7KiL5WaBP39G",
    "outputId": "f045d8cb-229d-4454-9be5-9e8d7beb8b9f"
   },
   "outputs": [
    {
     "data": {
      "text/plain": [
       "'\\n# Asume que el DataFrame tiene columnas: \\'review\\' (texto) y \\'sentiment\\' (positivo/negativo)\\n# Carga los datos\\ndf = df_preprocessed.copy()  # Carga tus datos aquí\\n\\n# Función para preprocesar y etiquetar partes del discurso\\ndef pos_analysis(text):\\n    tokens = word_tokenize(text.lower())\\n    tags = pos_tag(tokens)\\n    return tags\\n\\n# Función para contar categorías gramaticales\\ndef count_pos_tags(pos_tags):\\n    counts = {\"adjective\": 0, \"noun\": 0, \"verb\": 0}\\n    for word, tag in pos_tags:\\n        if tag.startswith(\\'JJ\\'):\\n            counts[\\'adjective\\'] += 1\\n        elif tag.startswith(\\'NN\\'):\\n            counts[\\'noun\\'] += 1\\n        elif tag.startswith(\\'VB\\'):\\n            counts[\\'verb\\'] += 1\\n    return counts\\n\\n# Aplicar el análisis POS y calcular emociones\\npos_counts = {\"positive\": [], \"negative\": []}\\nemotion_scores = {\"positive\": [], \"negative\": []}\\n\\nfor _, row in df.iterrows():\\n    sentiment = row[\\'sentiment\\']  # sentiment is 1 or 0\\n    review = row[\\'review\\']\\n    pos_tags = pos_analysis(review)\\n    pos_count = count_pos_tags(pos_tags)\\n\\n    # Convert sentiment to the corresponding key\\n    sentiment_key = \"positive\" if sentiment == 1 else \"negative\"\\n\\n    # Guardar conteos de partes del discurso using sentiment_key\\n    pos_counts[sentiment_key].append(pos_count)\\n\\n    # Analizar emociones\\n    polarity = TextBlob(review).sentiment.polarity\\n    emotion_scores[sentiment_key].append(polarity)\\n\\n# Agregar análisis estadístico\\ndef average_counts(counts_list):\\n    return {\\n        \"adjective\": sum(c[\\'adjective\\'] for c in counts_list) / len(counts_list),\\n        \"noun\": sum(c[\\'noun\\'] for c in counts_list) / len(counts_list),\\n        \"verb\": sum(c[\\'verb\\'] for c in counts_list) / len(counts_list),\\n    }\\n\\npositive_counts_avg = average_counts(pos_counts[\"positive\"])\\nnegative_counts_avg = average_counts(pos_counts[\"negative\"])\\n\\n# Comparar estadísticamente los resultados\\npositive_polarity = emotion_scores[\"positive\"]\\nnegative_polarity = emotion_scores[\"negative\"]\\n\\n# Prueba T para cada categoría gramatical\\nfor category in [\"adjective\", \"noun\", \"verb\"]:\\n    positive_data = [c[category] for c in pos_counts[\"positive\"]]\\n    negative_data = [c[category] for c in pos_counts[\"negative\"]]\\n    stat, p_value = ttest_ind(positive_data, negative_data)\\n    print(f\"{category.capitalize()} - T-test p-value: {p_value}\")\\n\\n# Comparación de emociones\\nstat, p_value = ttest_ind(positive_polarity, negative_polarity)\\nprint(f\"Emotion polarity - T-test p-value: {p_value}\")\\n\\n# Visualización\\nlabels = [\\'Adjectives\\', \\'Nouns\\', \\'Verbs\\']\\npositive_values = [positive_counts_avg[\\'adjective\\'], positive_counts_avg[\\'noun\\'], positive_counts_avg[\\'verb\\']]\\nnegative_values = [negative_counts_avg[\\'adjective\\'], negative_counts_avg[\\'noun\\'], negative_counts_avg[\\'verb\\']]\\n\\nx = range(len(labels))\\nplt.bar(x, positive_values, width=0.4, label=\\'Positive\\', align=\\'center\\')\\nplt.bar(x, negative_values, width=0.4, label=\\'Negative\\', align=\\'edge\\')\\nplt.xticks(x, labels)\\nplt.ylabel(\\'Average Count\\')\\nplt.title(\\'POS Tag Comparison\\')\\nplt.legend()\\nplt.show()'"
      ]
     },
     "execution_count": 18,
     "metadata": {},
     "output_type": "execute_result"
    }
   ],
   "source": [
    "'''\n",
    "# Asume que el DataFrame tiene columnas: 'review' (texto) y 'sentiment' (positivo/negativo)\n",
    "# Carga los datos\n",
    "df = df_preprocessed.copy()  # Carga tus datos aquí\n",
    "\n",
    "# Función para preprocesar y etiquetar partes del discurso\n",
    "def pos_analysis(text):\n",
    "    tokens = word_tokenize(text.lower())\n",
    "    tags = pos_tag(tokens)\n",
    "    return tags\n",
    "\n",
    "# Función para contar categorías gramaticales\n",
    "def count_pos_tags(pos_tags):\n",
    "    counts = {\"adjective\": 0, \"noun\": 0, \"verb\": 0}\n",
    "    for word, tag in pos_tags:\n",
    "        if tag.startswith('JJ'):\n",
    "            counts['adjective'] += 1\n",
    "        elif tag.startswith('NN'):\n",
    "            counts['noun'] += 1\n",
    "        elif tag.startswith('VB'):\n",
    "            counts['verb'] += 1\n",
    "    return counts\n",
    "\n",
    "# Aplicar el análisis POS y calcular emociones\n",
    "pos_counts = {\"positive\": [], \"negative\": []}\n",
    "emotion_scores = {\"positive\": [], \"negative\": []}\n",
    "\n",
    "for _, row in df.iterrows():\n",
    "    sentiment = row['sentiment']  # sentiment is 1 or 0\n",
    "    review = row['review']\n",
    "    pos_tags = pos_analysis(review)\n",
    "    pos_count = count_pos_tags(pos_tags)\n",
    "\n",
    "    # Convert sentiment to the corresponding key\n",
    "    sentiment_key = \"positive\" if sentiment == 1 else \"negative\"\n",
    "\n",
    "    # Guardar conteos de partes del discurso using sentiment_key\n",
    "    pos_counts[sentiment_key].append(pos_count)\n",
    "\n",
    "    # Analizar emociones\n",
    "    polarity = TextBlob(review).sentiment.polarity\n",
    "    emotion_scores[sentiment_key].append(polarity)\n",
    "\n",
    "# Agregar análisis estadístico\n",
    "def average_counts(counts_list):\n",
    "    return {\n",
    "        \"adjective\": sum(c['adjective'] for c in counts_list) / len(counts_list),\n",
    "        \"noun\": sum(c['noun'] for c in counts_list) / len(counts_list),\n",
    "        \"verb\": sum(c['verb'] for c in counts_list) / len(counts_list),\n",
    "    }\n",
    "\n",
    "positive_counts_avg = average_counts(pos_counts[\"positive\"])\n",
    "negative_counts_avg = average_counts(pos_counts[\"negative\"])\n",
    "\n",
    "# Comparar estadísticamente los resultados\n",
    "positive_polarity = emotion_scores[\"positive\"]\n",
    "negative_polarity = emotion_scores[\"negative\"]\n",
    "\n",
    "# Prueba T para cada categoría gramatical\n",
    "for category in [\"adjective\", \"noun\", \"verb\"]:\n",
    "    positive_data = [c[category] for c in pos_counts[\"positive\"]]\n",
    "    negative_data = [c[category] for c in pos_counts[\"negative\"]]\n",
    "    stat, p_value = ttest_ind(positive_data, negative_data)\n",
    "    print(f\"{category.capitalize()} - T-test p-value: {p_value}\")\n",
    "\n",
    "# Comparación de emociones\n",
    "stat, p_value = ttest_ind(positive_polarity, negative_polarity)\n",
    "print(f\"Emotion polarity - T-test p-value: {p_value}\")\n",
    "\n",
    "# Visualización\n",
    "labels = ['Adjectives', 'Nouns', 'Verbs']\n",
    "positive_values = [positive_counts_avg['adjective'], positive_counts_avg['noun'], positive_counts_avg['verb']]\n",
    "negative_values = [negative_counts_avg['adjective'], negative_counts_avg['noun'], negative_counts_avg['verb']]\n",
    "\n",
    "x = range(len(labels))\n",
    "plt.bar(x, positive_values, width=0.4, label='Positive', align='center')\n",
    "plt.bar(x, negative_values, width=0.4, label='Negative', align='edge')\n",
    "plt.xticks(x, labels)\n",
    "plt.ylabel('Average Count')\n",
    "plt.title('POS Tag Comparison')\n",
    "plt.legend()\n",
    "plt.show()'''"
   ]
  },
  {
   "cell_type": "code",
   "execution_count": 19,
   "metadata": {
    "ExecuteTime": {
     "end_time": "2025-09-03T13:11:58.403593Z",
     "start_time": "2025-09-03T13:11:58.389982Z"
    },
    "colab": {
     "background_save": true
    },
    "id": "4LBv0hecT-HD"
   },
   "outputs": [],
   "source": [
    "#df_preprocessed = df_preprocessed.drop('ngrams', axis=1)"
   ]
  },
  {
   "cell_type": "markdown",
   "metadata": {},
   "source": [
    "# Preparación de datos tokenización"
   ]
  },
  {
   "cell_type": "markdown",
   "metadata": {},
   "source": [
    "## Tokenización"
   ]
  },
  {
   "cell_type": "code",
   "execution_count": 20,
   "metadata": {
    "ExecuteTime": {
     "end_time": "2025-09-03T13:12:26.764312Z",
     "start_time": "2025-09-03T13:11:58.426261Z"
    },
    "colab": {
     "background_save": true
    },
    "id": "4Xt5oTlZUMe5",
    "outputId": "e994d7ae-9fc9-46bd-9371-941884202990"
   },
   "outputs": [
    {
     "name": "stderr",
     "output_type": "stream",
     "text": [
      "[nltk_data] Downloading package punkt to\n",
      "[nltk_data]     C:\\Users\\maico\\AppData\\Roaming\\nltk_data...\n",
      "[nltk_data]   Package punkt is already up-to-date!\n"
     ]
    }
   ],
   "source": [
    "# Descargar recursos necesarios para la tokenización\n",
    "nltk.download('punkt')\n",
    "\n",
    "# Ejemplo de texto: Puedes reemplazar esto con tus reseñas\n",
    "df_preprocessed['tokens'] = df_preprocessed['review'].apply(word_tokenize)"
   ]
  },
  {
   "cell_type": "code",
   "execution_count": 21,
   "metadata": {
    "ExecuteTime": {
     "end_time": "2025-09-03T13:12:26.971116Z",
     "start_time": "2025-09-03T13:12:26.786762Z"
    },
    "colab": {
     "background_save": true
    },
    "id": "9IwWPb9vU_sb",
    "outputId": "eab9822d-550f-400c-90a2-9d86027ecdac"
   },
   "outputs": [
    {
     "data": {
      "text/html": [
       "<div>\n",
       "<style scoped>\n",
       "    .dataframe tbody tr th:only-of-type {\n",
       "        vertical-align: middle;\n",
       "    }\n",
       "\n",
       "    .dataframe tbody tr th {\n",
       "        vertical-align: top;\n",
       "    }\n",
       "\n",
       "    .dataframe thead th {\n",
       "        text-align: right;\n",
       "    }\n",
       "</style>\n",
       "<table border=\"1\" class=\"dataframe\">\n",
       "  <thead>\n",
       "    <tr style=\"text-align: right;\">\n",
       "      <th></th>\n",
       "      <th>review</th>\n",
       "      <th>sentiment</th>\n",
       "      <th>ngrams</th>\n",
       "      <th>tokens</th>\n",
       "    </tr>\n",
       "  </thead>\n",
       "  <tbody>\n",
       "    <tr>\n",
       "      <th>0</th>\n",
       "      <td>one reviewer mentioned watching oz episode you...</td>\n",
       "      <td>1</td>\n",
       "      <td>[(one, reviewer), (reviewer, mentioned), (ment...</td>\n",
       "      <td>[one, reviewer, mentioned, watching, oz, episo...</td>\n",
       "    </tr>\n",
       "    <tr>\n",
       "      <th>1</th>\n",
       "      <td>wonderful little production filming technique ...</td>\n",
       "      <td>1</td>\n",
       "      <td>[(wonderful, little), (little, production), (p...</td>\n",
       "      <td>[wonderful, little, production, filming, techn...</td>\n",
       "    </tr>\n",
       "    <tr>\n",
       "      <th>2</th>\n",
       "      <td>thought wonderful way spend time hot summer we...</td>\n",
       "      <td>1</td>\n",
       "      <td>[(thought, wonderful), (wonderful, way), (way,...</td>\n",
       "      <td>[thought, wonderful, way, spend, time, hot, su...</td>\n",
       "    </tr>\n",
       "    <tr>\n",
       "      <th>3</th>\n",
       "      <td>basically there family where little boy jake t...</td>\n",
       "      <td>0</td>\n",
       "      <td>[(basically, there), (there, family), (family,...</td>\n",
       "      <td>[basically, there, family, where, little, boy,...</td>\n",
       "    </tr>\n",
       "    <tr>\n",
       "      <th>4</th>\n",
       "      <td>petter matteis visually stunning film watch mr...</td>\n",
       "      <td>1</td>\n",
       "      <td>[(petter, matteis), (matteis, visually), (visu...</td>\n",
       "      <td>[petter, matteis, visually, stunning, film, wa...</td>\n",
       "    </tr>\n",
       "  </tbody>\n",
       "</table>\n",
       "</div>"
      ],
      "text/plain": [
       "                                              review  sentiment  \\\n",
       "0  one reviewer mentioned watching oz episode you...          1   \n",
       "1  wonderful little production filming technique ...          1   \n",
       "2  thought wonderful way spend time hot summer we...          1   \n",
       "3  basically there family where little boy jake t...          0   \n",
       "4  petter matteis visually stunning film watch mr...          1   \n",
       "\n",
       "                                              ngrams  \\\n",
       "0  [(one, reviewer), (reviewer, mentioned), (ment...   \n",
       "1  [(wonderful, little), (little, production), (p...   \n",
       "2  [(thought, wonderful), (wonderful, way), (way,...   \n",
       "3  [(basically, there), (there, family), (family,...   \n",
       "4  [(petter, matteis), (matteis, visually), (visu...   \n",
       "\n",
       "                                              tokens  \n",
       "0  [one, reviewer, mentioned, watching, oz, episo...  \n",
       "1  [wonderful, little, production, filming, techn...  \n",
       "2  [thought, wonderful, way, spend, time, hot, su...  \n",
       "3  [basically, there, family, where, little, boy,...  \n",
       "4  [petter, matteis, visually, stunning, film, wa...  "
      ]
     },
     "execution_count": 21,
     "metadata": {},
     "output_type": "execute_result"
    }
   ],
   "source": [
    "df_preprocessed.head()"
   ]
  },
  {
   "cell_type": "markdown",
   "metadata": {
    "id": "TGqlOUN6WsR_"
   },
   "source": [
    "## Vectorización"
   ]
  },
  {
   "cell_type": "code",
   "execution_count": null,
   "metadata": {
    "ExecuteTime": {
     "end_time": "2025-09-03T13:12:27.004172Z",
     "start_time": "2025-09-03T13:12:26.994385Z"
    }
   },
   "outputs": [],
   "source": []
  },
  {
   "cell_type": "markdown",
   "metadata": {},
   "source": [
    "# Embedings Preentrenados"
   ]
  },
  {
   "cell_type": "code",
   "execution_count": 22,
   "metadata": {
    "ExecuteTime": {
     "end_time": "2025-09-03T13:12:27.108414Z",
     "start_time": "2025-09-03T13:12:27.097829Z"
    },
    "colab": {
     "base_uri": "https://localhost:8080/"
    },
    "id": "H90Dp7t3WG0b",
    "outputId": "f88eacbc-cf73-4471-de3f-fdb25000b2f7"
   },
   "outputs": [
    {
     "data": {
      "text/plain": [
       "\"import numpy as np\\nfrom gensim.models import KeyedVectors\\n\\n# Ruta del archivo de embeddings preentrenados (asegúrate de tener el archivo)\\n# Descarga desde https://nlp.stanford.edu/projects/glove/ para GloVe o usa preentrenados de Word2Vec\\nword_vectors_path = '/content/glove.6B.300d.txt'\\n\\n# Función para cargar embeddings GloVe\\ndef load_glove_model(glove_file):\\n    embeddings_index = {}\\n    with open(glove_file, 'r', encoding='utf-8') as f:\\n        for line in f:\\n            values = line.split()\\n            word = values[0]\\n            vector = np.asarray(values[1:], dtype='float32')\\n            embeddings_index[word] = vector\\n    return embeddings_index\\n\\n# Cargar embeddings\\nembeddings_index = load_glove_model(word_vectors_path)\\n\\n# Función para convertir tokens a un vector promediado usando embeddings\\ndef tokens_to_vector(tokens, embeddings_index):\\n    vectors = [embeddings_index[word] for word in tokens if word in embeddings_index]\\n    if len(vectors) == 0:\\n        return np.zeros(300)  # Vector nulo si no hay palabras conocidas\\n    return np.mean(vectors, axis=0)\\n\\n# Convertir cada reseña a un vector\\ndf_preprocessed['vector_glove'] = df_preprocessed['tokens'].apply(lambda x: tokens_to_vector(x, embeddings_index))\\n\\n# Mostrar los primeros resultados\\ndf_preprocessed[['review', 'vector_glove']].head()\""
      ]
     },
     "execution_count": 22,
     "metadata": {},
     "output_type": "execute_result"
    }
   ],
   "source": [
    "'''import numpy as np\n",
    "from gensim.models import KeyedVectors\n",
    "\n",
    "# Ruta del archivo de embeddings preentrenados (asegúrate de tener el archivo)\n",
    "# Descarga desde https://nlp.stanford.edu/projects/glove/ para GloVe o usa preentrenados de Word2Vec\n",
    "word_vectors_path = '/content/glove.6B.300d.txt'\n",
    "\n",
    "# Función para cargar embeddings GloVe\n",
    "def load_glove_model(glove_file):\n",
    "    embeddings_index = {}\n",
    "    with open(glove_file, 'r', encoding='utf-8') as f:\n",
    "        for line in f:\n",
    "            values = line.split()\n",
    "            word = values[0]\n",
    "            vector = np.asarray(values[1:], dtype='float32')\n",
    "            embeddings_index[word] = vector\n",
    "    return embeddings_index\n",
    "\n",
    "# Cargar embeddings\n",
    "embeddings_index = load_glove_model(word_vectors_path)\n",
    "\n",
    "# Función para convertir tokens a un vector promediado usando embeddings\n",
    "def tokens_to_vector(tokens, embeddings_index):\n",
    "    vectors = [embeddings_index[word] for word in tokens if word in embeddings_index]\n",
    "    if len(vectors) == 0:\n",
    "        return np.zeros(300)  # Vector nulo si no hay palabras conocidas\n",
    "    return np.mean(vectors, axis=0)\n",
    "\n",
    "# Convertir cada reseña a un vector\n",
    "df_preprocessed['vector_glove'] = df_preprocessed['tokens'].apply(lambda x: tokens_to_vector(x, embeddings_index))\n",
    "\n",
    "# Mostrar los primeros resultados\n",
    "df_preprocessed[['review', 'vector_glove']].head()'''"
   ]
  },
  {
   "cell_type": "markdown",
   "metadata": {
    "id": "UopA3lNiWpu6"
   },
   "source": [
    "#TF-IDF"
   ]
  },
  {
   "cell_type": "code",
   "execution_count": 23,
   "metadata": {
    "ExecuteTime": {
     "end_time": "2025-09-03T13:12:27.218298Z",
     "start_time": "2025-09-03T13:12:27.208447Z"
    },
    "id": "1vmdkuYLVkdi"
   },
   "outputs": [],
   "source": [
    "#from sklearn.feature_extraction.text import TfidfVectorizer"
   ]
  },
  {
   "cell_type": "code",
   "execution_count": 24,
   "metadata": {
    "ExecuteTime": {
     "end_time": "2025-09-03T13:12:27.256227Z",
     "start_time": "2025-09-03T13:12:27.250610Z"
    },
    "id": "MTe-_eYbVfSq"
   },
   "outputs": [],
   "source": [
    "# Inicializar el vectorizador\n",
    "#tfidf = TfidfVectorizer(max_features=1000, tokenizer=lambda x: x, preprocessor=lambda x: x, token_pattern=None)\n",
    "\n",
    "# Convertir las reseñas tokenizadas a una matriz TF-IDF\n",
    "#tfidf_matrix = tfidf.fit_transform(df_preprocessed['tokens'])\n",
    "\n"
   ]
  },
  {
   "cell_type": "code",
   "execution_count": 25,
   "metadata": {
    "ExecuteTime": {
     "end_time": "2025-09-03T13:12:27.279780Z",
     "start_time": "2025-09-03T13:12:27.275629Z"
    },
    "id": "X_ZfWaHHVxlF"
   },
   "outputs": [],
   "source": [
    "# Guardar la matriz en el DataFrame (opcionalmente como una lista para cada reseña)\n",
    "#df_preprocessed['vector_tfidf'] = list(tfidf_matrix.toarray())\n"
   ]
  },
  {
   "cell_type": "code",
   "execution_count": 26,
   "metadata": {
    "ExecuteTime": {
     "end_time": "2025-09-03T13:12:42.961725Z",
     "start_time": "2025-09-03T13:12:27.300819Z"
    }
   },
   "outputs": [],
   "source": [
    "from tensorflow.keras.preprocessing.text import Tokenizer\n",
    "from tensorflow.keras.preprocessing.sequence import pad_sequences\n",
    "\n",
    "from tensorflow.keras.models import Sequential\n",
    "from tensorflow.keras.layers import Embedding, Conv1D,  Dense, Dropout,LSTM,Input\n",
    "#GlobalMaxPooling1D\n",
    "from sklearn.model_selection import train_test_split\n",
    "from sklearn.metrics import accuracy_score"
   ]
  },
  {
   "cell_type": "markdown",
   "metadata": {},
   "source": [
    "Tokenización basada en Frecuencias"
   ]
  },
  {
   "cell_type": "code",
   "execution_count": 27,
   "metadata": {
    "ExecuteTime": {
     "end_time": "2025-09-03T13:12:55.153802Z",
     "start_time": "2025-09-03T13:12:42.981095Z"
    }
   },
   "outputs": [],
   "source": [
    "tokenizer = Tokenizer(num_words=20000, oov_token=\"<OOV>\")\n",
    "tokenizer.fit_on_texts(df_preprocessed['review'])\n",
    "word_index = tokenizer.word_index\n",
    "sequences = tokenizer.texts_to_sequences(df_preprocessed['review'])"
   ]
  },
  {
   "cell_type": "markdown",
   "metadata": {},
   "source": [
    "Conjuntos de Entrenamiento y Testeo"
   ]
  },
  {
   "cell_type": "code",
   "execution_count": 28,
   "metadata": {
    "ExecuteTime": {
     "end_time": "2025-09-03T13:12:55.802662Z",
     "start_time": "2025-09-03T13:12:55.173315Z"
    }
   },
   "outputs": [],
   "source": [
    "#padding\n",
    "max_length = 100\n",
    "X = pad_sequences(sequences, maxlen=max_length, padding='post')\n",
    "y = df_preprocessed['sentiment'].values\n",
    "\n",
    "# Dividir datos en conjunto de entrenamiento y prueba\n",
    "X_train, X_test, y_train, y_test = train_test_split(X, y, test_size=0.2, random_state=42)"
   ]
  },
  {
   "cell_type": "markdown",
   "metadata": {},
   "source": [
    "Embeddings de Glove"
   ]
  },
  {
   "cell_type": "code",
   "execution_count": 29,
   "metadata": {
    "ExecuteTime": {
     "end_time": "2025-09-03T13:12:55.845850Z",
     "start_time": "2025-09-03T13:12:55.836426Z"
    },
    "id": "5gdrRryrf5-c"
   },
   "outputs": [
    {
     "data": {
      "text/plain": [
       "\"glove_path = '/content/glove.6B.300d.txt'\\n\\n# Cargar embeddings de GloVe\\nembedding_index = {}\\nwith open(glove_path, 'r', encoding='utf-8') as f:\\n    for line in f:\\n        values = line.split()\\n        word = values[0]\\n        vector = np.asarray(values[1:], dtype='float32')\\n        embedding_index[word] = vector\\n\\n# Crear la matriz de embeddings\\n\\nembedding_matrix = np.zeros((vocab_size, embedding_dim))\\n\\nfor word, i in word_index.items():\\n    embedding_vector = embedding_index.get(word)\\n    if embedding_vector is not None:\\n        embedding_matrix[i] = embedding_vector\""
      ]
     },
     "execution_count": 29,
     "metadata": {},
     "output_type": "execute_result"
    }
   ],
   "source": [
    "# Cargar GloVe\n",
    "'''glove_path = '/content/glove.6B.300d.txt'\n",
    "\n",
    "# Cargar embeddings de GloVe\n",
    "embedding_index = {}\n",
    "with open(glove_path, 'r', encoding='utf-8') as f:\n",
    "    for line in f:\n",
    "        values = line.split()\n",
    "        word = values[0]\n",
    "        vector = np.asarray(values[1:], dtype='float32')\n",
    "        embedding_index[word] = vector\n",
    "\n",
    "# Crear la matriz de embeddings\n",
    "\n",
    "embedding_matrix = np.zeros((vocab_size, embedding_dim))\n",
    "\n",
    "for word, i in word_index.items():\n",
    "    embedding_vector = embedding_index.get(word)\n",
    "    if embedding_vector is not None:\n",
    "        embedding_matrix[i] = embedding_vector'''"
   ]
  },
  {
   "cell_type": "markdown",
   "metadata": {},
   "source": [
    "# Creación NN Sin Embeddings Preentrenados"
   ]
  },
  {
   "cell_type": "code",
   "execution_count": 34,
   "metadata": {
    "ExecuteTime": {
     "end_time": "2025-09-03T13:24:00.438393Z",
     "start_time": "2025-09-03T13:24:00.419168Z"
    }
   },
   "outputs": [],
   "source": [
    "embedding_dim = 100\n",
    "vocab_size = 50000"
   ]
  },
  {
   "cell_type": "code",
   "execution_count": 35,
   "metadata": {
    "ExecuteTime": {
     "end_time": "2025-09-03T13:24:03.795576Z",
     "start_time": "2025-09-03T13:24:03.265152Z"
    }
   },
   "outputs": [
    {
     "data": {
      "text/html": [
       "<pre style=\"white-space:pre;overflow-x:auto;line-height:normal;font-family:Menlo,'DejaVu Sans Mono',consolas,'Courier New',monospace\"><span style=\"font-weight: bold\">Model: \"sequential_1\"</span>\n",
       "</pre>\n"
      ],
      "text/plain": [
       "\u001b[1mModel: \"sequential_1\"\u001b[0m\n"
      ]
     },
     "metadata": {},
     "output_type": "display_data"
    },
    {
     "data": {
      "text/html": [
       "<pre style=\"white-space:pre;overflow-x:auto;line-height:normal;font-family:Menlo,'DejaVu Sans Mono',consolas,'Courier New',monospace\">┏━━━━━━━━━━━━━━━━━━━━━━━━━━━━━━━━━┳━━━━━━━━━━━━━━━━━━━━━━━━┳━━━━━━━━━━━━━━━┓\n",
       "┃<span style=\"font-weight: bold\"> Layer (type)                    </span>┃<span style=\"font-weight: bold\"> Output Shape           </span>┃<span style=\"font-weight: bold\">       Param # </span>┃\n",
       "┡━━━━━━━━━━━━━━━━━━━━━━━━━━━━━━━━━╇━━━━━━━━━━━━━━━━━━━━━━━━╇━━━━━━━━━━━━━━━┩\n",
       "│ embedding_1 (<span style=\"color: #0087ff; text-decoration-color: #0087ff\">Embedding</span>)         │ (<span style=\"color: #00d7ff; text-decoration-color: #00d7ff\">None</span>, <span style=\"color: #00af00; text-decoration-color: #00af00\">100</span>, <span style=\"color: #00af00; text-decoration-color: #00af00\">100</span>)       │     <span style=\"color: #00af00; text-decoration-color: #00af00\">5,000,000</span> │\n",
       "├─────────────────────────────────┼────────────────────────┼───────────────┤\n",
       "│ conv1d_1 (<span style=\"color: #0087ff; text-decoration-color: #0087ff\">Conv1D</span>)               │ (<span style=\"color: #00d7ff; text-decoration-color: #00d7ff\">None</span>, <span style=\"color: #00af00; text-decoration-color: #00af00\">96</span>, <span style=\"color: #00af00; text-decoration-color: #00af00\">128</span>)        │        <span style=\"color: #00af00; text-decoration-color: #00af00\">64,128</span> │\n",
       "├─────────────────────────────────┼────────────────────────┼───────────────┤\n",
       "│ lstm_1 (<span style=\"color: #0087ff; text-decoration-color: #0087ff\">LSTM</span>)                   │ (<span style=\"color: #00d7ff; text-decoration-color: #00d7ff\">None</span>, <span style=\"color: #00af00; text-decoration-color: #00af00\">128</span>)            │       <span style=\"color: #00af00; text-decoration-color: #00af00\">131,584</span> │\n",
       "├─────────────────────────────────┼────────────────────────┼───────────────┤\n",
       "│ dense_3 (<span style=\"color: #0087ff; text-decoration-color: #0087ff\">Dense</span>)                 │ (<span style=\"color: #00d7ff; text-decoration-color: #00d7ff\">None</span>, <span style=\"color: #00af00; text-decoration-color: #00af00\">64</span>)             │         <span style=\"color: #00af00; text-decoration-color: #00af00\">8,256</span> │\n",
       "├─────────────────────────────────┼────────────────────────┼───────────────┤\n",
       "│ dropout_1 (<span style=\"color: #0087ff; text-decoration-color: #0087ff\">Dropout</span>)             │ (<span style=\"color: #00d7ff; text-decoration-color: #00d7ff\">None</span>, <span style=\"color: #00af00; text-decoration-color: #00af00\">64</span>)             │             <span style=\"color: #00af00; text-decoration-color: #00af00\">0</span> │\n",
       "├─────────────────────────────────┼────────────────────────┼───────────────┤\n",
       "│ dense_4 (<span style=\"color: #0087ff; text-decoration-color: #0087ff\">Dense</span>)                 │ (<span style=\"color: #00d7ff; text-decoration-color: #00d7ff\">None</span>, <span style=\"color: #00af00; text-decoration-color: #00af00\">32</span>)             │         <span style=\"color: #00af00; text-decoration-color: #00af00\">2,080</span> │\n",
       "├─────────────────────────────────┼────────────────────────┼───────────────┤\n",
       "│ dense_5 (<span style=\"color: #0087ff; text-decoration-color: #0087ff\">Dense</span>)                 │ (<span style=\"color: #00d7ff; text-decoration-color: #00d7ff\">None</span>, <span style=\"color: #00af00; text-decoration-color: #00af00\">1</span>)              │            <span style=\"color: #00af00; text-decoration-color: #00af00\">33</span> │\n",
       "└─────────────────────────────────┴────────────────────────┴───────────────┘\n",
       "</pre>\n"
      ],
      "text/plain": [
       "┏━━━━━━━━━━━━━━━━━━━━━━━━━━━━━━━━━┳━━━━━━━━━━━━━━━━━━━━━━━━┳━━━━━━━━━━━━━━━┓\n",
       "┃\u001b[1m \u001b[0m\u001b[1mLayer (type)                   \u001b[0m\u001b[1m \u001b[0m┃\u001b[1m \u001b[0m\u001b[1mOutput Shape          \u001b[0m\u001b[1m \u001b[0m┃\u001b[1m \u001b[0m\u001b[1m      Param #\u001b[0m\u001b[1m \u001b[0m┃\n",
       "┡━━━━━━━━━━━━━━━━━━━━━━━━━━━━━━━━━╇━━━━━━━━━━━━━━━━━━━━━━━━╇━━━━━━━━━━━━━━━┩\n",
       "│ embedding_1 (\u001b[38;5;33mEmbedding\u001b[0m)         │ (\u001b[38;5;45mNone\u001b[0m, \u001b[38;5;34m100\u001b[0m, \u001b[38;5;34m100\u001b[0m)       │     \u001b[38;5;34m5,000,000\u001b[0m │\n",
       "├─────────────────────────────────┼────────────────────────┼───────────────┤\n",
       "│ conv1d_1 (\u001b[38;5;33mConv1D\u001b[0m)               │ (\u001b[38;5;45mNone\u001b[0m, \u001b[38;5;34m96\u001b[0m, \u001b[38;5;34m128\u001b[0m)        │        \u001b[38;5;34m64,128\u001b[0m │\n",
       "├─────────────────────────────────┼────────────────────────┼───────────────┤\n",
       "│ lstm_1 (\u001b[38;5;33mLSTM\u001b[0m)                   │ (\u001b[38;5;45mNone\u001b[0m, \u001b[38;5;34m128\u001b[0m)            │       \u001b[38;5;34m131,584\u001b[0m │\n",
       "├─────────────────────────────────┼────────────────────────┼───────────────┤\n",
       "│ dense_3 (\u001b[38;5;33mDense\u001b[0m)                 │ (\u001b[38;5;45mNone\u001b[0m, \u001b[38;5;34m64\u001b[0m)             │         \u001b[38;5;34m8,256\u001b[0m │\n",
       "├─────────────────────────────────┼────────────────────────┼───────────────┤\n",
       "│ dropout_1 (\u001b[38;5;33mDropout\u001b[0m)             │ (\u001b[38;5;45mNone\u001b[0m, \u001b[38;5;34m64\u001b[0m)             │             \u001b[38;5;34m0\u001b[0m │\n",
       "├─────────────────────────────────┼────────────────────────┼───────────────┤\n",
       "│ dense_4 (\u001b[38;5;33mDense\u001b[0m)                 │ (\u001b[38;5;45mNone\u001b[0m, \u001b[38;5;34m32\u001b[0m)             │         \u001b[38;5;34m2,080\u001b[0m │\n",
       "├─────────────────────────────────┼────────────────────────┼───────────────┤\n",
       "│ dense_5 (\u001b[38;5;33mDense\u001b[0m)                 │ (\u001b[38;5;45mNone\u001b[0m, \u001b[38;5;34m1\u001b[0m)              │            \u001b[38;5;34m33\u001b[0m │\n",
       "└─────────────────────────────────┴────────────────────────┴───────────────┘\n"
      ]
     },
     "metadata": {},
     "output_type": "display_data"
    },
    {
     "data": {
      "text/html": [
       "<pre style=\"white-space:pre;overflow-x:auto;line-height:normal;font-family:Menlo,'DejaVu Sans Mono',consolas,'Courier New',monospace\"><span style=\"font-weight: bold\"> Total params: </span><span style=\"color: #00af00; text-decoration-color: #00af00\">5,206,081</span> (19.86 MB)\n",
       "</pre>\n"
      ],
      "text/plain": [
       "\u001b[1m Total params: \u001b[0m\u001b[38;5;34m5,206,081\u001b[0m (19.86 MB)\n"
      ]
     },
     "metadata": {},
     "output_type": "display_data"
    },
    {
     "data": {
      "text/html": [
       "<pre style=\"white-space:pre;overflow-x:auto;line-height:normal;font-family:Menlo,'DejaVu Sans Mono',consolas,'Courier New',monospace\"><span style=\"font-weight: bold\"> Trainable params: </span><span style=\"color: #00af00; text-decoration-color: #00af00\">5,206,081</span> (19.86 MB)\n",
       "</pre>\n"
      ],
      "text/plain": [
       "\u001b[1m Trainable params: \u001b[0m\u001b[38;5;34m5,206,081\u001b[0m (19.86 MB)\n"
      ]
     },
     "metadata": {},
     "output_type": "display_data"
    },
    {
     "data": {
      "text/html": [
       "<pre style=\"white-space:pre;overflow-x:auto;line-height:normal;font-family:Menlo,'DejaVu Sans Mono',consolas,'Courier New',monospace\"><span style=\"font-weight: bold\"> Non-trainable params: </span><span style=\"color: #00af00; text-decoration-color: #00af00\">0</span> (0.00 B)\n",
       "</pre>\n"
      ],
      "text/plain": [
       "\u001b[1m Non-trainable params: \u001b[0m\u001b[38;5;34m0\u001b[0m (0.00 B)\n"
      ]
     },
     "metadata": {},
     "output_type": "display_data"
    }
   ],
   "source": [
    "model = Sequential([\n",
    "    Input(shape=(max_length,)),\n",
    "    Embedding(input_dim=vocab_size, output_dim=embedding_dim, trainable=True), #Embedings\n",
    "    Conv1D(128, 5, activation='relu'),  #Convoluciones de 5 ngramas\n",
    "    LSTM(128, return_sequences=False),  #Dependencias más largas\n",
    "    #GlobalMaxPooling1D(),               #Activadores para priorizar relaciónes\n",
    "    Dense(64, activation='relu'),       #Capa densa\n",
    "    Dropout(0.2),                       #Evitar overfitting\n",
    "    Dense(32, activation='relu'),       #Refina salida\n",
    "    Dense(1, activation='sigmoid')  # Salida\n",
    "])\n",
    "\n",
    "model.compile(optimizer='adam', loss='binary_crossentropy', metrics=['accuracy'])\n",
    "model.build(input_shape=(None, max_length))\n",
    "model.summary()"
   ]
  },
  {
   "cell_type": "code",
   "execution_count": 36,
   "metadata": {
    "ExecuteTime": {
     "end_time": "2025-09-03T14:06:24.308373Z",
     "start_time": "2025-09-03T13:24:08.132748Z"
    }
   },
   "outputs": [
    {
     "name": "stdout",
     "output_type": "stream",
     "text": [
      "Epoch 1/10\n",
      "\u001b[1m500/500\u001b[0m \u001b[32m━━━━━━━━━━━━━━━━━━━━\u001b[0m\u001b[37m\u001b[0m \u001b[1m217s\u001b[0m 424ms/step - accuracy: 0.7566 - loss: 0.4851 - val_accuracy: 0.8624 - val_loss: 0.3257\n",
      "Epoch 2/10\n",
      "\u001b[1m500/500\u001b[0m \u001b[32m━━━━━━━━━━━━━━━━━━━━\u001b[0m\u001b[37m\u001b[0m \u001b[1m266s\u001b[0m 433ms/step - accuracy: 0.9117 - loss: 0.2430 - val_accuracy: 0.8626 - val_loss: 0.3141\n",
      "Epoch 3/10\n",
      "\u001b[1m500/500\u001b[0m \u001b[32m━━━━━━━━━━━━━━━━━━━━\u001b[0m\u001b[37m\u001b[0m \u001b[1m264s\u001b[0m 437ms/step - accuracy: 0.9507 - loss: 0.1511 - val_accuracy: 0.8601 - val_loss: 0.4189\n",
      "Epoch 4/10\n",
      "\u001b[1m500/500\u001b[0m \u001b[32m━━━━━━━━━━━━━━━━━━━━\u001b[0m\u001b[37m\u001b[0m \u001b[1m287s\u001b[0m 487ms/step - accuracy: 0.9725 - loss: 0.0898 - val_accuracy: 0.8629 - val_loss: 0.4788\n",
      "Epoch 5/10\n",
      "\u001b[1m500/500\u001b[0m \u001b[32m━━━━━━━━━━━━━━━━━━━━\u001b[0m\u001b[37m\u001b[0m \u001b[1m232s\u001b[0m 465ms/step - accuracy: 0.9848 - loss: 0.0551 - val_accuracy: 0.8625 - val_loss: 0.5871\n",
      "Epoch 6/10\n",
      "\u001b[1m500/500\u001b[0m \u001b[32m━━━━━━━━━━━━━━━━━━━━\u001b[0m\u001b[37m\u001b[0m \u001b[1m227s\u001b[0m 455ms/step - accuracy: 0.9862 - loss: 0.0474 - val_accuracy: 0.8543 - val_loss: 0.5423\n",
      "Epoch 7/10\n",
      "\u001b[1m500/500\u001b[0m \u001b[32m━━━━━━━━━━━━━━━━━━━━\u001b[0m\u001b[37m\u001b[0m \u001b[1m230s\u001b[0m 460ms/step - accuracy: 0.9909 - loss: 0.0336 - val_accuracy: 0.8526 - val_loss: 0.6323\n",
      "Epoch 8/10\n",
      "\u001b[1m500/500\u001b[0m \u001b[32m━━━━━━━━━━━━━━━━━━━━\u001b[0m\u001b[37m\u001b[0m \u001b[1m278s\u001b[0m 556ms/step - accuracy: 0.9937 - loss: 0.0253 - val_accuracy: 0.8521 - val_loss: 0.6452\n",
      "Epoch 9/10\n",
      "\u001b[1m500/500\u001b[0m \u001b[32m━━━━━━━━━━━━━━━━━━━━\u001b[0m\u001b[37m\u001b[0m \u001b[1m285s\u001b[0m 570ms/step - accuracy: 0.9933 - loss: 0.0252 - val_accuracy: 0.8487 - val_loss: 0.5884\n",
      "Epoch 10/10\n",
      "\u001b[1m500/500\u001b[0m \u001b[32m━━━━━━━━━━━━━━━━━━━━\u001b[0m\u001b[37m\u001b[0m \u001b[1m250s\u001b[0m 499ms/step - accuracy: 0.9930 - loss: 0.0269 - val_accuracy: 0.8544 - val_loss: 0.6986\n"
     ]
    }
   ],
   "source": [
    "# Entrenar el modelo\n",
    "history = model.fit(X_train, y_train, epochs=10, batch_size=64, validation_split=0.2, verbose=1)\n"
   ]
  },
  {
   "cell_type": "code",
   "execution_count": 38,
   "metadata": {
    "ExecuteTime": {
     "end_time": "2025-09-03T14:07:40.659816Z",
     "start_time": "2025-09-03T14:07:20.063853Z"
    },
    "colab": {
     "base_uri": "https://localhost:8080/",
     "height": 585
    },
    "id": "NE2PeReZvG8Y",
    "outputId": "339fe34e-1ac3-43e7-9458-b4b5f9756caa"
   },
   "outputs": [
    {
     "name": "stdout",
     "output_type": "stream",
     "text": [
      "\u001b[1m313/313\u001b[0m \u001b[32m━━━━━━━━━━━━━━━━━━━━\u001b[0m\u001b[37m\u001b[0m \u001b[1m20s\u001b[0m 65ms/step\n",
      "Accuracy on test set: 0.8596\n"
     ]
    }
   ],
   "source": [
    "# Evaluar el modelo\n",
    "y_pred = (model.predict(X_test) > 0.5).astype(\"int32\")  # Convert probabilities to 0 or 1\n",
    "accuracy = accuracy_score(y_test, y_pred)\n",
    "print(f\"Accuracy on test set: {accuracy}\")"
   ]
  },
  {
   "cell_type": "code",
   "execution_count": 36,
   "metadata": {
    "ExecuteTime": {
     "end_time": "2025-09-03T13:23:46.667352100Z",
     "start_time": "2025-09-03T02:14:07.416550Z"
    },
    "colab": {
     "base_uri": "https://localhost:8080/"
    },
    "id": "xRUztrF7sxDe",
    "outputId": "18f2d0e5-e58a-46a7-be72-a4cbede0c084"
   },
   "outputs": [
    {
     "name": "stdout",
     "output_type": "stream",
     "text": [
      "\u001b[1m313/313\u001b[0m \u001b[32m━━━━━━━━━━━━━━━━━━━━\u001b[0m\u001b[37m\u001b[0m \u001b[1m27s\u001b[0m 86ms/step\n"
     ]
    }
   ],
   "source": [
    "# Hacer predicciones\n",
    "y_predlr = model.predict(X_test)\n"
   ]
  },
  {
   "cell_type": "code",
   "execution_count": 38,
   "metadata": {
    "ExecuteTime": {
     "end_time": "2025-09-03T13:23:46.667352100Z",
     "start_time": "2025-09-03T02:15:32.308733Z"
    },
    "colab": {
     "base_uri": "https://localhost:8080/"
    },
    "id": "-PPiTbkwxB6E",
    "outputId": "03ef6e6d-7d84-4a78-b0c5-f5e863005e81"
   },
   "outputs": [
    {
     "data": {
      "text/plain": [
       "array([[0],\n",
       "       [1],\n",
       "       [0],\n",
       "       ...,\n",
       "       [1],\n",
       "       [0],\n",
       "       [1]], shape=(10000, 1))"
      ]
     },
     "execution_count": 38,
     "metadata": {},
     "output_type": "execute_result"
    }
   ],
   "source": [
    "# prompt: quiero convertir a y_predlr a cuanto el resutado sea mayor a 0.49 sea 1 y menor a o igual a 0\n",
    "\n",
    "# Convertir las probabilidades a 0 o 1 según el umbral de 0.49\n",
    "y_pred_binary = (y_predlr > 0.49).astype(int)\n",
    "\n",
    "y_pred_binary"
   ]
  },
  {
   "cell_type": "code",
   "execution_count": 62,
   "metadata": {
    "colab": {
     "base_uri": "https://localhost:8080/"
    },
    "id": "RWTdGJ9_xjKb",
    "outputId": "781bf5b8-5daa-478b-c04c-cf5828a9bdba"
   },
   "outputs": [
    {
     "name": "stdout",
     "output_type": "stream",
     "text": [
      "Palabras clave positivas:\n",
      "final     0.102537\n",
      "music     0.102390\n",
      "live      0.045594\n",
      "got       0.042636\n",
      "try       0.041428\n",
      "group     0.041264\n",
      "stupid    0.040604\n",
      "child     0.039112\n",
      "rest      0.034448\n",
      "matter    0.032481\n",
      "dtype: float64\n",
      "\n",
      "Palabras clave negativas:\n",
      "movie        0.115430\n",
      "film         0.093163\n",
      "like         0.052624\n",
      "bad          0.043443\n",
      "character    0.040691\n",
      "good         0.040622\n",
      "time         0.039833\n",
      "really       0.037147\n",
      "make         0.036157\n",
      "story        0.034525\n",
      "dtype: float64\n"
     ]
    }
   ],
   "source": [
    "from sklearn.feature_extraction.text import TfidfVectorizer\n",
    "import pandas as pd\n",
    "\n",
    "# Dividir los textos en positivos y negativos\n",
    "positive_reviews = df[df['sentiment'] == 1]['review']\n",
    "negative_reviews = df[df['sentiment'] == 0]['review']\n",
    "\n",
    "# Vectorizar usando TF-IDF\n",
    "tfidf = TfidfVectorizer(max_features=500, stop_words='english')\n",
    "positive_matrix = tfidf.fit_transform(positive_reviews)\n",
    "negative_matrix = tfidf.fit_transform(negative_reviews)\n",
    "\n",
    "# Extraer vocabulario y puntajes\n",
    "positive_scores = pd.DataFrame(\n",
    "    positive_matrix.toarray(), columns=tfidf.get_feature_names_out()\n",
    ").mean().sort_values(ascending=False)\n",
    "\n",
    "negative_scores = pd.DataFrame(\n",
    "    negative_matrix.toarray(), columns=tfidf.get_feature_names_out()\n",
    ").mean().sort_values(ascending=False)\n",
    "\n",
    "# Mostrar las palabras más representativas\n",
    "print(\"Palabras clave positivas:\")\n",
    "print(positive_scores.head(10))\n",
    "\n",
    "print(\"\\nPalabras clave negativas:\")\n",
    "print(negative_scores.head(10))\n"
   ]
  },
  {
   "cell_type": "code",
   "execution_count": 63,
   "metadata": {
    "colab": {
     "base_uri": "https://localhost:8080/"
    },
    "id": "IKKeKw3Sx6aD",
    "outputId": "90226aff-e61a-46cb-907f-5b037587263c"
   },
   "outputs": [
    {
     "name": "stdout",
     "output_type": "stream",
     "text": [
      "Promedio de menciones por polaridad:\n",
      "            acting     plot  visuals    music\n",
      "sentiment                                    \n",
      "0          0.79188  0.62360  0.06932  0.15532\n",
      "1          0.77900  0.58636  0.09544  0.23020\n"
     ]
    }
   ],
   "source": [
    "# Listas de palabras clave por aspecto\n",
    "aspects = {\n",
    "    'acting': ['acting', 'performance', 'actor', 'actress', 'cast'],\n",
    "    'plot': ['plot', 'story', 'narrative', 'screenplay'],\n",
    "    'visuals': ['visual', 'effects', 'cinematography', 'scenes', 'special effects'],\n",
    "    'music': ['music', 'soundtrack', 'score', 'audio']\n",
    "}\n",
    "\n",
    "# Función para contar ocurrencias de palabras clave en un texto\n",
    "def count_aspect_mentions(text, aspect_keywords):\n",
    "    text = text.lower()  # Convertir a minúsculas\n",
    "    return sum(1 for word in aspect_keywords if word in text)\n",
    "\n",
    "# Crear columnas para cada aspecto\n",
    "for aspect, keywords in aspects.items():\n",
    "    df[aspect] = df['review'].apply(lambda x: count_aspect_mentions(x, keywords))\n",
    "\n",
    "# Promediar menciones por polaridad\n",
    "aspect_summary = df.groupby('sentiment')[list(aspects.keys())].mean()\n",
    "\n",
    "print(\"Promedio de menciones por polaridad:\")\n",
    "print(aspect_summary)\n"
   ]
  },
  {
   "cell_type": "code",
   "execution_count": 39,
   "metadata": {
    "ExecuteTime": {
     "end_time": "2025-09-03T13:23:46.718653300Z",
     "start_time": "2025-09-03T02:15:59.092838Z"
    },
    "colab": {
     "base_uri": "https://localhost:8080/"
    },
    "id": "ke3SVJ9QtClX",
    "outputId": "75c66386-be5a-45f5-a322-1f2ef01a2175"
   },
   "outputs": [
    {
     "name": "stdout",
     "output_type": "stream",
     "text": [
      "              precision    recall  f1-score   support\n",
      "\n",
      "           0       0.86      0.88      0.87      4961\n",
      "           1       0.88      0.86      0.87      5039\n",
      "\n",
      "    accuracy                           0.87     10000\n",
      "   macro avg       0.87      0.87      0.87     10000\n",
      "weighted avg       0.87      0.87      0.87     10000\n",
      "\n",
      "[[4372  589]\n",
      " [ 722 4317]]\n",
      "Accuracy: 0.8689\n"
     ]
    }
   ],
   "source": [
    "from sklearn.metrics import classification_report, confusion_matrix, accuracy_score\n",
    "\n",
    "# Evaluate the model\n",
    "print(classification_report(y_test, y_pred_binary))\n",
    "print(confusion_matrix(y_test, y_pred_binary))\n",
    "print(f\"Accuracy: {accuracy_score(y_test, y_pred_binary)}\")"
   ]
  },
  {
   "cell_type": "code",
   "execution_count": 41,
   "metadata": {
    "ExecuteTime": {
     "end_time": "2025-09-03T13:23:46.735699600Z",
     "start_time": "2025-09-03T02:19:06.517906Z"
    },
    "colab": {
     "base_uri": "https://localhost:8080/",
     "height": 564
    },
    "id": "QVEghONQzX1y",
    "outputId": "17db7a6f-ddb4-4e2f-810c-8218785331ca"
   },
   "outputs": [
    {
     "data": {
      "image/png": "[encoded data removed]",
      "text/plain": [
       "<Figure size 800x600 with 2 Axes>"
      ]
     },
     "metadata": {},
     "output_type": "display_data"
    }
   ],
   "source": [
    "# prompt: GENERA MATRIZ DE CONFUNSION DE MANERA VISUAL\n",
    "\n",
    "import matplotlib.pyplot as plt\n",
    "import seaborn as sns\n",
    "from sklearn.metrics import confusion_matrix\n",
    "\n",
    "# ... (Your existing code) ...\n",
    "\n",
    "# Assuming y_test and y_pred_binary are defined from your model's prediction\n",
    "cm = confusion_matrix(y_test, y_pred_binary)\n",
    "\n",
    "# Visualize the confusion matrix\n",
    "plt.figure(figsize=(8, 6))\n",
    "sns.heatmap(cm, annot=True, fmt='d', cmap='Blues',\n",
    "            xticklabels=['Negative', 'Positive'],\n",
    "            yticklabels=['Negative', 'Positive'])\n",
    "plt.xlabel('Predicted')\n",
    "plt.ylabel('True')\n",
    "plt.title('Confusion Matrix')\n",
    "plt.show()"
   ]
  },
  {
   "cell_type": "code",
   "execution_count": 42,
   "metadata": {
    "ExecuteTime": {
     "end_time": "2025-09-03T13:23:46.742745100Z",
     "start_time": "2025-09-03T02:21:00.685034Z"
    },
    "colab": {
     "base_uri": "https://localhost:8080/",
     "height": 472
    },
    "id": "cXKfxMy_yaGN",
    "outputId": "81172d7c-6c1c-488a-d9c8-c9b90099d1e8"
   },
   "outputs": [
    {
     "data": {
      "image/png": "[encoded data removed]",
      "text/plain": [
       "<Figure size 640x480 with 1 Axes>"
      ]
     },
     "metadata": {},
     "output_type": "display_data"
    }
   ],
   "source": [
    "# prompt: genera Curvas ROC Para evaluar la capacidad del modelo para diferenciar entre clases positivas y negativas.\n",
    "\n",
    "from sklearn.metrics import roc_curve, auc\n",
    "#from sklearn.metrics import classification_report, confusion_matrix, accuracy_score\n",
    "\n",
    "\n",
    "\n",
    "# Assuming y_test contains the true labels and y_predlr contains predicted probabilities\n",
    "fpr, tpr, thresholds = roc_curve(y_test, y_predlr)\n",
    "roc_auc = auc(fpr, tpr)\n",
    "\n",
    "plt.figure()\n",
    "plt.plot(fpr, tpr, color='darkorange', lw=2, label='ROC curve (area = %0.2f)' % roc_auc)\n",
    "plt.plot([0, 1], [0, 1], color='navy', lw=2, linestyle='--')\n",
    "plt.xlim([0.0, 1.0])\n",
    "plt.ylim([0.0, 1.05])\n",
    "plt.xlabel('False Positive Rate')\n",
    "plt.ylabel('True Positive Rate')\n",
    "plt.title('Receiver Operating Characteristic')\n",
    "plt.legend(loc=\"lower right\")\n",
    "plt.show()"
   ]
  },
  {
   "cell_type": "code",
   "execution_count": 39,
   "metadata": {
    "ExecuteTime": {
     "end_time": "2025-09-03T14:13:37.415630Z",
     "start_time": "2025-09-03T14:13:35.063599Z"
    }
   },
   "outputs": [
    {
     "data": {
      "image/png": "[encoded data removed]",
      "text/plain": [
       "<Figure size 640x480 with 1 Axes>"
      ]
     },
     "metadata": {},
     "output_type": "display_data"
    },
    {
     "data": {
      "image/png": "[encoded data removed]",
      "text/plain": [
       "<Figure size 640x480 with 1 Axes>"
      ]
     },
     "metadata": {},
     "output_type": "display_data"
    }
   ],
   "source": [
    "import matplotlib.pyplot as plt\n",
    "\n",
    "# Gráfico de pérdida\n",
    "plt.plot(history.history['loss'], label='Entrenamiento')\n",
    "plt.plot(history.history['val_loss'], label='Validación')\n",
    "plt.title('Evolución de la pérdida')\n",
    "plt.xlabel('Épocas')\n",
    "plt.ylabel('Loss')\n",
    "plt.legend()\n",
    "plt.show()\n",
    "\n",
    "# Gráfico de accuracy (si lo tienes en metrics)\n",
    "if 'accuracy' in history.history:\n",
    "    plt.plot(history.history['accuracy'], label='Entrenamiento')\n",
    "    plt.plot(history.history['val_accuracy'], label='Validación')\n",
    "    plt.title('Evolución del accuracy')\n",
    "    plt.xlabel('Épocas')\n",
    "    plt.ylabel('Accuracy')\n",
    "    plt.legend()\n",
    "    plt.show()\n"
   ]
  },
  {
   "cell_type": "code",
   "execution_count": 45,
   "metadata": {
    "ExecuteTime": {
     "end_time": "2025-09-03T13:23:46.755941800Z",
     "start_time": "2025-09-03T02:50:03.215767Z"
    }
   },
   "outputs": [
    {
     "data": {
      "text/plain": [
       "(50000, 2)"
      ]
     },
     "execution_count": 45,
     "metadata": {},
     "output_type": "execute_result"
    }
   ],
   "source": [
    "df.shape"
   ]
  }
 ],
 "metadata": {
  "colab": {
   "provenance": []
  },
  "kernelspec": {
   "display_name": ".venv (3.11.9)",
   "language": "python",
   "name": "python3"
  },
  "language_info": {
   "codemirror_mode": {
    "name": "ipython",
    "version": 3
   },
   "file_extension": ".py",
   "mimetype": "text/x-python",
   "name": "python",
   "nbconvert_exporter": "python",
   "pygments_lexer": "ipython3",
   "version": "3.11.9"
  }
 },
 "nbformat": 4,
 "nbformat_minor": 0
}
